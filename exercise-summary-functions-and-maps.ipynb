{
 "cells": [
  {
   "cell_type": "markdown",
   "id": "cc89320b",
   "metadata": {
    "papermill": {
     "duration": 0.027009,
     "end_time": "2022-01-15T08:03:11.695324",
     "exception": false,
     "start_time": "2022-01-15T08:03:11.668315",
     "status": "completed"
    },
    "tags": []
   },
   "source": [
    "**This notebook is an exercise in the [Pandas](https://www.kaggle.com/learn/pandas) course.  You can reference the tutorial at [this link](https://www.kaggle.com/residentmario/summary-functions-and-maps).**\n",
    "\n",
    "---\n"
   ]
  },
  {
   "cell_type": "markdown",
   "id": "2613bf08",
   "metadata": {
    "papermill": {
     "duration": 0.02118,
     "end_time": "2022-01-15T08:03:11.741263",
     "exception": false,
     "start_time": "2022-01-15T08:03:11.720083",
     "status": "completed"
    },
    "tags": []
   },
   "source": [
    "# Introduction\n",
    "\n",
    "Now you are ready to get a deeper understanding of your data.\n",
    "\n",
    "Run the following cell to load your data and some utility functions (including code to check your answers)."
   ]
  },
  {
   "cell_type": "code",
   "execution_count": 1,
   "id": "61f3f0b9",
   "metadata": {
    "execution": {
     "iopub.execute_input": "2022-01-15T08:03:11.793808Z",
     "iopub.status.busy": "2022-01-15T08:03:11.792586Z",
     "iopub.status.idle": "2022-01-15T08:03:19.838557Z",
     "shell.execute_reply": "2022-01-15T08:03:19.839116Z",
     "shell.execute_reply.started": "2022-01-15T07:56:11.435426Z"
    },
    "papermill": {
     "duration": 8.074718,
     "end_time": "2022-01-15T08:03:19.839435",
     "exception": false,
     "start_time": "2022-01-15T08:03:11.764717",
     "status": "completed"
    },
    "tags": []
   },
   "outputs": [
    {
     "name": "stdout",
     "output_type": "stream",
     "text": [
      "Setup complete.\n"
     ]
    },
    {
     "data": {
      "text/html": [
       "<div>\n",
       "<style scoped>\n",
       "    .dataframe tbody tr th:only-of-type {\n",
       "        vertical-align: middle;\n",
       "    }\n",
       "\n",
       "    .dataframe tbody tr th {\n",
       "        vertical-align: top;\n",
       "    }\n",
       "\n",
       "    .dataframe thead th {\n",
       "        text-align: right;\n",
       "    }\n",
       "</style>\n",
       "<table border=\"1\" class=\"dataframe\">\n",
       "  <thead>\n",
       "    <tr style=\"text-align: right;\">\n",
       "      <th></th>\n",
       "      <th>country</th>\n",
       "      <th>description</th>\n",
       "      <th>designation</th>\n",
       "      <th>points</th>\n",
       "      <th>price</th>\n",
       "      <th>province</th>\n",
       "      <th>region_1</th>\n",
       "      <th>region_2</th>\n",
       "      <th>taster_name</th>\n",
       "      <th>taster_twitter_handle</th>\n",
       "      <th>title</th>\n",
       "      <th>variety</th>\n",
       "      <th>winery</th>\n",
       "    </tr>\n",
       "  </thead>\n",
       "  <tbody>\n",
       "    <tr>\n",
       "      <th>0</th>\n",
       "      <td>Italy</td>\n",
       "      <td>Aromas include tropical fruit, broom, brimston...</td>\n",
       "      <td>Vulkà Bianco</td>\n",
       "      <td>87</td>\n",
       "      <td>NaN</td>\n",
       "      <td>Sicily &amp; Sardinia</td>\n",
       "      <td>Etna</td>\n",
       "      <td>NaN</td>\n",
       "      <td>Kerin O’Keefe</td>\n",
       "      <td>@kerinokeefe</td>\n",
       "      <td>Nicosia 2013 Vulkà Bianco  (Etna)</td>\n",
       "      <td>White Blend</td>\n",
       "      <td>Nicosia</td>\n",
       "    </tr>\n",
       "    <tr>\n",
       "      <th>1</th>\n",
       "      <td>Portugal</td>\n",
       "      <td>This is ripe and fruity, a wine that is smooth...</td>\n",
       "      <td>Avidagos</td>\n",
       "      <td>87</td>\n",
       "      <td>15.0</td>\n",
       "      <td>Douro</td>\n",
       "      <td>NaN</td>\n",
       "      <td>NaN</td>\n",
       "      <td>Roger Voss</td>\n",
       "      <td>@vossroger</td>\n",
       "      <td>Quinta dos Avidagos 2011 Avidagos Red (Douro)</td>\n",
       "      <td>Portuguese Red</td>\n",
       "      <td>Quinta dos Avidagos</td>\n",
       "    </tr>\n",
       "    <tr>\n",
       "      <th>2</th>\n",
       "      <td>US</td>\n",
       "      <td>Tart and snappy, the flavors of lime flesh and...</td>\n",
       "      <td>NaN</td>\n",
       "      <td>87</td>\n",
       "      <td>14.0</td>\n",
       "      <td>Oregon</td>\n",
       "      <td>Willamette Valley</td>\n",
       "      <td>Willamette Valley</td>\n",
       "      <td>Paul Gregutt</td>\n",
       "      <td>@paulgwine</td>\n",
       "      <td>Rainstorm 2013 Pinot Gris (Willamette Valley)</td>\n",
       "      <td>Pinot Gris</td>\n",
       "      <td>Rainstorm</td>\n",
       "    </tr>\n",
       "    <tr>\n",
       "      <th>3</th>\n",
       "      <td>US</td>\n",
       "      <td>Pineapple rind, lemon pith and orange blossom ...</td>\n",
       "      <td>Reserve Late Harvest</td>\n",
       "      <td>87</td>\n",
       "      <td>13.0</td>\n",
       "      <td>Michigan</td>\n",
       "      <td>Lake Michigan Shore</td>\n",
       "      <td>NaN</td>\n",
       "      <td>Alexander Peartree</td>\n",
       "      <td>NaN</td>\n",
       "      <td>St. Julian 2013 Reserve Late Harvest Riesling ...</td>\n",
       "      <td>Riesling</td>\n",
       "      <td>St. Julian</td>\n",
       "    </tr>\n",
       "    <tr>\n",
       "      <th>4</th>\n",
       "      <td>US</td>\n",
       "      <td>Much like the regular bottling from 2012, this...</td>\n",
       "      <td>Vintner's Reserve Wild Child Block</td>\n",
       "      <td>87</td>\n",
       "      <td>65.0</td>\n",
       "      <td>Oregon</td>\n",
       "      <td>Willamette Valley</td>\n",
       "      <td>Willamette Valley</td>\n",
       "      <td>Paul Gregutt</td>\n",
       "      <td>@paulgwine</td>\n",
       "      <td>Sweet Cheeks 2012 Vintner's Reserve Wild Child...</td>\n",
       "      <td>Pinot Noir</td>\n",
       "      <td>Sweet Cheeks</td>\n",
       "    </tr>\n",
       "  </tbody>\n",
       "</table>\n",
       "</div>"
      ],
      "text/plain": [
       "    country                                        description  \\\n",
       "0     Italy  Aromas include tropical fruit, broom, brimston...   \n",
       "1  Portugal  This is ripe and fruity, a wine that is smooth...   \n",
       "2        US  Tart and snappy, the flavors of lime flesh and...   \n",
       "3        US  Pineapple rind, lemon pith and orange blossom ...   \n",
       "4        US  Much like the regular bottling from 2012, this...   \n",
       "\n",
       "                          designation  points  price           province  \\\n",
       "0                        Vulkà Bianco      87    NaN  Sicily & Sardinia   \n",
       "1                            Avidagos      87   15.0              Douro   \n",
       "2                                 NaN      87   14.0             Oregon   \n",
       "3                Reserve Late Harvest      87   13.0           Michigan   \n",
       "4  Vintner's Reserve Wild Child Block      87   65.0             Oregon   \n",
       "\n",
       "              region_1           region_2         taster_name  \\\n",
       "0                 Etna                NaN       Kerin O’Keefe   \n",
       "1                  NaN                NaN          Roger Voss   \n",
       "2    Willamette Valley  Willamette Valley        Paul Gregutt   \n",
       "3  Lake Michigan Shore                NaN  Alexander Peartree   \n",
       "4    Willamette Valley  Willamette Valley        Paul Gregutt   \n",
       "\n",
       "  taster_twitter_handle                                              title  \\\n",
       "0          @kerinokeefe                  Nicosia 2013 Vulkà Bianco  (Etna)   \n",
       "1            @vossroger      Quinta dos Avidagos 2011 Avidagos Red (Douro)   \n",
       "2           @paulgwine       Rainstorm 2013 Pinot Gris (Willamette Valley)   \n",
       "3                   NaN  St. Julian 2013 Reserve Late Harvest Riesling ...   \n",
       "4           @paulgwine   Sweet Cheeks 2012 Vintner's Reserve Wild Child...   \n",
       "\n",
       "          variety               winery  \n",
       "0     White Blend              Nicosia  \n",
       "1  Portuguese Red  Quinta dos Avidagos  \n",
       "2      Pinot Gris            Rainstorm  \n",
       "3        Riesling           St. Julian  \n",
       "4      Pinot Noir         Sweet Cheeks  "
      ]
     },
     "execution_count": 1,
     "metadata": {},
     "output_type": "execute_result"
    }
   ],
   "source": [
    "import pandas as pd\n",
    "pd.set_option(\"display.max_rows\", 5)\n",
    "reviews = pd.read_csv(\"../input/wine-reviews/winemag-data-130k-v2.csv\", index_col=0)\n",
    "\n",
    "from learntools.core import binder; binder.bind(globals())\n",
    "from learntools.pandas.summary_functions_and_maps import *\n",
    "print(\"Setup complete.\")\n",
    "\n",
    "reviews.head()"
   ]
  },
  {
   "cell_type": "markdown",
   "id": "93e52d3d",
   "metadata": {
    "papermill": {
     "duration": 0.020882,
     "end_time": "2022-01-15T08:03:19.882540",
     "exception": false,
     "start_time": "2022-01-15T08:03:19.861658",
     "status": "completed"
    },
    "tags": []
   },
   "source": [
    "# Exercises"
   ]
  },
  {
   "cell_type": "markdown",
   "id": "46c91830",
   "metadata": {
    "papermill": {
     "duration": 0.020934,
     "end_time": "2022-01-15T08:03:19.924538",
     "exception": false,
     "start_time": "2022-01-15T08:03:19.903604",
     "status": "completed"
    },
    "tags": []
   },
   "source": [
    "## 1.\n",
    "\n",
    "What is the median of the `points` column in the `reviews` DataFrame?"
   ]
  },
  {
   "cell_type": "code",
   "execution_count": 2,
   "id": "426c06a3",
   "metadata": {
    "execution": {
     "iopub.execute_input": "2022-01-15T08:03:19.972388Z",
     "iopub.status.busy": "2022-01-15T08:03:19.971352Z",
     "iopub.status.idle": "2022-01-15T08:03:19.981994Z",
     "shell.execute_reply": "2022-01-15T08:03:19.982468Z",
     "shell.execute_reply.started": "2022-01-15T07:56:19.675728Z"
    },
    "papermill": {
     "duration": 0.03631,
     "end_time": "2022-01-15T08:03:19.982645",
     "exception": false,
     "start_time": "2022-01-15T08:03:19.946335",
     "status": "completed"
    },
    "tags": []
   },
   "outputs": [
    {
     "data": {
      "application/javascript": [
       "parent.postMessage({\"jupyterEvent\": \"custom.exercise_interaction\", \"data\": {\"outcomeType\": 1, \"valueTowardsCompletion\": 0.14285714285714285, \"interactionType\": 1, \"questionType\": 1, \"questionId\": \"1_MedianPoints\", \"learnToolsVersion\": \"0.3.4\", \"failureMessage\": \"\", \"exceptionClass\": \"\", \"trace\": \"\"}}, \"*\")"
      ],
      "text/plain": [
       "<IPython.core.display.Javascript object>"
      ]
     },
     "metadata": {},
     "output_type": "display_data"
    },
    {
     "data": {
      "text/markdown": [
       "<span style=\"color:#33cc33\">Correct</span>"
      ],
      "text/plain": [
       "Correct"
      ]
     },
     "metadata": {},
     "output_type": "display_data"
    },
    {
     "name": "stdout",
     "output_type": "stream",
     "text": [
      "Median of reviews is  88.0\n"
     ]
    }
   ],
   "source": [
    "median_points = reviews.points.median()\n",
    "\n",
    "# Check your answer\n",
    "q1.check()\n",
    "print(\"Median of reviews is \",median_points)"
   ]
  },
  {
   "cell_type": "code",
   "execution_count": 3,
   "id": "c104dd68",
   "metadata": {
    "execution": {
     "iopub.execute_input": "2022-01-15T08:03:20.036495Z",
     "iopub.status.busy": "2022-01-15T08:03:20.035553Z",
     "iopub.status.idle": "2022-01-15T08:03:20.038485Z",
     "shell.execute_reply": "2022-01-15T08:03:20.037857Z",
     "shell.execute_reply.started": "2022-01-15T07:56:19.688860Z"
    },
    "papermill": {
     "duration": 0.033157,
     "end_time": "2022-01-15T08:03:20.038629",
     "exception": false,
     "start_time": "2022-01-15T08:03:20.005472",
     "status": "completed"
    },
    "tags": []
   },
   "outputs": [],
   "source": [
    "#q1.hint()\n",
    "#q1.solution()"
   ]
  },
  {
   "cell_type": "markdown",
   "id": "22d4be0d",
   "metadata": {
    "papermill": {
     "duration": 0.024576,
     "end_time": "2022-01-15T08:03:20.086381",
     "exception": false,
     "start_time": "2022-01-15T08:03:20.061805",
     "status": "completed"
    },
    "tags": []
   },
   "source": [
    "## 2. \n",
    "What countries are represented in the dataset? (Your answer should not include any duplicates.)"
   ]
  },
  {
   "cell_type": "code",
   "execution_count": 4,
   "id": "ea4cb78f",
   "metadata": {
    "execution": {
     "iopub.execute_input": "2022-01-15T08:03:20.152749Z",
     "iopub.status.busy": "2022-01-15T08:03:20.142240Z",
     "iopub.status.idle": "2022-01-15T08:03:20.160532Z",
     "shell.execute_reply": "2022-01-15T08:03:20.159959Z",
     "shell.execute_reply.started": "2022-01-15T07:56:19.696562Z"
    },
    "papermill": {
     "duration": 0.050334,
     "end_time": "2022-01-15T08:03:20.160672",
     "exception": false,
     "start_time": "2022-01-15T08:03:20.110338",
     "status": "completed"
    },
    "tags": []
   },
   "outputs": [
    {
     "data": {
      "application/javascript": [
       "parent.postMessage({\"jupyterEvent\": \"custom.exercise_interaction\", \"data\": {\"outcomeType\": 1, \"valueTowardsCompletion\": 0.14285714285714285, \"interactionType\": 1, \"questionType\": 2, \"questionId\": \"2_UniqueCountries\", \"learnToolsVersion\": \"0.3.4\", \"failureMessage\": \"\", \"exceptionClass\": \"\", \"trace\": \"\"}}, \"*\")"
      ],
      "text/plain": [
       "<IPython.core.display.Javascript object>"
      ]
     },
     "metadata": {},
     "output_type": "display_data"
    },
    {
     "data": {
      "text/markdown": [
       "<span style=\"color:#33cc33\">Correct</span>"
      ],
      "text/plain": [
       "Correct"
      ]
     },
     "metadata": {},
     "output_type": "display_data"
    },
    {
     "data": {
      "text/plain": [
       "array(['Italy', 'Portugal', 'US', 'Spain', 'France', 'Germany',\n",
       "       'Argentina', 'Chile', 'Australia', 'Austria', 'South Africa',\n",
       "       'New Zealand', 'Israel', 'Hungary', 'Greece', 'Romania', 'Mexico',\n",
       "       'Canada', nan, 'Turkey', 'Czech Republic', 'Slovenia',\n",
       "       'Luxembourg', 'Croatia', 'Georgia', 'Uruguay', 'England',\n",
       "       'Lebanon', 'Serbia', 'Brazil', 'Moldova', 'Morocco', 'Peru',\n",
       "       'India', 'Bulgaria', 'Cyprus', 'Armenia', 'Switzerland',\n",
       "       'Bosnia and Herzegovina', 'Ukraine', 'Slovakia', 'Macedonia',\n",
       "       'China', 'Egypt'], dtype=object)"
      ]
     },
     "execution_count": 4,
     "metadata": {},
     "output_type": "execute_result"
    }
   ],
   "source": [
    "countries = reviews.country.unique()\n",
    "# Check your answer\n",
    "q2.check()\n",
    "countries"
   ]
  },
  {
   "cell_type": "code",
   "execution_count": 5,
   "id": "809c2f78",
   "metadata": {
    "execution": {
     "iopub.execute_input": "2022-01-15T08:03:20.212789Z",
     "iopub.status.busy": "2022-01-15T08:03:20.212122Z",
     "iopub.status.idle": "2022-01-15T08:03:20.215191Z",
     "shell.execute_reply": "2022-01-15T08:03:20.215752Z",
     "shell.execute_reply.started": "2022-01-15T07:56:19.731370Z"
    },
    "papermill": {
     "duration": 0.030476,
     "end_time": "2022-01-15T08:03:20.215926",
     "exception": false,
     "start_time": "2022-01-15T08:03:20.185450",
     "status": "completed"
    },
    "tags": []
   },
   "outputs": [],
   "source": [
    "#q2.hint()\n",
    "# q2.solution()"
   ]
  },
  {
   "cell_type": "markdown",
   "id": "6ddc8d4c",
   "metadata": {
    "papermill": {
     "duration": 0.025066,
     "end_time": "2022-01-15T08:03:20.265507",
     "exception": false,
     "start_time": "2022-01-15T08:03:20.240441",
     "status": "completed"
    },
    "tags": []
   },
   "source": [
    "## 3.\n",
    "How often does each country appear in the dataset? Create a Series `reviews_per_country` mapping countries to the count of reviews of wines from that country."
   ]
  },
  {
   "cell_type": "code",
   "execution_count": 6,
   "id": "04582954",
   "metadata": {
    "execution": {
     "iopub.execute_input": "2022-01-15T08:03:20.316846Z",
     "iopub.status.busy": "2022-01-15T08:03:20.316151Z",
     "iopub.status.idle": "2022-01-15T08:03:20.347013Z",
     "shell.execute_reply": "2022-01-15T08:03:20.346446Z",
     "shell.execute_reply.started": "2022-01-15T07:56:19.738326Z"
    },
    "papermill": {
     "duration": 0.057762,
     "end_time": "2022-01-15T08:03:20.347159",
     "exception": false,
     "start_time": "2022-01-15T08:03:20.289397",
     "status": "completed"
    },
    "tags": []
   },
   "outputs": [
    {
     "data": {
      "application/javascript": [
       "parent.postMessage({\"jupyterEvent\": \"custom.exercise_interaction\", \"data\": {\"outcomeType\": 1, \"valueTowardsCompletion\": 0.14285714285714285, \"interactionType\": 1, \"questionType\": 1, \"questionId\": \"3_ReviewsPerCountry\", \"learnToolsVersion\": \"0.3.4\", \"failureMessage\": \"\", \"exceptionClass\": \"\", \"trace\": \"\"}}, \"*\")"
      ],
      "text/plain": [
       "<IPython.core.display.Javascript object>"
      ]
     },
     "metadata": {},
     "output_type": "display_data"
    },
    {
     "data": {
      "text/markdown": [
       "<span style=\"color:#33cc33\">Correct</span>"
      ],
      "text/plain": [
       "Correct"
      ]
     },
     "metadata": {},
     "output_type": "display_data"
    },
    {
     "data": {
      "text/plain": [
       "US        54504\n",
       "France    22093\n",
       "          ...  \n",
       "China         1\n",
       "Egypt         1\n",
       "Name: country, Length: 43, dtype: int64"
      ]
     },
     "execution_count": 6,
     "metadata": {},
     "output_type": "execute_result"
    }
   ],
   "source": [
    "reviews_per_country = reviews.country.value_counts()\n",
    "\n",
    "# Check your answer\n",
    "q3.check()\n",
    "reviews_per_country"
   ]
  },
  {
   "cell_type": "code",
   "execution_count": 7,
   "id": "cc323eb5",
   "metadata": {
    "execution": {
     "iopub.execute_input": "2022-01-15T08:03:20.402953Z",
     "iopub.status.busy": "2022-01-15T08:03:20.402138Z",
     "iopub.status.idle": "2022-01-15T08:03:20.405227Z",
     "shell.execute_reply": "2022-01-15T08:03:20.404517Z",
     "shell.execute_reply.started": "2022-01-15T07:56:19.776655Z"
    },
    "papermill": {
     "duration": 0.033129,
     "end_time": "2022-01-15T08:03:20.405373",
     "exception": false,
     "start_time": "2022-01-15T08:03:20.372244",
     "status": "completed"
    },
    "tags": []
   },
   "outputs": [],
   "source": [
    "# q3.hint()\n",
    "# q3.solution()"
   ]
  },
  {
   "cell_type": "markdown",
   "id": "854fd3c5",
   "metadata": {
    "papermill": {
     "duration": 0.02453,
     "end_time": "2022-01-15T08:03:20.455166",
     "exception": false,
     "start_time": "2022-01-15T08:03:20.430636",
     "status": "completed"
    },
    "tags": []
   },
   "source": [
    "## 4.\n",
    "Create variable `centered_price` containing a version of the `price` column with the mean price subtracted.\n",
    "\n",
    "(Note: this 'centering' transformation is a common preprocessing step before applying various machine learning algorithms.) "
   ]
  },
  {
   "cell_type": "code",
   "execution_count": 8,
   "id": "6e88c59a",
   "metadata": {
    "execution": {
     "iopub.execute_input": "2022-01-15T08:03:20.512974Z",
     "iopub.status.busy": "2022-01-15T08:03:20.512223Z",
     "iopub.status.idle": "2022-01-15T08:03:20.521920Z",
     "shell.execute_reply": "2022-01-15T08:03:20.522496Z",
     "shell.execute_reply.started": "2022-01-15T07:56:19.783067Z"
    },
    "papermill": {
     "duration": 0.041476,
     "end_time": "2022-01-15T08:03:20.522667",
     "exception": false,
     "start_time": "2022-01-15T08:03:20.481191",
     "status": "completed"
    },
    "tags": []
   },
   "outputs": [
    {
     "data": {
      "application/javascript": [
       "parent.postMessage({\"jupyterEvent\": \"custom.exercise_interaction\", \"data\": {\"outcomeType\": 1, \"valueTowardsCompletion\": 0.14285714285714285, \"interactionType\": 1, \"questionType\": 1, \"questionId\": \"4_CenteredPrice\", \"learnToolsVersion\": \"0.3.4\", \"failureMessage\": \"\", \"exceptionClass\": \"\", \"trace\": \"\"}}, \"*\")"
      ],
      "text/plain": [
       "<IPython.core.display.Javascript object>"
      ]
     },
     "metadata": {},
     "output_type": "display_data"
    },
    {
     "data": {
      "text/markdown": [
       "<span style=\"color:#33cc33\">Correct</span>"
      ],
      "text/plain": [
       "Correct"
      ]
     },
     "metadata": {},
     "output_type": "display_data"
    },
    {
     "data": {
      "text/plain": [
       "0               NaN\n",
       "1        -20.363389\n",
       "            ...    \n",
       "129969    -3.363389\n",
       "129970   -14.363389\n",
       "Name: price, Length: 129971, dtype: float64"
      ]
     },
     "execution_count": 8,
     "metadata": {},
     "output_type": "execute_result"
    }
   ],
   "source": [
    "review_mean = reviews.price.mean()\n",
    "centered_price =  reviews.price - review_mean\n",
    "# Check your answer\n",
    "q4.check()\n",
    "centered_price"
   ]
  },
  {
   "cell_type": "code",
   "execution_count": 9,
   "id": "306a97fe",
   "metadata": {
    "execution": {
     "iopub.execute_input": "2022-01-15T08:03:20.580641Z",
     "iopub.status.busy": "2022-01-15T08:03:20.580019Z",
     "iopub.status.idle": "2022-01-15T08:03:20.582832Z",
     "shell.execute_reply": "2022-01-15T08:03:20.583370Z",
     "shell.execute_reply.started": "2022-01-15T07:56:19.805108Z"
    },
    "papermill": {
     "duration": 0.033967,
     "end_time": "2022-01-15T08:03:20.583539",
     "exception": false,
     "start_time": "2022-01-15T08:03:20.549572",
     "status": "completed"
    },
    "tags": []
   },
   "outputs": [],
   "source": [
    "# q4.hint()\n",
    "# q4.solution()"
   ]
  },
  {
   "cell_type": "markdown",
   "id": "728980bb",
   "metadata": {
    "papermill": {
     "duration": 0.028147,
     "end_time": "2022-01-15T08:03:20.638976",
     "exception": false,
     "start_time": "2022-01-15T08:03:20.610829",
     "status": "completed"
    },
    "tags": []
   },
   "source": [
    "## 5.\n",
    "I'm an economical wine buyer. Which wine is the \"best bargain\"? Create a variable `bargain_wine` with the title of the wine with the highest points-to-price ratio in the dataset."
   ]
  },
  {
   "cell_type": "markdown",
   "id": "aa66a26c",
   "metadata": {
    "papermill": {
     "duration": 0.026743,
     "end_time": "2022-01-15T08:03:20.693511",
     "exception": false,
     "start_time": "2022-01-15T08:03:20.666768",
     "status": "completed"
    },
    "tags": []
   },
   "source": []
  },
  {
   "cell_type": "code",
   "execution_count": 10,
   "id": "c3c73df4",
   "metadata": {
    "execution": {
     "iopub.execute_input": "2022-01-15T08:03:20.749707Z",
     "iopub.status.busy": "2022-01-15T08:03:20.748980Z",
     "iopub.status.idle": "2022-01-15T08:03:20.763644Z",
     "shell.execute_reply": "2022-01-15T08:03:20.764220Z",
     "shell.execute_reply.started": "2022-01-15T07:56:19.812106Z"
    },
    "papermill": {
     "duration": 0.044395,
     "end_time": "2022-01-15T08:03:20.764401",
     "exception": false,
     "start_time": "2022-01-15T08:03:20.720006",
     "status": "completed"
    },
    "tags": []
   },
   "outputs": [
    {
     "data": {
      "application/javascript": [
       "parent.postMessage({\"jupyterEvent\": \"custom.exercise_interaction\", \"data\": {\"outcomeType\": 1, \"valueTowardsCompletion\": 0.14285714285714285, \"interactionType\": 1, \"questionType\": 2, \"questionId\": \"5_BargainWine\", \"learnToolsVersion\": \"0.3.4\", \"failureMessage\": \"\", \"exceptionClass\": \"\", \"trace\": \"\"}}, \"*\")"
      ],
      "text/plain": [
       "<IPython.core.display.Javascript object>"
      ]
     },
     "metadata": {},
     "output_type": "display_data"
    },
    {
     "data": {
      "text/markdown": [
       "<span style=\"color:#33cc33\">Correct</span>"
      ],
      "text/plain": [
       "Correct"
      ]
     },
     "metadata": {},
     "output_type": "display_data"
    },
    {
     "data": {
      "text/plain": [
       "'Bandit NV Merlot (California)'"
      ]
     },
     "execution_count": 10,
     "metadata": {},
     "output_type": "execute_result"
    }
   ],
   "source": [
    "# Method 1 :\n",
    "x = reviews.price/reviews.points\n",
    "max_raio_id = x.idxmin()\n",
    "max_raio_row = reviews.loc[max_raio_id]\n",
    "bargain_wine = max_raio_row['title']\n",
    "\n",
    "# Method 2 :\n",
    "# bargain_idx = (reviews.points / reviews.price).idxmax()\n",
    "# bargain_wine = reviews.loc[bargain_idx, 'title']\n",
    "\n",
    "# Check your answer\n",
    "q5.check()\n",
    "bargain_wine"
   ]
  },
  {
   "cell_type": "code",
   "execution_count": 11,
   "id": "6d582fad",
   "metadata": {
    "execution": {
     "iopub.execute_input": "2022-01-15T08:03:20.825882Z",
     "iopub.status.busy": "2022-01-15T08:03:20.825167Z",
     "iopub.status.idle": "2022-01-15T08:03:20.827719Z",
     "shell.execute_reply": "2022-01-15T08:03:20.828204Z",
     "shell.execute_reply.started": "2022-01-15T07:56:19.835238Z"
    },
    "papermill": {
     "duration": 0.03493,
     "end_time": "2022-01-15T08:03:20.828378",
     "exception": false,
     "start_time": "2022-01-15T08:03:20.793448",
     "status": "completed"
    },
    "tags": []
   },
   "outputs": [],
   "source": [
    "# q5.hint()\n",
    "# q5.solution()"
   ]
  },
  {
   "cell_type": "markdown",
   "id": "fd557f44",
   "metadata": {
    "papermill": {
     "duration": 0.028731,
     "end_time": "2022-01-15T08:03:20.885247",
     "exception": false,
     "start_time": "2022-01-15T08:03:20.856516",
     "status": "completed"
    },
    "tags": []
   },
   "source": [
    "## 6.\n",
    "There are only so many words you can use when describing a bottle of wine. Is a wine more likely to be \"tropical\" or \"fruity\"? Create a Series `descriptor_counts` counting how many times each of these two words appears in the `description` column in the dataset. (For simplicity, let's ignore the capitalized versions of these words.)"
   ]
  },
  {
   "cell_type": "markdown",
   "id": "ff5d5024",
   "metadata": {
    "papermill": {
     "duration": 0.027439,
     "end_time": "2022-01-15T08:03:20.940930",
     "exception": false,
     "start_time": "2022-01-15T08:03:20.913491",
     "status": "completed"
    },
    "tags": []
   },
   "source": []
  },
  {
   "cell_type": "code",
   "execution_count": 12,
   "id": "84f0ece2",
   "metadata": {
    "execution": {
     "iopub.execute_input": "2022-01-15T08:03:21.000633Z",
     "iopub.status.busy": "2022-01-15T08:03:20.999999Z",
     "iopub.status.idle": "2022-01-15T08:03:21.154662Z",
     "shell.execute_reply": "2022-01-15T08:03:21.154014Z",
     "shell.execute_reply.started": "2022-01-15T07:59:23.951754Z"
    },
    "papermill": {
     "duration": 0.185779,
     "end_time": "2022-01-15T08:03:21.154827",
     "exception": false,
     "start_time": "2022-01-15T08:03:20.969048",
     "status": "completed"
    },
    "tags": []
   },
   "outputs": [
    {
     "data": {
      "text/plain": [
       "tropical    3607\n",
       "fruity      9090\n",
       "dtype: int64"
      ]
     },
     "execution_count": 12,
     "metadata": {},
     "output_type": "execute_result"
    }
   ],
   "source": [
    "# HINT : Use a map .\n",
    "tropical = reviews.description.map(lambda desc: \"tropical\" in desc).sum()\n",
    "fruity = reviews.description.map(lambda desc: \"fruity\" in desc).sum()\n",
    "descriptor_counts = pd.Series([tropical, fruity], index=['tropical', 'fruity'])\n",
    "# Check your answer\n",
    "# q6.check()\n",
    "descriptor_counts"
   ]
  },
  {
   "cell_type": "code",
   "execution_count": 13,
   "id": "e91a4d20",
   "metadata": {
    "execution": {
     "iopub.execute_input": "2022-01-15T08:03:21.217367Z",
     "iopub.status.busy": "2022-01-15T08:03:21.216538Z",
     "iopub.status.idle": "2022-01-15T08:03:21.219662Z",
     "shell.execute_reply": "2022-01-15T08:03:21.219113Z"
    },
    "papermill": {
     "duration": 0.036057,
     "end_time": "2022-01-15T08:03:21.219829",
     "exception": false,
     "start_time": "2022-01-15T08:03:21.183772",
     "status": "completed"
    },
    "tags": []
   },
   "outputs": [],
   "source": [
    "# q6.hint()\n",
    "# q6.solution()"
   ]
  },
  {
   "cell_type": "markdown",
   "id": "53c22fe7",
   "metadata": {
    "papermill": {
     "duration": 0.028582,
     "end_time": "2022-01-15T08:03:21.276778",
     "exception": false,
     "start_time": "2022-01-15T08:03:21.248196",
     "status": "completed"
    },
    "tags": []
   },
   "source": [
    "## 7.\n",
    "We'd like to host these wine reviews on our website, but a rating system ranging from 80 to 100 points is too hard to understand - we'd like to translate them into simple star ratings. A score of 95 or higher counts as 3 stars, a score of at least 85 but less than 95 is 2 stars. Any other score is 1 star.\n",
    "\n",
    "Also, the Canadian Vintners Association bought a lot of ads on the site, so any wines from Canada should automatically get 3 stars, regardless of points.\n",
    "\n",
    "Create a series `star_ratings` with the number of stars corresponding to each review in the dataset."
   ]
  },
  {
   "cell_type": "code",
   "execution_count": 14,
   "id": "613bc9a6",
   "metadata": {
    "execution": {
     "iopub.execute_input": "2022-01-15T08:03:21.343428Z",
     "iopub.status.busy": "2022-01-15T08:03:21.342648Z",
     "iopub.status.idle": "2022-01-15T08:03:26.336253Z",
     "shell.execute_reply": "2022-01-15T08:03:26.335439Z",
     "shell.execute_reply.started": "2022-01-15T08:00:47.696685Z"
    },
    "papermill": {
     "duration": 5.02953,
     "end_time": "2022-01-15T08:03:26.336411",
     "exception": false,
     "start_time": "2022-01-15T08:03:21.306881",
     "status": "completed"
    },
    "tags": []
   },
   "outputs": [
    {
     "data": {
      "application/javascript": [
       "parent.postMessage({\"jupyterEvent\": \"custom.exercise_interaction\", \"data\": {\"outcomeType\": 1, \"valueTowardsCompletion\": 0.14285714285714285, \"interactionType\": 1, \"questionType\": 1, \"questionId\": \"7_StarRatings\", \"learnToolsVersion\": \"0.3.4\", \"failureMessage\": \"\", \"exceptionClass\": \"\", \"trace\": \"\"}}, \"*\")"
      ],
      "text/plain": [
       "<IPython.core.display.Javascript object>"
      ]
     },
     "metadata": {},
     "output_type": "display_data"
    },
    {
     "data": {
      "text/markdown": [
       "<span style=\"color:#33cc33\">Correct</span>"
      ],
      "text/plain": [
       "Correct"
      ]
     },
     "metadata": {},
     "output_type": "display_data"
    },
    {
     "data": {
      "text/plain": [
       "0         2\n",
       "1         2\n",
       "         ..\n",
       "129969    2\n",
       "129970    2\n",
       "Length: 129971, dtype: int64"
      ]
     },
     "execution_count": 14,
     "metadata": {},
     "output_type": "execute_result"
    }
   ],
   "source": [
    "def Checking_stars(row):\n",
    "    if row.country == 'Canada':\n",
    "        return 3\n",
    "    elif row.points >= 95:\n",
    "        return 3\n",
    "    elif row.points >= 85:\n",
    "        return 2\n",
    "    else:\n",
    "        return 1\n",
    "\n",
    "star_ratings = reviews.apply(Checking_stars, axis='columns')\n",
    "\n",
    "\n",
    "# Check your answer\n",
    "q7.check()\n",
    "star_ratings"
   ]
  },
  {
   "cell_type": "code",
   "execution_count": 15,
   "id": "638c2e93",
   "metadata": {
    "execution": {
     "iopub.execute_input": "2022-01-15T08:03:26.401050Z",
     "iopub.status.busy": "2022-01-15T08:03:26.399941Z",
     "iopub.status.idle": "2022-01-15T08:03:26.402909Z",
     "shell.execute_reply": "2022-01-15T08:03:26.402321Z"
    },
    "papermill": {
     "duration": 0.03698,
     "end_time": "2022-01-15T08:03:26.403059",
     "exception": false,
     "start_time": "2022-01-15T08:03:26.366079",
     "status": "completed"
    },
    "tags": []
   },
   "outputs": [],
   "source": [
    "# q7.hint()\n",
    "# q7.solution()"
   ]
  },
  {
   "cell_type": "markdown",
   "id": "6992e9c2",
   "metadata": {
    "execution": {
     "iopub.execute_input": "2022-01-15T08:01:24.928645Z",
     "iopub.status.busy": "2022-01-15T08:01:24.927741Z",
     "iopub.status.idle": "2022-01-15T08:01:24.932753Z",
     "shell.execute_reply": "2022-01-15T08:01:24.931951Z",
     "shell.execute_reply.started": "2022-01-15T08:01:24.928600Z"
    },
    "papermill": {
     "duration": 0.02902,
     "end_time": "2022-01-15T08:03:26.463380",
     "exception": false,
     "start_time": "2022-01-15T08:03:26.434360",
     "status": "completed"
    },
    "tags": []
   },
   "source": [
    "### Thank You!"
   ]
  },
  {
   "cell_type": "markdown",
   "id": "b9dfae27",
   "metadata": {
    "papermill": {
     "duration": 0.029302,
     "end_time": "2022-01-15T08:03:26.522015",
     "exception": false,
     "start_time": "2022-01-15T08:03:26.492713",
     "status": "completed"
    },
    "tags": []
   },
   "source": []
  },
  {
   "cell_type": "markdown",
   "id": "aa40291d",
   "metadata": {
    "papermill": {
     "duration": 0.028973,
     "end_time": "2022-01-15T08:03:26.580571",
     "exception": false,
     "start_time": "2022-01-15T08:03:26.551598",
     "status": "completed"
    },
    "tags": []
   },
   "source": [
    "# Keep going\n",
    "Continue to **[grouping and sorting](https://www.kaggle.com/residentmario/grouping-and-sorting)**."
   ]
  },
  {
   "cell_type": "markdown",
   "id": "07fff98b",
   "metadata": {
    "papermill": {
     "duration": 0.029652,
     "end_time": "2022-01-15T08:03:26.639523",
     "exception": false,
     "start_time": "2022-01-15T08:03:26.609871",
     "status": "completed"
    },
    "tags": []
   },
   "source": [
    "---\n",
    "\n",
    "\n",
    "\n",
    "\n",
    "*Have questions or comments? Visit the [course discussion forum](https://www.kaggle.com/learn/pandas/discussion) to chat with other learners.*"
   ]
  }
 ],
 "metadata": {
  "kernelspec": {
   "display_name": "Python 3",
   "language": "python",
   "name": "python3"
  },
  "language_info": {
   "codemirror_mode": {
    "name": "ipython",
    "version": 3
   },
   "file_extension": ".py",
   "mimetype": "text/x-python",
   "name": "python",
   "nbconvert_exporter": "python",
   "pygments_lexer": "ipython3",
   "version": "3.7.12"
  },
  "papermill": {
   "default_parameters": {},
   "duration": 26.336998,
   "end_time": "2022-01-15T08:03:27.380852",
   "environment_variables": {},
   "exception": null,
   "input_path": "__notebook__.ipynb",
   "output_path": "__notebook__.ipynb",
   "parameters": {},
   "start_time": "2022-01-15T08:03:01.043854",
   "version": "2.3.3"
  }
 },
 "nbformat": 4,
 "nbformat_minor": 5
}
