{
 "cells": [
  {
   "cell_type": "markdown",
   "id": "4fc6fd42",
   "metadata": {
    "papermill": {
     "duration": 0.016389,
     "end_time": "2022-02-22T17:53:30.330213",
     "exception": false,
     "start_time": "2022-02-22T17:53:30.313824",
     "status": "completed"
    },
    "tags": []
   },
   "source": [
    "**This notebook is an exercise in the [Pandas](https://www.kaggle.com/learn/pandas) course.  You can reference the tutorial at [this link](https://www.kaggle.com/residentmario/data-types-and-missing-values).**\n",
    "\n",
    "---\n"
   ]
  },
  {
   "cell_type": "markdown",
   "id": "5ee93105",
   "metadata": {
    "papermill": {
     "duration": 0.014476,
     "end_time": "2022-02-22T17:53:30.360363",
     "exception": false,
     "start_time": "2022-02-22T17:53:30.345887",
     "status": "completed"
    },
    "tags": []
   },
   "source": [
    "# Introduction\n",
    "\n",
    "Run the following cell to load your data and some utility functions."
   ]
  },
  {
   "cell_type": "code",
   "execution_count": 1,
   "id": "4a87f048",
   "metadata": {
    "execution": {
     "iopub.execute_input": "2022-02-22T17:53:30.395786Z",
     "iopub.status.busy": "2022-02-22T17:53:30.393972Z",
     "iopub.status.idle": "2022-02-22T17:53:33.458065Z",
     "shell.execute_reply": "2022-02-22T17:53:33.459456Z",
     "shell.execute_reply.started": "2022-02-22T17:22:59.354995Z"
    },
    "papermill": {
     "duration": 3.084613,
     "end_time": "2022-02-22T17:53:33.459774",
     "exception": false,
     "start_time": "2022-02-22T17:53:30.375161",
     "status": "completed"
    },
    "tags": []
   },
   "outputs": [
    {
     "name": "stdout",
     "output_type": "stream",
     "text": [
      "Setup complete.\n"
     ]
    }
   ],
   "source": [
    "import pandas as pd\n",
    "\n",
    "reviews = pd.read_csv(\"../input/wine-reviews/winemag-data-130k-v2.csv\", index_col=0)\n",
    "\n",
    "from learntools.core import binder; binder.bind(globals())\n",
    "from learntools.pandas.data_types_and_missing_data import *\n",
    "print(\"Setup complete.\")"
   ]
  },
  {
   "cell_type": "markdown",
   "id": "634408f8",
   "metadata": {
    "papermill": {
     "duration": 0.014783,
     "end_time": "2022-02-22T17:53:33.491172",
     "exception": false,
     "start_time": "2022-02-22T17:53:33.476389",
     "status": "completed"
    },
    "tags": []
   },
   "source": [
    "# Exercises"
   ]
  },
  {
   "cell_type": "markdown",
   "id": "d89dc27b",
   "metadata": {
    "papermill": {
     "duration": 0.014671,
     "end_time": "2022-02-22T17:53:33.520950",
     "exception": false,
     "start_time": "2022-02-22T17:53:33.506279",
     "status": "completed"
    },
    "tags": []
   },
   "source": [
    "## 1. \n",
    "What is the data type of the `points` column in the dataset?"
   ]
  },
  {
   "cell_type": "code",
   "execution_count": 2,
   "id": "9c2d9bdc",
   "metadata": {
    "execution": {
     "iopub.execute_input": "2022-02-22T17:53:33.561163Z",
     "iopub.status.busy": "2022-02-22T17:53:33.560388Z",
     "iopub.status.idle": "2022-02-22T17:53:33.566603Z",
     "shell.execute_reply": "2022-02-22T17:53:33.567098Z",
     "shell.execute_reply.started": "2022-02-22T17:23:05.047195Z"
    },
    "papermill": {
     "duration": 0.031126,
     "end_time": "2022-02-22T17:53:33.567265",
     "exception": false,
     "start_time": "2022-02-22T17:53:33.536139",
     "status": "completed"
    },
    "tags": []
   },
   "outputs": [
    {
     "name": "stdout",
     "output_type": "stream",
     "text": [
      "int64\n"
     ]
    },
    {
     "data": {
      "application/javascript": [
       "parent.postMessage({\"jupyterEvent\": \"custom.exercise_interaction\", \"data\": {\"outcomeType\": 1, \"valueTowardsCompletion\": 0.25, \"interactionType\": 1, \"questionType\": 1, \"questionId\": \"1_PointsDtype\", \"learnToolsVersion\": \"0.3.4\", \"failureMessage\": \"\", \"exceptionClass\": \"\", \"trace\": \"\"}}, \"*\")"
      ],
      "text/plain": [
       "<IPython.core.display.Javascript object>"
      ]
     },
     "metadata": {},
     "output_type": "display_data"
    },
    {
     "data": {
      "text/markdown": [
       "<span style=\"color:#33cc33\">Correct</span>"
      ],
      "text/plain": [
       "Correct"
      ]
     },
     "metadata": {},
     "output_type": "display_data"
    }
   ],
   "source": [
    "# Your code here\n",
    "dtype = reviews.points.dtype\n",
    "print(dtype)\n",
    "# Check your answer\n",
    "q1.check()"
   ]
  },
  {
   "cell_type": "code",
   "execution_count": 3,
   "id": "7553b478",
   "metadata": {
    "execution": {
     "iopub.execute_input": "2022-02-22T17:53:33.604681Z",
     "iopub.status.busy": "2022-02-22T17:53:33.603959Z",
     "iopub.status.idle": "2022-02-22T17:53:33.605546Z",
     "shell.execute_reply": "2022-02-22T17:53:33.606168Z"
    },
    "papermill": {
     "duration": 0.022352,
     "end_time": "2022-02-22T17:53:33.606332",
     "exception": false,
     "start_time": "2022-02-22T17:53:33.583980",
     "status": "completed"
    },
    "tags": []
   },
   "outputs": [],
   "source": [
    "#q1.hint()\n",
    "#q1.solution()"
   ]
  },
  {
   "cell_type": "markdown",
   "id": "79a6880c",
   "metadata": {
    "papermill": {
     "duration": 0.016661,
     "end_time": "2022-02-22T17:53:33.639931",
     "exception": false,
     "start_time": "2022-02-22T17:53:33.623270",
     "status": "completed"
    },
    "tags": []
   },
   "source": [
    "## 2. \n",
    "Create a Series from entries in the `points` column, but convert the entries to strings. Hint: strings are `str` in native Python."
   ]
  },
  {
   "cell_type": "code",
   "execution_count": 4,
   "id": "d0f36ea5",
   "metadata": {
    "execution": {
     "iopub.execute_input": "2022-02-22T17:53:33.676977Z",
     "iopub.status.busy": "2022-02-22T17:53:33.676374Z",
     "iopub.status.idle": "2022-02-22T17:53:33.722222Z",
     "shell.execute_reply": "2022-02-22T17:53:33.722718Z",
     "shell.execute_reply.started": "2022-02-22T17:29:11.644874Z"
    },
    "papermill": {
     "duration": 0.066029,
     "end_time": "2022-02-22T17:53:33.722894",
     "exception": false,
     "start_time": "2022-02-22T17:53:33.656865",
     "status": "completed"
    },
    "tags": []
   },
   "outputs": [
    {
     "name": "stdout",
     "output_type": "stream",
     "text": [
      "0         87\n",
      "1         87\n",
      "2         87\n",
      "3         87\n",
      "4         87\n",
      "          ..\n",
      "129966    90\n",
      "129967    90\n",
      "129968    90\n",
      "129969    90\n",
      "129970    90\n",
      "Name: points, Length: 129971, dtype: object\n"
     ]
    },
    {
     "data": {
      "application/javascript": [
       "parent.postMessage({\"jupyterEvent\": \"custom.exercise_interaction\", \"data\": {\"outcomeType\": 1, \"valueTowardsCompletion\": 0.25, \"interactionType\": 1, \"questionType\": 1, \"questionId\": \"2_StrPoints\", \"learnToolsVersion\": \"0.3.4\", \"failureMessage\": \"\", \"exceptionClass\": \"\", \"trace\": \"\"}}, \"*\")"
      ],
      "text/plain": [
       "<IPython.core.display.Javascript object>"
      ]
     },
     "metadata": {},
     "output_type": "display_data"
    },
    {
     "data": {
      "text/markdown": [
       "<span style=\"color:#33cc33\">Correct</span>"
      ],
      "text/plain": [
       "Correct"
      ]
     },
     "metadata": {},
     "output_type": "display_data"
    }
   ],
   "source": [
    "point_strings = reviews.points.apply(str)\n",
    "# or  : point_strings = reviews.points.astype(str)\n",
    "print(point_strings)\n",
    "# Check your answer\n",
    "q2.check()"
   ]
  },
  {
   "cell_type": "code",
   "execution_count": 5,
   "id": "399d6b01",
   "metadata": {
    "execution": {
     "iopub.execute_input": "2022-02-22T17:53:33.764717Z",
     "iopub.status.busy": "2022-02-22T17:53:33.763559Z",
     "iopub.status.idle": "2022-02-22T17:53:33.766663Z",
     "shell.execute_reply": "2022-02-22T17:53:33.767131Z"
    },
    "papermill": {
     "duration": 0.025584,
     "end_time": "2022-02-22T17:53:33.767303",
     "exception": false,
     "start_time": "2022-02-22T17:53:33.741719",
     "status": "completed"
    },
    "tags": []
   },
   "outputs": [],
   "source": [
    "#q2.hint()\n",
    "#q2.solution()"
   ]
  },
  {
   "cell_type": "markdown",
   "id": "c231ccf5",
   "metadata": {
    "papermill": {
     "duration": 0.018765,
     "end_time": "2022-02-22T17:53:33.804995",
     "exception": false,
     "start_time": "2022-02-22T17:53:33.786230",
     "status": "completed"
    },
    "tags": []
   },
   "source": [
    "## 3.\n",
    "Sometimes the price column is null. How many reviews in the dataset are missing a price?"
   ]
  },
  {
   "cell_type": "code",
   "execution_count": 6,
   "id": "87c0b566",
   "metadata": {
    "execution": {
     "iopub.execute_input": "2022-02-22T17:53:33.846686Z",
     "iopub.status.busy": "2022-02-22T17:53:33.845715Z",
     "iopub.status.idle": "2022-02-22T17:53:33.857488Z",
     "shell.execute_reply": "2022-02-22T17:53:33.858119Z",
     "shell.execute_reply.started": "2022-02-22T17:30:18.410413Z"
    },
    "papermill": {
     "duration": 0.034286,
     "end_time": "2022-02-22T17:53:33.858300",
     "exception": false,
     "start_time": "2022-02-22T17:53:33.824014",
     "status": "completed"
    },
    "tags": []
   },
   "outputs": [
    {
     "name": "stdout",
     "output_type": "stream",
     "text": [
      "8996\n"
     ]
    },
    {
     "data": {
      "application/javascript": [
       "parent.postMessage({\"jupyterEvent\": \"custom.exercise_interaction\", \"data\": {\"outcomeType\": 1, \"valueTowardsCompletion\": 0.25, \"interactionType\": 1, \"questionType\": 1, \"questionId\": \"3_CountMissingPrices\", \"learnToolsVersion\": \"0.3.4\", \"failureMessage\": \"\", \"exceptionClass\": \"\", \"trace\": \"\"}}, \"*\")"
      ],
      "text/plain": [
       "<IPython.core.display.Javascript object>"
      ]
     },
     "metadata": {},
     "output_type": "display_data"
    },
    {
     "data": {
      "text/markdown": [
       "<span style=\"color:#33cc33\">Correct</span>"
      ],
      "text/plain": [
       "Correct"
      ]
     },
     "metadata": {},
     "output_type": "display_data"
    }
   ],
   "source": [
    "n_missing_prices = reviews.price.isnull().sum()\n",
    "print(n_missing_prices)\n",
    "# or method 2 :\n",
    "#          missing_price_reviews = reviews[reviews.price.isnull()]\n",
    "#          n_missing_prices = len(missing_price_reviews)\n",
    "# Check your answer\n",
    "q3.check()"
   ]
  },
  {
   "cell_type": "code",
   "execution_count": 7,
   "id": "15011d35",
   "metadata": {
    "execution": {
     "iopub.execute_input": "2022-02-22T17:53:33.903644Z",
     "iopub.status.busy": "2022-02-22T17:53:33.902721Z",
     "iopub.status.idle": "2022-02-22T17:53:33.905825Z",
     "shell.execute_reply": "2022-02-22T17:53:33.906456Z"
    },
    "papermill": {
     "duration": 0.027863,
     "end_time": "2022-02-22T17:53:33.906615",
     "exception": false,
     "start_time": "2022-02-22T17:53:33.878752",
     "status": "completed"
    },
    "tags": []
   },
   "outputs": [],
   "source": [
    "# q3.hint()\n",
    "# q3.solution()"
   ]
  },
  {
   "cell_type": "markdown",
   "id": "f95aba7e",
   "metadata": {
    "papermill": {
     "duration": 0.020199,
     "end_time": "2022-02-22T17:53:33.949400",
     "exception": false,
     "start_time": "2022-02-22T17:53:33.929201",
     "status": "completed"
    },
    "tags": []
   },
   "source": [
    "## 4.\n",
    "What are the most common wine-producing regions? Create a Series counting the number of times each value occurs in the `region_1` field. This field is often missing data, so replace missing values with `Unknown`. Sort in descending order.  Your output should look something like this:\n",
    "\n",
    "```\n",
    "Unknown                    21247\n",
    "Napa Valley                 4480\n",
    "                           ...  \n",
    "Bardolino Superiore            1\n",
    "Primitivo del Tarantino        1\n",
    "Name: region_1, Length: 1230, dtype: int64\n",
    "```"
   ]
  },
  {
   "cell_type": "code",
   "execution_count": 8,
   "id": "e1a97b4d",
   "metadata": {
    "execution": {
     "iopub.execute_input": "2022-02-22T17:53:33.995685Z",
     "iopub.status.busy": "2022-02-22T17:53:33.994722Z",
     "iopub.status.idle": "2022-02-22T17:53:34.071542Z",
     "shell.execute_reply": "2022-02-22T17:53:34.072143Z",
     "shell.execute_reply.started": "2022-02-22T17:52:30.997994Z"
    },
    "papermill": {
     "duration": 0.10096,
     "end_time": "2022-02-22T17:53:34.072309",
     "exception": false,
     "start_time": "2022-02-22T17:53:33.971349",
     "status": "completed"
    },
    "tags": []
   },
   "outputs": [
    {
     "name": "stdout",
     "output_type": "stream",
     "text": [
      "Unknown                 21247\n",
      "Napa Valley              4480\n",
      "Columbia Valley (WA)     4124\n",
      "Russian River Valley     3091\n",
      "California               2629\n",
      "                        ...  \n",
      "Offida Rosso                1\n",
      "Corton Perrières            1\n",
      "Isle St. George             1\n",
      "Geelong                     1\n",
      "Paestum                     1\n",
      "Name: region_1, Length: 1230, dtype: int64\n"
     ]
    },
    {
     "data": {
      "application/javascript": [
       "parent.postMessage({\"jupyterEvent\": \"custom.exercise_interaction\", \"data\": {\"outcomeType\": 1, \"valueTowardsCompletion\": 0.25, \"interactionType\": 1, \"questionType\": 2, \"questionId\": \"4_ReviewsPerRegion\", \"learnToolsVersion\": \"0.3.4\", \"failureMessage\": \"\", \"exceptionClass\": \"\", \"trace\": \"\"}}, \"*\")"
      ],
      "text/plain": [
       "<IPython.core.display.Javascript object>"
      ]
     },
     "metadata": {},
     "output_type": "display_data"
    },
    {
     "data": {
      "text/markdown": [
       "<span style=\"color:#33cc33\">Correct</span>"
      ],
      "text/plain": [
       "Correct"
      ]
     },
     "metadata": {},
     "output_type": "display_data"
    }
   ],
   "source": [
    "reviews_per_region = reviews.region_1.fillna('Unknown').value_counts().sort_values(ascending=False)\n",
    "print(reviews_per_region)\n",
    "# Check your answer\n",
    "q4.check()"
   ]
  },
  {
   "cell_type": "code",
   "execution_count": 9,
   "id": "55bdfd68",
   "metadata": {
    "execution": {
     "iopub.execute_input": "2022-02-22T17:53:34.120290Z",
     "iopub.status.busy": "2022-02-22T17:53:34.119687Z",
     "iopub.status.idle": "2022-02-22T17:53:34.122615Z",
     "shell.execute_reply": "2022-02-22T17:53:34.123168Z"
    },
    "papermill": {
     "duration": 0.028672,
     "end_time": "2022-02-22T17:53:34.123328",
     "exception": false,
     "start_time": "2022-02-22T17:53:34.094656",
     "status": "completed"
    },
    "tags": []
   },
   "outputs": [],
   "source": [
    "# q4.hint()\n",
    "# q4.solution()"
   ]
  },
  {
   "cell_type": "markdown",
   "id": "77435b83",
   "metadata": {
    "papermill": {
     "duration": 0.022105,
     "end_time": "2022-02-22T17:53:34.167852",
     "exception": false,
     "start_time": "2022-02-22T17:53:34.145747",
     "status": "completed"
    },
    "tags": []
   },
   "source": [
    "# Keep going\n",
    "\n",
    "Move on to **[renaming and combining](https://www.kaggle.com/residentmario/renaming-and-combining)**."
   ]
  },
  {
   "cell_type": "markdown",
   "id": "3a00431c",
   "metadata": {
    "papermill": {
     "duration": 0.022255,
     "end_time": "2022-02-22T17:53:34.212621",
     "exception": false,
     "start_time": "2022-02-22T17:53:34.190366",
     "status": "completed"
    },
    "tags": []
   },
   "source": [
    "---\n",
    "\n",
    "\n",
    "\n",
    "\n",
    "*Have questions or comments? Visit the [course discussion forum](https://www.kaggle.com/learn/pandas/discussion) to chat with other learners.*"
   ]
  }
 ],
 "metadata": {
  "kernelspec": {
   "display_name": "Python 3",
   "language": "python",
   "name": "python3"
  },
  "language_info": {
   "codemirror_mode": {
    "name": "ipython",
    "version": 3
   },
   "file_extension": ".py",
   "mimetype": "text/x-python",
   "name": "python",
   "nbconvert_exporter": "python",
   "pygments_lexer": "ipython3",
   "version": "3.7.12"
  },
  "papermill": {
   "default_parameters": {},
   "duration": 14.465058,
   "end_time": "2022-02-22T17:53:34.945690",
   "environment_variables": {},
   "exception": null,
   "input_path": "__notebook__.ipynb",
   "output_path": "__notebook__.ipynb",
   "parameters": {},
   "start_time": "2022-02-22T17:53:20.480632",
   "version": "2.3.3"
  }
 },
 "nbformat": 4,
 "nbformat_minor": 5
}
