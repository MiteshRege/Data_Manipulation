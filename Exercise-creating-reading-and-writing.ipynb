{
 "cells": [
  {
   "cell_type": "markdown",
   "id": "f72f10b8",
   "metadata": {
    "papermill": {
     "duration": 0.017746,
     "end_time": "2022-01-13T05:06:19.630905",
     "exception": false,
     "start_time": "2022-01-13T05:06:19.613159",
     "status": "completed"
    },
    "tags": []
   },
   "source": [
    "**This notebook is an exercise in the [Pandas](https://www.kaggle.com/learn/pandas) course.  You can reference the tutorial at [this link](https://www.kaggle.com/residentmario/creating-reading-and-writing).**\n",
    "\n",
    "---\n"
   ]
  },
  {
   "cell_type": "markdown",
   "id": "f3eded98",
   "metadata": {
    "papermill": {
     "duration": 0.017256,
     "end_time": "2022-01-13T05:06:19.665327",
     "exception": false,
     "start_time": "2022-01-13T05:06:19.648071",
     "status": "completed"
    },
    "tags": []
   },
   "source": [
    "### Hello . I'am Mitesh Rege "
   ]
  },
  {
   "cell_type": "markdown",
   "id": "ef9faaa6",
   "metadata": {
    "papermill": {
     "duration": 0.013565,
     "end_time": "2022-01-13T05:06:19.697170",
     "exception": false,
     "start_time": "2022-01-13T05:06:19.683605",
     "status": "completed"
    },
    "tags": []
   },
   "source": [
    "# Introduction\n",
    "\n",
    "The first step in most data analytics projects is reading the data file. In this exercise, you'll create Series and DataFrame objects, both by hand and by reading data files.\n",
    "\n",
    "Run the code cell below to load libraries you will need (including code to check your answers)."
   ]
  },
  {
   "cell_type": "code",
   "execution_count": 1,
   "id": "9b2645c5",
   "metadata": {
    "execution": {
     "iopub.execute_input": "2022-01-13T05:06:19.737103Z",
     "iopub.status.busy": "2022-01-13T05:06:19.729729Z",
     "iopub.status.idle": "2022-01-13T05:06:21.565983Z",
     "shell.execute_reply": "2022-01-13T05:06:21.565405Z",
     "shell.execute_reply.started": "2022-01-13T04:36:44.519596Z"
    },
    "papermill": {
     "duration": 1.853093,
     "end_time": "2022-01-13T05:06:21.566156",
     "exception": false,
     "start_time": "2022-01-13T05:06:19.713063",
     "status": "completed"
    },
    "tags": []
   },
   "outputs": [
    {
     "name": "stdout",
     "output_type": "stream",
     "text": [
      "Setup complete.\n"
     ]
    }
   ],
   "source": [
    "import pandas as pd\n",
    "pd.set_option('max_rows', 5)\n",
    "from learntools.core import binder; binder.bind(globals())\n",
    "from learntools.pandas.creating_reading_and_writing import *\n",
    "print(\"Setup complete.\")"
   ]
  },
  {
   "cell_type": "markdown",
   "id": "d6b8e886",
   "metadata": {
    "papermill": {
     "duration": 0.011796,
     "end_time": "2022-01-13T05:06:21.590914",
     "exception": false,
     "start_time": "2022-01-13T05:06:21.579118",
     "status": "completed"
    },
    "tags": []
   },
   "source": [
    "# Exercises"
   ]
  },
  {
   "cell_type": "markdown",
   "id": "21cffbed",
   "metadata": {
    "papermill": {
     "duration": 0.011687,
     "end_time": "2022-01-13T05:06:21.614616",
     "exception": false,
     "start_time": "2022-01-13T05:06:21.602929",
     "status": "completed"
    },
    "tags": []
   },
   "source": [
    "## 1.\n",
    "\n",
    "In the cell below, create a DataFrame `fruits` that looks like this:\n",
    "\n",
    "![](https://i.imgur.com/Ax3pp2A.png)"
   ]
  },
  {
   "cell_type": "code",
   "execution_count": 2,
   "id": "7e1bdbd7",
   "metadata": {
    "execution": {
     "iopub.execute_input": "2022-01-13T05:06:21.646893Z",
     "iopub.status.busy": "2022-01-13T05:06:21.645876Z",
     "iopub.status.idle": "2022-01-13T05:06:21.657602Z",
     "shell.execute_reply": "2022-01-13T05:06:21.657023Z",
     "shell.execute_reply.started": "2022-01-13T04:41:01.482644Z"
    },
    "papermill": {
     "duration": 0.031037,
     "end_time": "2022-01-13T05:06:21.657746",
     "exception": false,
     "start_time": "2022-01-13T05:06:21.626709",
     "status": "completed"
    },
    "tags": []
   },
   "outputs": [
    {
     "data": {
      "text/html": [
       "<div>\n",
       "<style scoped>\n",
       "    .dataframe tbody tr th:only-of-type {\n",
       "        vertical-align: middle;\n",
       "    }\n",
       "\n",
       "    .dataframe tbody tr th {\n",
       "        vertical-align: top;\n",
       "    }\n",
       "\n",
       "    .dataframe thead th {\n",
       "        text-align: right;\n",
       "    }\n",
       "</style>\n",
       "<table border=\"1\" class=\"dataframe\">\n",
       "  <thead>\n",
       "    <tr style=\"text-align: right;\">\n",
       "      <th></th>\n",
       "      <th>Apples</th>\n",
       "      <th>Bananas</th>\n",
       "    </tr>\n",
       "  </thead>\n",
       "  <tbody>\n",
       "    <tr>\n",
       "      <th>0</th>\n",
       "      <td>30</td>\n",
       "      <td>21</td>\n",
       "    </tr>\n",
       "  </tbody>\n",
       "</table>\n",
       "</div>"
      ],
      "text/plain": [
       "   Apples  Bananas\n",
       "0      30       21"
      ]
     },
     "execution_count": 2,
     "metadata": {},
     "output_type": "execute_result"
    }
   ],
   "source": [
    "# Your code goes here. Create a dataframe matching the above diagram and assign it to the variable fruits.\n",
    "fruits = {'Apples': [30],'Bananas':[21]}\n",
    "df_fruts = pd.DataFrame(data=fruits)\n",
    "\n",
    "\n",
    "# Check your answer\n",
    "# q1.check()\n",
    "df_fruts"
   ]
  },
  {
   "cell_type": "code",
   "execution_count": 3,
   "id": "cca30559",
   "metadata": {
    "execution": {
     "iopub.execute_input": "2022-01-13T05:06:21.687029Z",
     "iopub.status.busy": "2022-01-13T05:06:21.686092Z",
     "iopub.status.idle": "2022-01-13T05:06:21.688214Z",
     "shell.execute_reply": "2022-01-13T05:06:21.688638Z"
    },
    "papermill": {
     "duration": 0.018579,
     "end_time": "2022-01-13T05:06:21.688804",
     "exception": false,
     "start_time": "2022-01-13T05:06:21.670225",
     "status": "completed"
    },
    "tags": []
   },
   "outputs": [],
   "source": [
    "#q1.hint()\n",
    "#q1.solution()"
   ]
  },
  {
   "cell_type": "markdown",
   "id": "15bc408c",
   "metadata": {
    "papermill": {
     "duration": 0.013576,
     "end_time": "2022-01-13T05:06:21.714814",
     "exception": false,
     "start_time": "2022-01-13T05:06:21.701238",
     "status": "completed"
    },
    "tags": []
   },
   "source": [
    "## 2.\n",
    "\n",
    "Create a dataframe `fruit_sales` that matches the diagram below:\n",
    "\n",
    "![](https://i.imgur.com/CHPn7ZF.png)"
   ]
  },
  {
   "cell_type": "code",
   "execution_count": 4,
   "id": "0bfd8741",
   "metadata": {
    "execution": {
     "iopub.execute_input": "2022-01-13T05:06:21.747611Z",
     "iopub.status.busy": "2022-01-13T05:06:21.746627Z",
     "iopub.status.idle": "2022-01-13T05:06:21.757294Z",
     "shell.execute_reply": "2022-01-13T05:06:21.756768Z",
     "shell.execute_reply.started": "2022-01-13T04:44:17.773504Z"
    },
    "papermill": {
     "duration": 0.029963,
     "end_time": "2022-01-13T05:06:21.757433",
     "exception": false,
     "start_time": "2022-01-13T05:06:21.727470",
     "status": "completed"
    },
    "tags": []
   },
   "outputs": [
    {
     "data": {
      "application/javascript": [
       "parent.postMessage({\"jupyterEvent\": \"custom.exercise_interaction\", \"data\": {\"outcomeType\": 2, \"failureMessage\": \"Expected `fruit_sales` to have column `Apples`\", \"interactionType\": 1, \"questionType\": 1, \"questionId\": \"2_FruitSalesDfCreation\", \"learnToolsVersion\": \"0.3.4\", \"valueTowardsCompletion\": 0.0, \"exceptionClass\": \"\", \"trace\": \"\"}}, \"*\")"
      ],
      "text/plain": [
       "<IPython.core.display.Javascript object>"
      ]
     },
     "metadata": {},
     "output_type": "display_data"
    },
    {
     "data": {
      "text/markdown": [
       "<span style=\"color:#cc3333\">Incorrect:</span> Expected `fruit_sales` to have column `Apples`"
      ],
      "text/plain": [
       "Incorrect: Expected `fruit_sales` to have column `Apples`"
      ]
     },
     "metadata": {},
     "output_type": "display_data"
    },
    {
     "data": {
      "text/html": [
       "<div>\n",
       "<style scoped>\n",
       "    .dataframe tbody tr th:only-of-type {\n",
       "        vertical-align: middle;\n",
       "    }\n",
       "\n",
       "    .dataframe tbody tr th {\n",
       "        vertical-align: top;\n",
       "    }\n",
       "\n",
       "    .dataframe thead th {\n",
       "        text-align: right;\n",
       "    }\n",
       "</style>\n",
       "<table border=\"1\" class=\"dataframe\">\n",
       "  <thead>\n",
       "    <tr style=\"text-align: right;\">\n",
       "      <th></th>\n",
       "      <th>Apple</th>\n",
       "      <th>Bananas</th>\n",
       "    </tr>\n",
       "  </thead>\n",
       "  <tbody>\n",
       "    <tr>\n",
       "      <th>2017 Sales</th>\n",
       "      <td>35</td>\n",
       "      <td>21</td>\n",
       "    </tr>\n",
       "    <tr>\n",
       "      <th>2018 Sales</th>\n",
       "      <td>41</td>\n",
       "      <td>34</td>\n",
       "    </tr>\n",
       "  </tbody>\n",
       "</table>\n",
       "</div>"
      ],
      "text/plain": [
       "            Apple  Bananas\n",
       "2017 Sales     35       21\n",
       "2018 Sales     41       34"
      ]
     },
     "execution_count": 4,
     "metadata": {},
     "output_type": "execute_result"
    }
   ],
   "source": [
    "# Your code goes here. Create a dataframe matching the above diagram and assign it to the variable fruit_sales.\n",
    "fruit_sales = pd.DataFrame(data={'Apple':[35,41],'Bananas':[21,34]},index=['2017 Sales','2018 Sales'])\n",
    "\n",
    "\n",
    "\n",
    "# Check your answer\n",
    "q2.check()\n",
    "fruit_sales"
   ]
  },
  {
   "cell_type": "code",
   "execution_count": 5,
   "id": "1fd0ddc9",
   "metadata": {
    "execution": {
     "iopub.execute_input": "2022-01-13T05:06:21.788910Z",
     "iopub.status.busy": "2022-01-13T05:06:21.788348Z",
     "iopub.status.idle": "2022-01-13T05:06:21.789768Z",
     "shell.execute_reply": "2022-01-13T05:06:21.790355Z"
    },
    "papermill": {
     "duration": 0.019343,
     "end_time": "2022-01-13T05:06:21.790520",
     "exception": false,
     "start_time": "2022-01-13T05:06:21.771177",
     "status": "completed"
    },
    "tags": []
   },
   "outputs": [],
   "source": [
    "#q2.hint()\n",
    "#q2.solution()"
   ]
  },
  {
   "cell_type": "markdown",
   "id": "fff15161",
   "metadata": {
    "papermill": {
     "duration": 0.014068,
     "end_time": "2022-01-13T05:06:21.818660",
     "exception": false,
     "start_time": "2022-01-13T05:06:21.804592",
     "status": "completed"
    },
    "tags": []
   },
   "source": [
    "## 3.\n",
    "\n",
    "Create a variable `ingredients` with a Series that looks like:\n",
    "\n",
    "```\n",
    "Flour     4 cups\n",
    "Milk       1 cup\n",
    "Eggs     2 large\n",
    "Spam       1 can\n",
    "Name: Dinner, dtype: object\n",
    "```"
   ]
  },
  {
   "cell_type": "code",
   "execution_count": 6,
   "id": "e13ae2cf",
   "metadata": {
    "execution": {
     "iopub.execute_input": "2022-01-13T05:06:21.849457Z",
     "iopub.status.busy": "2022-01-13T05:06:21.848857Z",
     "iopub.status.idle": "2022-01-13T05:06:21.857442Z",
     "shell.execute_reply": "2022-01-13T05:06:21.857881Z",
     "shell.execute_reply.started": "2022-01-13T04:48:13.536909Z"
    },
    "papermill": {
     "duration": 0.025667,
     "end_time": "2022-01-13T05:06:21.858067",
     "exception": false,
     "start_time": "2022-01-13T05:06:21.832400",
     "status": "completed"
    },
    "tags": []
   },
   "outputs": [
    {
     "data": {
      "application/javascript": [
       "parent.postMessage({\"jupyterEvent\": \"custom.exercise_interaction\", \"data\": {\"outcomeType\": 2, \"failureMessage\": \"Incorrect value for `ingredients`\", \"interactionType\": 1, \"questionType\": 2, \"questionId\": \"3_RecipeSeriesCreation\", \"learnToolsVersion\": \"0.3.4\", \"valueTowardsCompletion\": 0.0, \"exceptionClass\": \"\", \"trace\": \"\"}}, \"*\")"
      ],
      "text/plain": [
       "<IPython.core.display.Javascript object>"
      ]
     },
     "metadata": {},
     "output_type": "display_data"
    },
    {
     "data": {
      "text/markdown": [
       "<span style=\"color:#cc3333\">Incorrect:</span> Incorrect value for `ingredients`"
      ],
      "text/plain": [
       "Incorrect: Incorrect value for `ingredients`"
      ]
     },
     "metadata": {},
     "output_type": "display_data"
    },
    {
     "data": {
      "text/plain": [
       "fruit_sales     4 cups\n",
       "Milk             1 cup\n",
       "Eggs           2 large\n",
       "Spam             1 can\n",
       "Name: Dinner, dtype: object"
      ]
     },
     "execution_count": 6,
     "metadata": {},
     "output_type": "execute_result"
    }
   ],
   "source": [
    "ingredients = pd.Series({'fruit_sales':'4 cups','Milk':'1 cup','Eggs':'2 large','Spam':'1 can'},name='Dinner')\n",
    "\n",
    "\n",
    "# Check your answer\n",
    "q3.check()\n",
    "ingredients"
   ]
  },
  {
   "cell_type": "code",
   "execution_count": 7,
   "id": "b0c8a612",
   "metadata": {
    "execution": {
     "iopub.execute_input": "2022-01-13T05:06:21.890703Z",
     "iopub.status.busy": "2022-01-13T05:06:21.890156Z",
     "iopub.status.idle": "2022-01-13T05:06:21.892297Z",
     "shell.execute_reply": "2022-01-13T05:06:21.892685Z"
    },
    "papermill": {
     "duration": 0.020292,
     "end_time": "2022-01-13T05:06:21.892855",
     "exception": false,
     "start_time": "2022-01-13T05:06:21.872563",
     "status": "completed"
    },
    "tags": []
   },
   "outputs": [],
   "source": [
    "#q3.hint()\n",
    "#q3.solution()"
   ]
  },
  {
   "cell_type": "markdown",
   "id": "dbd10bfa",
   "metadata": {
    "papermill": {
     "duration": 0.014726,
     "end_time": "2022-01-13T05:06:21.922496",
     "exception": false,
     "start_time": "2022-01-13T05:06:21.907770",
     "status": "completed"
    },
    "tags": []
   },
   "source": [
    "## 4.\n",
    "\n",
    "Read the following csv dataset of wine reviews into a DataFrame called `reviews`:\n",
    "\n",
    "![](https://i.imgur.com/74RCZtU.png)\n",
    "\n",
    "The filepath to the csv file is `../input/wine-reviews/winemag-data_first150k.csv`. The first few lines look like:\n",
    "\n",
    "```\n",
    ",country,description,designation,points,price,province,region_1,region_2,variety,winery\n",
    "0,US,\"This tremendous 100% varietal wine[...]\",Martha's Vineyard,96,235.0,California,Napa Valley,Napa,Cabernet Sauvignon,Heitz\n",
    "1,Spain,\"Ripe aromas of fig, blackberry and[...]\",Carodorum Selección Especial Reserva,96,110.0,Northern Spain,Toro,,Tinta de Toro,Bodega Carmen Rodríguez\n",
    "```"
   ]
  },
  {
   "cell_type": "code",
   "execution_count": 8,
   "id": "5d0b4673",
   "metadata": {
    "execution": {
     "iopub.execute_input": "2022-01-13T05:06:21.957352Z",
     "iopub.status.busy": "2022-01-13T05:06:21.956735Z",
     "iopub.status.idle": "2022-01-13T05:06:22.797272Z",
     "shell.execute_reply": "2022-01-13T05:06:22.796647Z",
     "shell.execute_reply.started": "2022-01-13T04:51:08.412838Z"
    },
    "papermill": {
     "duration": 0.859795,
     "end_time": "2022-01-13T05:06:22.797413",
     "exception": false,
     "start_time": "2022-01-13T05:06:21.937618",
     "status": "completed"
    },
    "tags": []
   },
   "outputs": [
    {
     "data": {
      "application/javascript": [
       "parent.postMessage({\"jupyterEvent\": \"custom.exercise_interaction\", \"data\": {\"outcomeType\": 2, \"failureMessage\": \"Unexpected column in `reviews`: `Unnamed: 0`\", \"interactionType\": 1, \"questionType\": 1, \"questionId\": \"4_ReadWineCsv\", \"learnToolsVersion\": \"0.3.4\", \"valueTowardsCompletion\": 0.0, \"exceptionClass\": \"\", \"trace\": \"\"}}, \"*\")"
      ],
      "text/plain": [
       "<IPython.core.display.Javascript object>"
      ]
     },
     "metadata": {},
     "output_type": "display_data"
    },
    {
     "data": {
      "text/markdown": [
       "<span style=\"color:#cc3333\">Incorrect:</span> Unexpected column in `reviews`: `Unnamed: 0`"
      ],
      "text/plain": [
       "Incorrect: Unexpected column in `reviews`: `Unnamed: 0`"
      ]
     },
     "metadata": {},
     "output_type": "display_data"
    },
    {
     "data": {
      "text/html": [
       "<div>\n",
       "<style scoped>\n",
       "    .dataframe tbody tr th:only-of-type {\n",
       "        vertical-align: middle;\n",
       "    }\n",
       "\n",
       "    .dataframe tbody tr th {\n",
       "        vertical-align: top;\n",
       "    }\n",
       "\n",
       "    .dataframe thead th {\n",
       "        text-align: right;\n",
       "    }\n",
       "</style>\n",
       "<table border=\"1\" class=\"dataframe\">\n",
       "  <thead>\n",
       "    <tr style=\"text-align: right;\">\n",
       "      <th></th>\n",
       "      <th>Unnamed: 0</th>\n",
       "      <th>country</th>\n",
       "      <th>description</th>\n",
       "      <th>designation</th>\n",
       "      <th>points</th>\n",
       "      <th>price</th>\n",
       "      <th>province</th>\n",
       "      <th>region_1</th>\n",
       "      <th>region_2</th>\n",
       "      <th>variety</th>\n",
       "      <th>winery</th>\n",
       "    </tr>\n",
       "  </thead>\n",
       "  <tbody>\n",
       "    <tr>\n",
       "      <th>0</th>\n",
       "      <td>0</td>\n",
       "      <td>US</td>\n",
       "      <td>This tremendous 100% varietal wine hails from ...</td>\n",
       "      <td>Martha's Vineyard</td>\n",
       "      <td>96</td>\n",
       "      <td>235.0</td>\n",
       "      <td>California</td>\n",
       "      <td>Napa Valley</td>\n",
       "      <td>Napa</td>\n",
       "      <td>Cabernet Sauvignon</td>\n",
       "      <td>Heitz</td>\n",
       "    </tr>\n",
       "    <tr>\n",
       "      <th>1</th>\n",
       "      <td>1</td>\n",
       "      <td>Spain</td>\n",
       "      <td>Ripe aromas of fig, blackberry and cassis are ...</td>\n",
       "      <td>Carodorum Selección Especial Reserva</td>\n",
       "      <td>96</td>\n",
       "      <td>110.0</td>\n",
       "      <td>Northern Spain</td>\n",
       "      <td>Toro</td>\n",
       "      <td>NaN</td>\n",
       "      <td>Tinta de Toro</td>\n",
       "      <td>Bodega Carmen Rodríguez</td>\n",
       "    </tr>\n",
       "    <tr>\n",
       "      <th>...</th>\n",
       "      <td>...</td>\n",
       "      <td>...</td>\n",
       "      <td>...</td>\n",
       "      <td>...</td>\n",
       "      <td>...</td>\n",
       "      <td>...</td>\n",
       "      <td>...</td>\n",
       "      <td>...</td>\n",
       "      <td>...</td>\n",
       "      <td>...</td>\n",
       "      <td>...</td>\n",
       "    </tr>\n",
       "    <tr>\n",
       "      <th>150928</th>\n",
       "      <td>150928</td>\n",
       "      <td>France</td>\n",
       "      <td>A perfect salmon shade, with scents of peaches...</td>\n",
       "      <td>Grand Brut Rosé</td>\n",
       "      <td>90</td>\n",
       "      <td>52.0</td>\n",
       "      <td>Champagne</td>\n",
       "      <td>Champagne</td>\n",
       "      <td>NaN</td>\n",
       "      <td>Champagne Blend</td>\n",
       "      <td>Gosset</td>\n",
       "    </tr>\n",
       "    <tr>\n",
       "      <th>150929</th>\n",
       "      <td>150929</td>\n",
       "      <td>Italy</td>\n",
       "      <td>More Pinot Grigios should taste like this. A r...</td>\n",
       "      <td>NaN</td>\n",
       "      <td>90</td>\n",
       "      <td>15.0</td>\n",
       "      <td>Northeastern Italy</td>\n",
       "      <td>Alto Adige</td>\n",
       "      <td>NaN</td>\n",
       "      <td>Pinot Grigio</td>\n",
       "      <td>Alois Lageder</td>\n",
       "    </tr>\n",
       "  </tbody>\n",
       "</table>\n",
       "<p>150930 rows × 11 columns</p>\n",
       "</div>"
      ],
      "text/plain": [
       "        Unnamed: 0 country                                        description  \\\n",
       "0                0      US  This tremendous 100% varietal wine hails from ...   \n",
       "1                1   Spain  Ripe aromas of fig, blackberry and cassis are ...   \n",
       "...            ...     ...                                                ...   \n",
       "150928      150928  France  A perfect salmon shade, with scents of peaches...   \n",
       "150929      150929   Italy  More Pinot Grigios should taste like this. A r...   \n",
       "\n",
       "                                 designation  points  price  \\\n",
       "0                          Martha's Vineyard      96  235.0   \n",
       "1       Carodorum Selección Especial Reserva      96  110.0   \n",
       "...                                      ...     ...    ...   \n",
       "150928                       Grand Brut Rosé      90   52.0   \n",
       "150929                                   NaN      90   15.0   \n",
       "\n",
       "                  province     region_1 region_2             variety  \\\n",
       "0               California  Napa Valley     Napa  Cabernet Sauvignon   \n",
       "1           Northern Spain         Toro      NaN       Tinta de Toro   \n",
       "...                    ...          ...      ...                 ...   \n",
       "150928           Champagne    Champagne      NaN     Champagne Blend   \n",
       "150929  Northeastern Italy   Alto Adige      NaN        Pinot Grigio   \n",
       "\n",
       "                         winery  \n",
       "0                         Heitz  \n",
       "1       Bodega Carmen Rodríguez  \n",
       "...                         ...  \n",
       "150928                   Gosset  \n",
       "150929            Alois Lageder  \n",
       "\n",
       "[150930 rows x 11 columns]"
      ]
     },
     "execution_count": 8,
     "metadata": {},
     "output_type": "execute_result"
    }
   ],
   "source": [
    "reviews = pd.read_csv(\"../input/wine-reviews/winemag-data_first150k.csv\")\n",
    "\n",
    "# Check your answer\n",
    "q4.check()\n",
    "reviews"
   ]
  },
  {
   "cell_type": "code",
   "execution_count": 9,
   "id": "67812d0c",
   "metadata": {
    "execution": {
     "iopub.execute_input": "2022-01-13T05:06:22.835023Z",
     "iopub.status.busy": "2022-01-13T05:06:22.834094Z",
     "iopub.status.idle": "2022-01-13T05:06:22.836840Z",
     "shell.execute_reply": "2022-01-13T05:06:22.836285Z"
    },
    "papermill": {
     "duration": 0.023604,
     "end_time": "2022-01-13T05:06:22.837003",
     "exception": false,
     "start_time": "2022-01-13T05:06:22.813399",
     "status": "completed"
    },
    "tags": []
   },
   "outputs": [],
   "source": [
    "#q4.hint()\n",
    "#q4.solution()"
   ]
  },
  {
   "cell_type": "markdown",
   "id": "8c345b8d",
   "metadata": {
    "papermill": {
     "duration": 0.015647,
     "end_time": "2022-01-13T05:06:22.870090",
     "exception": false,
     "start_time": "2022-01-13T05:06:22.854443",
     "status": "completed"
    },
    "tags": []
   },
   "source": [
    "## 5.\n",
    "\n",
    "Run the cell below to create and display a DataFrame called `animals`:"
   ]
  },
  {
   "cell_type": "code",
   "execution_count": 10,
   "id": "ecf5e302",
   "metadata": {
    "execution": {
     "iopub.execute_input": "2022-01-13T05:06:22.912608Z",
     "iopub.status.busy": "2022-01-13T05:06:22.911809Z",
     "iopub.status.idle": "2022-01-13T05:06:22.915701Z",
     "shell.execute_reply": "2022-01-13T05:06:22.915211Z",
     "shell.execute_reply.started": "2022-01-13T04:52:12.367393Z"
    },
    "papermill": {
     "duration": 0.029735,
     "end_time": "2022-01-13T05:06:22.915837",
     "exception": false,
     "start_time": "2022-01-13T05:06:22.886102",
     "status": "completed"
    },
    "tags": []
   },
   "outputs": [
    {
     "data": {
      "text/html": [
       "<div>\n",
       "<style scoped>\n",
       "    .dataframe tbody tr th:only-of-type {\n",
       "        vertical-align: middle;\n",
       "    }\n",
       "\n",
       "    .dataframe tbody tr th {\n",
       "        vertical-align: top;\n",
       "    }\n",
       "\n",
       "    .dataframe thead th {\n",
       "        text-align: right;\n",
       "    }\n",
       "</style>\n",
       "<table border=\"1\" class=\"dataframe\">\n",
       "  <thead>\n",
       "    <tr style=\"text-align: right;\">\n",
       "      <th></th>\n",
       "      <th>Cows</th>\n",
       "      <th>Goats</th>\n",
       "    </tr>\n",
       "  </thead>\n",
       "  <tbody>\n",
       "    <tr>\n",
       "      <th>Year 1</th>\n",
       "      <td>12</td>\n",
       "      <td>22</td>\n",
       "    </tr>\n",
       "    <tr>\n",
       "      <th>Year 2</th>\n",
       "      <td>20</td>\n",
       "      <td>19</td>\n",
       "    </tr>\n",
       "  </tbody>\n",
       "</table>\n",
       "</div>"
      ],
      "text/plain": [
       "        Cows  Goats\n",
       "Year 1    12     22\n",
       "Year 2    20     19"
      ]
     },
     "execution_count": 10,
     "metadata": {},
     "output_type": "execute_result"
    }
   ],
   "source": [
    "animals = pd.DataFrame({'Cows': [12, 20], 'Goats': [22, 19]}, index=['Year 1', 'Year 2'])\n",
    "animals"
   ]
  },
  {
   "cell_type": "markdown",
   "id": "3565d644",
   "metadata": {
    "papermill": {
     "duration": 0.016838,
     "end_time": "2022-01-13T05:06:22.949913",
     "exception": false,
     "start_time": "2022-01-13T05:06:22.933075",
     "status": "completed"
    },
    "tags": []
   },
   "source": [
    "In the cell below, write code to save this DataFrame to disk as a csv file with the name `cows_and_goats.csv`."
   ]
  },
  {
   "cell_type": "code",
   "execution_count": 11,
   "id": "65bdded8",
   "metadata": {
    "execution": {
     "iopub.execute_input": "2022-01-13T05:06:22.988138Z",
     "iopub.status.busy": "2022-01-13T05:06:22.987503Z",
     "iopub.status.idle": "2022-01-13T05:06:22.998039Z",
     "shell.execute_reply": "2022-01-13T05:06:22.998550Z",
     "shell.execute_reply.started": "2022-01-13T04:52:48.871146Z"
    },
    "papermill": {
     "duration": 0.032187,
     "end_time": "2022-01-13T05:06:22.998712",
     "exception": false,
     "start_time": "2022-01-13T05:06:22.966525",
     "status": "completed"
    },
    "tags": []
   },
   "outputs": [
    {
     "data": {
      "application/javascript": [
       "parent.postMessage({\"jupyterEvent\": \"custom.exercise_interaction\", \"data\": {\"outcomeType\": 1, \"valueTowardsCompletion\": 0.16666666666666666, \"interactionType\": 1, \"questionType\": 2, \"questionId\": \"5_SaveAnimalsCsv\", \"learnToolsVersion\": \"0.3.4\", \"failureMessage\": \"\", \"exceptionClass\": \"\", \"trace\": \"\"}}, \"*\")"
      ],
      "text/plain": [
       "<IPython.core.display.Javascript object>"
      ]
     },
     "metadata": {},
     "output_type": "display_data"
    },
    {
     "data": {
      "text/markdown": [
       "<span style=\"color:#33cc33\">Correct</span>"
      ],
      "text/plain": [
       "Correct"
      ]
     },
     "metadata": {},
     "output_type": "display_data"
    }
   ],
   "source": [
    "# Your code goes here\n",
    "animals.to_csv(\"cows_and_goats.csv\")\n",
    "# Check your answer\n",
    "q5.check()"
   ]
  },
  {
   "cell_type": "code",
   "execution_count": 12,
   "id": "b90d38ee",
   "metadata": {
    "execution": {
     "iopub.execute_input": "2022-01-13T05:06:23.038437Z",
     "iopub.status.busy": "2022-01-13T05:06:23.037733Z",
     "iopub.status.idle": "2022-01-13T05:06:23.040083Z",
     "shell.execute_reply": "2022-01-13T05:06:23.040585Z"
    },
    "papermill": {
     "duration": 0.024237,
     "end_time": "2022-01-13T05:06:23.040749",
     "exception": false,
     "start_time": "2022-01-13T05:06:23.016512",
     "status": "completed"
    },
    "tags": []
   },
   "outputs": [],
   "source": [
    "#q5.hint()\n",
    "#q5.solution()"
   ]
  },
  {
   "cell_type": "markdown",
   "id": "c8907c55",
   "metadata": {
    "papermill": {
     "duration": 0.017657,
     "end_time": "2022-01-13T05:06:23.075636",
     "exception": false,
     "start_time": "2022-01-13T05:06:23.057979",
     "status": "completed"
    },
    "tags": []
   },
   "source": [
    "# Keep going \n",
    "\n",
    "Move on to learn about **[indexing, selecting and assigning](https://www.kaggle.com/residentmario/indexing-selecting-assigning)**."
   ]
  },
  {
   "cell_type": "markdown",
   "id": "fa9d6984",
   "metadata": {
    "papermill": {
     "duration": 0.016846,
     "end_time": "2022-01-13T05:06:23.110618",
     "exception": false,
     "start_time": "2022-01-13T05:06:23.093772",
     "status": "completed"
    },
    "tags": []
   },
   "source": [
    "### THANK YOU !!"
   ]
  },
  {
   "cell_type": "markdown",
   "id": "e4dbc83a",
   "metadata": {
    "papermill": {
     "duration": 0.018008,
     "end_time": "2022-01-13T05:06:23.146289",
     "exception": false,
     "start_time": "2022-01-13T05:06:23.128281",
     "status": "completed"
    },
    "tags": []
   },
   "source": [
    "---\n",
    "\n",
    "\n",
    "\n",
    "\n",
    "*Have questions or comments? Visit the [course discussion forum](https://www.kaggle.com/learn/pandas/discussion) to chat with other learners.*"
   ]
  }
 ],
 "metadata": {
  "kernelspec": {
   "display_name": "Python 3",
   "language": "python",
   "name": "python3"
  },
  "language_info": {
   "codemirror_mode": {
    "name": "ipython",
    "version": 3
   },
   "file_extension": ".py",
   "mimetype": "text/x-python",
   "name": "python",
   "nbconvert_exporter": "python",
   "pygments_lexer": "ipython3",
   "version": "3.7.12"
  },
  "papermill": {
   "default_parameters": {},
   "duration": 12.978663,
   "end_time": "2022-01-13T05:06:23.773275",
   "environment_variables": {},
   "exception": null,
   "input_path": "__notebook__.ipynb",
   "output_path": "__notebook__.ipynb",
   "parameters": {},
   "start_time": "2022-01-13T05:06:10.794612",
   "version": "2.3.3"
  }
 },
 "nbformat": 4,
 "nbformat_minor": 5
}
