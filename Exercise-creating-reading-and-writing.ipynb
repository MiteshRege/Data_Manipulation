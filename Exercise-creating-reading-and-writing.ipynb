{
 "cells": [
  {
   "cell_type": "markdown",
   "id": "5f7ce6d3",
   "metadata": {
    "papermill": {
     "duration": 0.017766,
     "end_time": "2022-01-13T10:56:01.554750",
     "exception": false,
     "start_time": "2022-01-13T10:56:01.536984",
     "status": "completed"
    },
    "tags": []
   },
   "source": [
    "**This notebook is an exercise in the [Pandas](https://www.kaggle.com/learn/pandas) course.  You can reference the tutorial at [this link](https://www.kaggle.com/residentmario/creating-reading-and-writing).**\n",
    "\n",
    "---\n"
   ]
  },
  {
   "cell_type": "markdown",
   "id": "7a2705b1",
   "metadata": {
    "papermill": {
     "duration": 0.016219,
     "end_time": "2022-01-13T10:56:01.589486",
     "exception": false,
     "start_time": "2022-01-13T10:56:01.573267",
     "status": "completed"
    },
    "tags": []
   },
   "source": [
    "### Hello . I'am Mitesh Rege "
   ]
  },
  {
   "cell_type": "markdown",
   "id": "5942f3a3",
   "metadata": {
    "papermill": {
     "duration": 0.016067,
     "end_time": "2022-01-13T10:56:01.622046",
     "exception": false,
     "start_time": "2022-01-13T10:56:01.605979",
     "status": "completed"
    },
    "tags": []
   },
   "source": [
    "# Introduction\n",
    "\n",
    "The first step in most data analytics projects is reading the data file. In this exercise, you'll create Series and DataFrame objects, both by hand and by reading data files.\n",
    "\n",
    "Run the code cell below to load libraries you will need (including code to check your answers)."
   ]
  },
  {
   "cell_type": "code",
   "execution_count": 1,
   "id": "e89fb70d",
   "metadata": {
    "execution": {
     "iopub.execute_input": "2022-01-13T10:56:01.660082Z",
     "iopub.status.busy": "2022-01-13T10:56:01.658863Z",
     "iopub.status.idle": "2022-01-13T10:56:03.622027Z",
     "shell.execute_reply": "2022-01-13T10:56:03.620996Z",
     "shell.execute_reply.started": "2022-01-13T10:48:43.730556Z"
    },
    "papermill": {
     "duration": 1.983913,
     "end_time": "2022-01-13T10:56:03.622231",
     "exception": false,
     "start_time": "2022-01-13T10:56:01.638318",
     "status": "completed"
    },
    "tags": []
   },
   "outputs": [
    {
     "name": "stdout",
     "output_type": "stream",
     "text": [
      "Setup complete.\n"
     ]
    }
   ],
   "source": [
    "import pandas as pd\n",
    "pd.set_option('max_rows', 5)\n",
    "from learntools.core import binder; binder.bind(globals())\n",
    "from learntools.pandas.creating_reading_and_writing import *\n",
    "print(\"Setup complete.\")"
   ]
  },
  {
   "cell_type": "markdown",
   "id": "204a7db5",
   "metadata": {
    "papermill": {
     "duration": 0.0187,
     "end_time": "2022-01-13T10:56:03.659324",
     "exception": false,
     "start_time": "2022-01-13T10:56:03.640624",
     "status": "completed"
    },
    "tags": []
   },
   "source": [
    "# Exercises"
   ]
  },
  {
   "cell_type": "markdown",
   "id": "5ae5517f",
   "metadata": {
    "papermill": {
     "duration": 0.018616,
     "end_time": "2022-01-13T10:56:03.696942",
     "exception": false,
     "start_time": "2022-01-13T10:56:03.678326",
     "status": "completed"
    },
    "tags": []
   },
   "source": [
    "## 1.\n",
    "\n",
    "In the cell below, create a DataFrame `fruits` that looks like this:\n",
    "\n",
    "![](https://i.imgur.com/Ax3pp2A.png)"
   ]
  },
  {
   "cell_type": "code",
   "execution_count": 2,
   "id": "083e5e5b",
   "metadata": {
    "execution": {
     "iopub.execute_input": "2022-01-13T10:56:03.743736Z",
     "iopub.status.busy": "2022-01-13T10:56:03.742989Z",
     "iopub.status.idle": "2022-01-13T10:56:03.757664Z",
     "shell.execute_reply": "2022-01-13T10:56:03.758352Z",
     "shell.execute_reply.started": "2022-01-13T10:49:15.408454Z"
    },
    "papermill": {
     "duration": 0.043157,
     "end_time": "2022-01-13T10:56:03.758546",
     "exception": false,
     "start_time": "2022-01-13T10:56:03.715389",
     "status": "completed"
    },
    "tags": []
   },
   "outputs": [
    {
     "data": {
      "application/javascript": [
       "parent.postMessage({\"jupyterEvent\": \"custom.exercise_interaction\", \"data\": {\"outcomeType\": 1, \"valueTowardsCompletion\": 0.16666666666666666, \"interactionType\": 1, \"questionType\": 1, \"questionId\": \"1_FruitDfCreation\", \"learnToolsVersion\": \"0.3.4\", \"failureMessage\": \"\", \"exceptionClass\": \"\", \"trace\": \"\"}}, \"*\")"
      ],
      "text/plain": [
       "<IPython.core.display.Javascript object>"
      ]
     },
     "metadata": {},
     "output_type": "display_data"
    },
    {
     "data": {
      "text/markdown": [
       "<span style=\"color:#33cc33\">Correct</span>"
      ],
      "text/plain": [
       "Correct"
      ]
     },
     "metadata": {},
     "output_type": "display_data"
    },
    {
     "data": {
      "text/html": [
       "<div>\n",
       "<style scoped>\n",
       "    .dataframe tbody tr th:only-of-type {\n",
       "        vertical-align: middle;\n",
       "    }\n",
       "\n",
       "    .dataframe tbody tr th {\n",
       "        vertical-align: top;\n",
       "    }\n",
       "\n",
       "    .dataframe thead th {\n",
       "        text-align: right;\n",
       "    }\n",
       "</style>\n",
       "<table border=\"1\" class=\"dataframe\">\n",
       "  <thead>\n",
       "    <tr style=\"text-align: right;\">\n",
       "      <th></th>\n",
       "      <th>Apples</th>\n",
       "      <th>Bananas</th>\n",
       "    </tr>\n",
       "  </thead>\n",
       "  <tbody>\n",
       "    <tr>\n",
       "      <th>0</th>\n",
       "      <td>30</td>\n",
       "      <td>21</td>\n",
       "    </tr>\n",
       "  </tbody>\n",
       "</table>\n",
       "</div>"
      ],
      "text/plain": [
       "   Apples  Bananas\n",
       "0      30       21"
      ]
     },
     "execution_count": 2,
     "metadata": {},
     "output_type": "execute_result"
    }
   ],
   "source": [
    "# Your code goes here. Create a dataframe matching the above diagram and assign it to the variable fruits.\n",
    "# fruits = {'Apples': [30],'Bananas':[21]}\n",
    "# df_fruits = pd.DataFrame(data=fruits)\n",
    "# method 2 :\n",
    "fruits = pd.DataFrame([[30, 21]], columns=['Apples', 'Bananas'])\n",
    "\n",
    "\n",
    "# Check your answer\n",
    "q1.check()\n",
    "fruits\n"
   ]
  },
  {
   "cell_type": "code",
   "execution_count": 3,
   "id": "2ec80834",
   "metadata": {
    "execution": {
     "iopub.execute_input": "2022-01-13T10:56:03.798737Z",
     "iopub.status.busy": "2022-01-13T10:56:03.798079Z",
     "iopub.status.idle": "2022-01-13T10:56:03.802032Z",
     "shell.execute_reply": "2022-01-13T10:56:03.802585Z"
    },
    "papermill": {
     "duration": 0.025849,
     "end_time": "2022-01-13T10:56:03.802749",
     "exception": false,
     "start_time": "2022-01-13T10:56:03.776900",
     "status": "completed"
    },
    "tags": []
   },
   "outputs": [],
   "source": [
    "#q1.hint()\n",
    "# q1.solution()"
   ]
  },
  {
   "cell_type": "markdown",
   "id": "b17a3890",
   "metadata": {
    "papermill": {
     "duration": 0.017987,
     "end_time": "2022-01-13T10:56:03.839495",
     "exception": false,
     "start_time": "2022-01-13T10:56:03.821508",
     "status": "completed"
    },
    "tags": []
   },
   "source": [
    "## 2.\n",
    "\n",
    "Create a dataframe `fruit_sales` that matches the diagram below:\n",
    "\n",
    "![](https://i.imgur.com/CHPn7ZF.png)"
   ]
  },
  {
   "cell_type": "code",
   "execution_count": 4,
   "id": "5cb3be0b",
   "metadata": {
    "execution": {
     "iopub.execute_input": "2022-01-13T10:56:03.884599Z",
     "iopub.status.busy": "2022-01-13T10:56:03.883890Z",
     "iopub.status.idle": "2022-01-13T10:56:03.896907Z",
     "shell.execute_reply": "2022-01-13T10:56:03.896255Z",
     "shell.execute_reply.started": "2022-01-13T10:49:58.482022Z"
    },
    "papermill": {
     "duration": 0.039358,
     "end_time": "2022-01-13T10:56:03.897065",
     "exception": false,
     "start_time": "2022-01-13T10:56:03.857707",
     "status": "completed"
    },
    "tags": []
   },
   "outputs": [
    {
     "data": {
      "application/javascript": [
       "parent.postMessage({\"jupyterEvent\": \"custom.exercise_interaction\", \"data\": {\"outcomeType\": 1, \"valueTowardsCompletion\": 0.16666666666666666, \"interactionType\": 1, \"questionType\": 1, \"questionId\": \"2_FruitSalesDfCreation\", \"learnToolsVersion\": \"0.3.4\", \"failureMessage\": \"\", \"exceptionClass\": \"\", \"trace\": \"\"}}, \"*\")"
      ],
      "text/plain": [
       "<IPython.core.display.Javascript object>"
      ]
     },
     "metadata": {},
     "output_type": "display_data"
    },
    {
     "data": {
      "text/markdown": [
       "<span style=\"color:#33cc33\">Correct</span>"
      ],
      "text/plain": [
       "Correct"
      ]
     },
     "metadata": {},
     "output_type": "display_data"
    },
    {
     "data": {
      "text/html": [
       "<div>\n",
       "<style scoped>\n",
       "    .dataframe tbody tr th:only-of-type {\n",
       "        vertical-align: middle;\n",
       "    }\n",
       "\n",
       "    .dataframe tbody tr th {\n",
       "        vertical-align: top;\n",
       "    }\n",
       "\n",
       "    .dataframe thead th {\n",
       "        text-align: right;\n",
       "    }\n",
       "</style>\n",
       "<table border=\"1\" class=\"dataframe\">\n",
       "  <thead>\n",
       "    <tr style=\"text-align: right;\">\n",
       "      <th></th>\n",
       "      <th>Apples</th>\n",
       "      <th>Bananas</th>\n",
       "    </tr>\n",
       "  </thead>\n",
       "  <tbody>\n",
       "    <tr>\n",
       "      <th>2017 Sales</th>\n",
       "      <td>35</td>\n",
       "      <td>21</td>\n",
       "    </tr>\n",
       "    <tr>\n",
       "      <th>2018 Sales</th>\n",
       "      <td>41</td>\n",
       "      <td>34</td>\n",
       "    </tr>\n",
       "  </tbody>\n",
       "</table>\n",
       "</div>"
      ],
      "text/plain": [
       "            Apples  Bananas\n",
       "2017 Sales      35       21\n",
       "2018 Sales      41       34"
      ]
     },
     "execution_count": 4,
     "metadata": {},
     "output_type": "execute_result"
    }
   ],
   "source": [
    "# Your code goes here. Create a dataframe matching the above diagram and assign it to the variable fruit_sales.\n",
    "fruit_sales = pd.DataFrame(data={'Apples':[35,41],'Bananas':[21,34]},index=['2017 Sales','2018 Sales'])\n",
    "\n",
    "\n",
    "\n",
    "# Check your answer\n",
    "q2.check()\n",
    "fruit_sales"
   ]
  },
  {
   "cell_type": "code",
   "execution_count": 5,
   "id": "7fd7414e",
   "metadata": {
    "execution": {
     "iopub.execute_input": "2022-01-13T10:56:03.941886Z",
     "iopub.status.busy": "2022-01-13T10:56:03.941215Z",
     "iopub.status.idle": "2022-01-13T10:56:03.944475Z",
     "shell.execute_reply": "2022-01-13T10:56:03.943933Z",
     "shell.execute_reply.started": "2022-01-13T05:11:58.405066Z"
    },
    "papermill": {
     "duration": 0.027653,
     "end_time": "2022-01-13T10:56:03.944621",
     "exception": false,
     "start_time": "2022-01-13T10:56:03.916968",
     "status": "completed"
    },
    "tags": []
   },
   "outputs": [],
   "source": [
    "#q2.hint()\n",
    "#q2.solution()"
   ]
  },
  {
   "cell_type": "markdown",
   "id": "d0a00800",
   "metadata": {
    "papermill": {
     "duration": 0.0194,
     "end_time": "2022-01-13T10:56:03.984254",
     "exception": false,
     "start_time": "2022-01-13T10:56:03.964854",
     "status": "completed"
    },
    "tags": []
   },
   "source": [
    "## 3.\n",
    "\n",
    "Create a variable `ingredients` with a Series that looks like:\n",
    "\n",
    "```\n",
    "Flour     4 cups\n",
    "Milk       1 cup\n",
    "Eggs     2 large\n",
    "Spam       1 can\n",
    "Name: Dinner, dtype: object\n",
    "```"
   ]
  },
  {
   "cell_type": "code",
   "execution_count": 6,
   "id": "a8e57191",
   "metadata": {
    "execution": {
     "iopub.execute_input": "2022-01-13T10:56:04.027705Z",
     "iopub.status.busy": "2022-01-13T10:56:04.027042Z",
     "iopub.status.idle": "2022-01-13T10:56:04.039493Z",
     "shell.execute_reply": "2022-01-13T10:56:04.040047Z",
     "shell.execute_reply.started": "2022-01-13T10:53:01.355007Z"
    },
    "papermill": {
     "duration": 0.036386,
     "end_time": "2022-01-13T10:56:04.040221",
     "exception": false,
     "start_time": "2022-01-13T10:56:04.003835",
     "status": "completed"
    },
    "tags": []
   },
   "outputs": [
    {
     "data": {
      "application/javascript": [
       "parent.postMessage({\"jupyterEvent\": \"custom.exercise_interaction\", \"data\": {\"outcomeType\": 1, \"valueTowardsCompletion\": 0.16666666666666666, \"interactionType\": 1, \"questionType\": 2, \"questionId\": \"3_RecipeSeriesCreation\", \"learnToolsVersion\": \"0.3.4\", \"failureMessage\": \"\", \"exceptionClass\": \"\", \"trace\": \"\"}}, \"*\")"
      ],
      "text/plain": [
       "<IPython.core.display.Javascript object>"
      ]
     },
     "metadata": {},
     "output_type": "display_data"
    },
    {
     "data": {
      "text/markdown": [
       "<span style=\"color:#33cc33\">Correct</span>"
      ],
      "text/plain": [
       "Correct"
      ]
     },
     "metadata": {},
     "output_type": "display_data"
    },
    {
     "data": {
      "text/plain": [
       "Flour     4 cups\n",
       "Milk       1 cup\n",
       "Eggs     2 large\n",
       "Spam       1 can\n",
       "Name: Dinner, dtype: object"
      ]
     },
     "execution_count": 6,
     "metadata": {},
     "output_type": "execute_result"
    }
   ],
   "source": [
    "# method 1 :\n",
    "# ingredients = pd.Series({'fruit_sales':'4 cups','Milk':'1 cup','Eggs':'2 large','Spam':'1 can'},name='Dinner')\n",
    "# method 2 :\n",
    "quantities = ['4 cups', '1 cup', '2 large', '1 can']\n",
    "items = ['Flour', 'Milk', 'Eggs', 'Spam']\n",
    "ingredients = pd.Series(quantities, index=items, name='Dinner')\n",
    "\n",
    "# Check your answer\n",
    "q3.check()\n",
    "ingredients"
   ]
  },
  {
   "cell_type": "code",
   "execution_count": 7,
   "id": "2a6af71d",
   "metadata": {
    "execution": {
     "iopub.execute_input": "2022-01-13T10:56:04.086581Z",
     "iopub.status.busy": "2022-01-13T10:56:04.085865Z",
     "iopub.status.idle": "2022-01-13T10:56:04.089574Z",
     "shell.execute_reply": "2022-01-13T10:56:04.090104Z"
    },
    "papermill": {
     "duration": 0.028683,
     "end_time": "2022-01-13T10:56:04.090281",
     "exception": false,
     "start_time": "2022-01-13T10:56:04.061598",
     "status": "completed"
    },
    "tags": []
   },
   "outputs": [],
   "source": [
    "#q3.hint()\n",
    "# q3.solution()"
   ]
  },
  {
   "cell_type": "markdown",
   "id": "639cbc9c",
   "metadata": {
    "papermill": {
     "duration": 0.021155,
     "end_time": "2022-01-13T10:56:04.132974",
     "exception": false,
     "start_time": "2022-01-13T10:56:04.111819",
     "status": "completed"
    },
    "tags": []
   },
   "source": [
    "## 4.\n",
    "\n",
    "Read the following csv dataset of wine reviews into a DataFrame called `reviews`:\n",
    "\n",
    "![](https://i.imgur.com/74RCZtU.png)\n",
    "\n",
    "The filepath to the csv file is `../input/wine-reviews/winemag-data_first150k.csv`. The first few lines look like:\n",
    "\n",
    "```\n",
    ",country,description,designation,points,price,province,region_1,region_2,variety,winery\n",
    "0,US,\"This tremendous 100% varietal wine[...]\",Martha's Vineyard,96,235.0,California,Napa Valley,Napa,Cabernet Sauvignon,Heitz\n",
    "1,Spain,\"Ripe aromas of fig, blackberry and[...]\",Carodorum Selección Especial Reserva,96,110.0,Northern Spain,Toro,,Tinta de Toro,Bodega Carmen Rodríguez\n",
    "```"
   ]
  },
  {
   "cell_type": "code",
   "execution_count": 8,
   "id": "138b88b6",
   "metadata": {
    "execution": {
     "iopub.execute_input": "2022-01-13T10:56:04.178938Z",
     "iopub.status.busy": "2022-01-13T10:56:04.178242Z",
     "iopub.status.idle": "2022-01-13T10:56:05.290803Z",
     "shell.execute_reply": "2022-01-13T10:56:05.290101Z",
     "shell.execute_reply.started": "2022-01-13T10:54:45.895152Z"
    },
    "papermill": {
     "duration": 1.13701,
     "end_time": "2022-01-13T10:56:05.290992",
     "exception": false,
     "start_time": "2022-01-13T10:56:04.153982",
     "status": "completed"
    },
    "tags": []
   },
   "outputs": [
    {
     "data": {
      "application/javascript": [
       "parent.postMessage({\"jupyterEvent\": \"custom.exercise_interaction\", \"data\": {\"outcomeType\": 1, \"valueTowardsCompletion\": 0.16666666666666666, \"interactionType\": 1, \"questionType\": 1, \"questionId\": \"4_ReadWineCsv\", \"learnToolsVersion\": \"0.3.4\", \"failureMessage\": \"\", \"exceptionClass\": \"\", \"trace\": \"\"}}, \"*\")"
      ],
      "text/plain": [
       "<IPython.core.display.Javascript object>"
      ]
     },
     "metadata": {},
     "output_type": "display_data"
    },
    {
     "data": {
      "text/markdown": [
       "<span style=\"color:#33cc33\">Correct</span>"
      ],
      "text/plain": [
       "Correct"
      ]
     },
     "metadata": {},
     "output_type": "display_data"
    },
    {
     "data": {
      "text/html": [
       "<div>\n",
       "<style scoped>\n",
       "    .dataframe tbody tr th:only-of-type {\n",
       "        vertical-align: middle;\n",
       "    }\n",
       "\n",
       "    .dataframe tbody tr th {\n",
       "        vertical-align: top;\n",
       "    }\n",
       "\n",
       "    .dataframe thead th {\n",
       "        text-align: right;\n",
       "    }\n",
       "</style>\n",
       "<table border=\"1\" class=\"dataframe\">\n",
       "  <thead>\n",
       "    <tr style=\"text-align: right;\">\n",
       "      <th></th>\n",
       "      <th>country</th>\n",
       "      <th>description</th>\n",
       "      <th>designation</th>\n",
       "      <th>points</th>\n",
       "      <th>price</th>\n",
       "      <th>province</th>\n",
       "      <th>region_1</th>\n",
       "      <th>region_2</th>\n",
       "      <th>variety</th>\n",
       "      <th>winery</th>\n",
       "    </tr>\n",
       "  </thead>\n",
       "  <tbody>\n",
       "    <tr>\n",
       "      <th>0</th>\n",
       "      <td>US</td>\n",
       "      <td>This tremendous 100% varietal wine hails from ...</td>\n",
       "      <td>Martha's Vineyard</td>\n",
       "      <td>96</td>\n",
       "      <td>235.0</td>\n",
       "      <td>California</td>\n",
       "      <td>Napa Valley</td>\n",
       "      <td>Napa</td>\n",
       "      <td>Cabernet Sauvignon</td>\n",
       "      <td>Heitz</td>\n",
       "    </tr>\n",
       "    <tr>\n",
       "      <th>1</th>\n",
       "      <td>Spain</td>\n",
       "      <td>Ripe aromas of fig, blackberry and cassis are ...</td>\n",
       "      <td>Carodorum Selección Especial Reserva</td>\n",
       "      <td>96</td>\n",
       "      <td>110.0</td>\n",
       "      <td>Northern Spain</td>\n",
       "      <td>Toro</td>\n",
       "      <td>NaN</td>\n",
       "      <td>Tinta de Toro</td>\n",
       "      <td>Bodega Carmen Rodríguez</td>\n",
       "    </tr>\n",
       "    <tr>\n",
       "      <th>...</th>\n",
       "      <td>...</td>\n",
       "      <td>...</td>\n",
       "      <td>...</td>\n",
       "      <td>...</td>\n",
       "      <td>...</td>\n",
       "      <td>...</td>\n",
       "      <td>...</td>\n",
       "      <td>...</td>\n",
       "      <td>...</td>\n",
       "      <td>...</td>\n",
       "    </tr>\n",
       "    <tr>\n",
       "      <th>150928</th>\n",
       "      <td>France</td>\n",
       "      <td>A perfect salmon shade, with scents of peaches...</td>\n",
       "      <td>Grand Brut Rosé</td>\n",
       "      <td>90</td>\n",
       "      <td>52.0</td>\n",
       "      <td>Champagne</td>\n",
       "      <td>Champagne</td>\n",
       "      <td>NaN</td>\n",
       "      <td>Champagne Blend</td>\n",
       "      <td>Gosset</td>\n",
       "    </tr>\n",
       "    <tr>\n",
       "      <th>150929</th>\n",
       "      <td>Italy</td>\n",
       "      <td>More Pinot Grigios should taste like this. A r...</td>\n",
       "      <td>NaN</td>\n",
       "      <td>90</td>\n",
       "      <td>15.0</td>\n",
       "      <td>Northeastern Italy</td>\n",
       "      <td>Alto Adige</td>\n",
       "      <td>NaN</td>\n",
       "      <td>Pinot Grigio</td>\n",
       "      <td>Alois Lageder</td>\n",
       "    </tr>\n",
       "  </tbody>\n",
       "</table>\n",
       "<p>150930 rows × 10 columns</p>\n",
       "</div>"
      ],
      "text/plain": [
       "       country                                        description  \\\n",
       "0           US  This tremendous 100% varietal wine hails from ...   \n",
       "1        Spain  Ripe aromas of fig, blackberry and cassis are ...   \n",
       "...        ...                                                ...   \n",
       "150928  France  A perfect salmon shade, with scents of peaches...   \n",
       "150929   Italy  More Pinot Grigios should taste like this. A r...   \n",
       "\n",
       "                                 designation  points  price  \\\n",
       "0                          Martha's Vineyard      96  235.0   \n",
       "1       Carodorum Selección Especial Reserva      96  110.0   \n",
       "...                                      ...     ...    ...   \n",
       "150928                       Grand Brut Rosé      90   52.0   \n",
       "150929                                   NaN      90   15.0   \n",
       "\n",
       "                  province     region_1 region_2             variety  \\\n",
       "0               California  Napa Valley     Napa  Cabernet Sauvignon   \n",
       "1           Northern Spain         Toro      NaN       Tinta de Toro   \n",
       "...                    ...          ...      ...                 ...   \n",
       "150928           Champagne    Champagne      NaN     Champagne Blend   \n",
       "150929  Northeastern Italy   Alto Adige      NaN        Pinot Grigio   \n",
       "\n",
       "                         winery  \n",
       "0                         Heitz  \n",
       "1       Bodega Carmen Rodríguez  \n",
       "...                         ...  \n",
       "150928                   Gosset  \n",
       "150929            Alois Lageder  \n",
       "\n",
       "[150930 rows x 10 columns]"
      ]
     },
     "execution_count": 8,
     "metadata": {},
     "output_type": "execute_result"
    }
   ],
   "source": [
    "reviews = pd.read_csv(\"../input/wine-reviews/winemag-data_first150k.csv\", index_col=0)\n",
    "\n",
    "# Check your answer\n",
    "q4.check()\n",
    "reviews"
   ]
  },
  {
   "cell_type": "code",
   "execution_count": 9,
   "id": "6d35ecd4",
   "metadata": {
    "execution": {
     "iopub.execute_input": "2022-01-13T10:56:05.343802Z",
     "iopub.status.busy": "2022-01-13T10:56:05.342818Z",
     "iopub.status.idle": "2022-01-13T10:56:05.345936Z",
     "shell.execute_reply": "2022-01-13T10:56:05.346408Z"
    },
    "papermill": {
     "duration": 0.030589,
     "end_time": "2022-01-13T10:56:05.346622",
     "exception": false,
     "start_time": "2022-01-13T10:56:05.316033",
     "status": "completed"
    },
    "tags": []
   },
   "outputs": [],
   "source": [
    "#q4.hint()\n",
    "# q4.solution()"
   ]
  },
  {
   "cell_type": "markdown",
   "id": "6172ce0c",
   "metadata": {
    "papermill": {
     "duration": 0.023146,
     "end_time": "2022-01-13T10:56:05.393224",
     "exception": false,
     "start_time": "2022-01-13T10:56:05.370078",
     "status": "completed"
    },
    "tags": []
   },
   "source": [
    "## 5.\n",
    "\n",
    "Run the cell below to create and display a DataFrame called `animals`:"
   ]
  },
  {
   "cell_type": "code",
   "execution_count": 10,
   "id": "483c0853",
   "metadata": {
    "execution": {
     "iopub.execute_input": "2022-01-13T10:56:05.445028Z",
     "iopub.status.busy": "2022-01-13T10:56:05.443897Z",
     "iopub.status.idle": "2022-01-13T10:56:05.455477Z",
     "shell.execute_reply": "2022-01-13T10:56:05.454770Z",
     "shell.execute_reply.started": "2022-01-13T10:55:05.599289Z"
    },
    "papermill": {
     "duration": 0.038764,
     "end_time": "2022-01-13T10:56:05.455640",
     "exception": false,
     "start_time": "2022-01-13T10:56:05.416876",
     "status": "completed"
    },
    "tags": []
   },
   "outputs": [
    {
     "data": {
      "text/html": [
       "<div>\n",
       "<style scoped>\n",
       "    .dataframe tbody tr th:only-of-type {\n",
       "        vertical-align: middle;\n",
       "    }\n",
       "\n",
       "    .dataframe tbody tr th {\n",
       "        vertical-align: top;\n",
       "    }\n",
       "\n",
       "    .dataframe thead th {\n",
       "        text-align: right;\n",
       "    }\n",
       "</style>\n",
       "<table border=\"1\" class=\"dataframe\">\n",
       "  <thead>\n",
       "    <tr style=\"text-align: right;\">\n",
       "      <th></th>\n",
       "      <th>Cows</th>\n",
       "      <th>Goats</th>\n",
       "    </tr>\n",
       "  </thead>\n",
       "  <tbody>\n",
       "    <tr>\n",
       "      <th>Year 1</th>\n",
       "      <td>12</td>\n",
       "      <td>22</td>\n",
       "    </tr>\n",
       "    <tr>\n",
       "      <th>Year 2</th>\n",
       "      <td>20</td>\n",
       "      <td>19</td>\n",
       "    </tr>\n",
       "  </tbody>\n",
       "</table>\n",
       "</div>"
      ],
      "text/plain": [
       "        Cows  Goats\n",
       "Year 1    12     22\n",
       "Year 2    20     19"
      ]
     },
     "execution_count": 10,
     "metadata": {},
     "output_type": "execute_result"
    }
   ],
   "source": [
    "animals = pd.DataFrame({'Cows': [12, 20], 'Goats': [22, 19]}, index=['Year 1', 'Year 2'])\n",
    "animals\n"
   ]
  },
  {
   "cell_type": "markdown",
   "id": "5add4e30",
   "metadata": {
    "papermill": {
     "duration": 0.023558,
     "end_time": "2022-01-13T10:56:05.503679",
     "exception": false,
     "start_time": "2022-01-13T10:56:05.480121",
     "status": "completed"
    },
    "tags": []
   },
   "source": [
    "In the cell below, write code to save this DataFrame to disk as a csv file with the name `cows_and_goats.csv`."
   ]
  },
  {
   "cell_type": "code",
   "execution_count": 11,
   "id": "fec0da97",
   "metadata": {
    "execution": {
     "iopub.execute_input": "2022-01-13T10:56:05.558255Z",
     "iopub.status.busy": "2022-01-13T10:56:05.557488Z",
     "iopub.status.idle": "2022-01-13T10:56:05.569566Z",
     "shell.execute_reply": "2022-01-13T10:56:05.568993Z",
     "shell.execute_reply.started": "2022-01-13T10:55:16.439092Z"
    },
    "papermill": {
     "duration": 0.041719,
     "end_time": "2022-01-13T10:56:05.569724",
     "exception": false,
     "start_time": "2022-01-13T10:56:05.528005",
     "status": "completed"
    },
    "tags": []
   },
   "outputs": [
    {
     "data": {
      "application/javascript": [
       "parent.postMessage({\"jupyterEvent\": \"custom.exercise_interaction\", \"data\": {\"outcomeType\": 1, \"valueTowardsCompletion\": 0.16666666666666666, \"interactionType\": 1, \"questionType\": 2, \"questionId\": \"5_SaveAnimalsCsv\", \"learnToolsVersion\": \"0.3.4\", \"failureMessage\": \"\", \"exceptionClass\": \"\", \"trace\": \"\"}}, \"*\")"
      ],
      "text/plain": [
       "<IPython.core.display.Javascript object>"
      ]
     },
     "metadata": {},
     "output_type": "display_data"
    },
    {
     "data": {
      "text/markdown": [
       "<span style=\"color:#33cc33\">Correct</span>"
      ],
      "text/plain": [
       "Correct"
      ]
     },
     "metadata": {},
     "output_type": "display_data"
    }
   ],
   "source": [
    "# Your code goes here\n",
    "animals.to_csv(\"cows_and_goats.csv\")\n",
    "# Check your answer\n",
    "q5.check()"
   ]
  },
  {
   "cell_type": "code",
   "execution_count": 12,
   "id": "a79a6987",
   "metadata": {
    "execution": {
     "iopub.execute_input": "2022-01-13T10:56:05.622369Z",
     "iopub.status.busy": "2022-01-13T10:56:05.621551Z",
     "iopub.status.idle": "2022-01-13T10:56:05.624421Z",
     "shell.execute_reply": "2022-01-13T10:56:05.624867Z",
     "shell.execute_reply.started": "2022-01-13T05:11:59.357005Z"
    },
    "papermill": {
     "duration": 0.031012,
     "end_time": "2022-01-13T10:56:05.625056",
     "exception": false,
     "start_time": "2022-01-13T10:56:05.594044",
     "status": "completed"
    },
    "tags": []
   },
   "outputs": [],
   "source": [
    "#q5.hint()\n",
    "#q5.solution()"
   ]
  },
  {
   "cell_type": "markdown",
   "id": "5394cec9",
   "metadata": {
    "papermill": {
     "duration": 0.023832,
     "end_time": "2022-01-13T10:56:05.673672",
     "exception": false,
     "start_time": "2022-01-13T10:56:05.649840",
     "status": "completed"
    },
    "tags": []
   },
   "source": [
    "# Keep going \n",
    "\n",
    "Move on to learn about **[indexing, selecting and assigning](https://www.kaggle.com/residentmario/indexing-selecting-assigning)**."
   ]
  },
  {
   "cell_type": "markdown",
   "id": "f24a54ac",
   "metadata": {
    "papermill": {
     "duration": 0.023842,
     "end_time": "2022-01-13T10:56:05.721526",
     "exception": false,
     "start_time": "2022-01-13T10:56:05.697684",
     "status": "completed"
    },
    "tags": []
   },
   "source": [
    "### THANK YOU !!"
   ]
  },
  {
   "cell_type": "markdown",
   "id": "16d400b0",
   "metadata": {
    "papermill": {
     "duration": 0.024832,
     "end_time": "2022-01-13T10:56:05.770418",
     "exception": false,
     "start_time": "2022-01-13T10:56:05.745586",
     "status": "completed"
    },
    "tags": []
   },
   "source": [
    "---\n",
    "\n",
    "\n",
    "\n",
    "\n",
    "*Have questions or comments? Visit the [course discussion forum](https://www.kaggle.com/learn/pandas/discussion) to chat with other learners.*"
   ]
  }
 ],
 "metadata": {
  "kernelspec": {
   "display_name": "Python 3",
   "language": "python",
   "name": "python3"
  },
  "language_info": {
   "codemirror_mode": {
    "name": "ipython",
    "version": 3
   },
   "file_extension": ".py",
   "mimetype": "text/x-python",
   "name": "python",
   "nbconvert_exporter": "python",
   "pygments_lexer": "ipython3",
   "version": "3.7.12"
  },
  "papermill": {
   "default_parameters": {},
   "duration": 17.608697,
   "end_time": "2022-01-13T10:56:06.809240",
   "environment_variables": {},
   "exception": null,
   "input_path": "__notebook__.ipynb",
   "output_path": "__notebook__.ipynb",
   "parameters": {},
   "start_time": "2022-01-13T10:55:49.200543",
   "version": "2.3.3"
  }
 },
 "nbformat": 4,
 "nbformat_minor": 5
}
