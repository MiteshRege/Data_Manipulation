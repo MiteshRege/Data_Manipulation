{
 "cells": [
  {
   "cell_type": "markdown",
   "id": "b6f81834",
   "metadata": {
    "papermill": {
     "duration": 0.034727,
     "end_time": "2022-01-29T17:10:26.876831",
     "exception": false,
     "start_time": "2022-01-29T17:10:26.842104",
     "status": "completed"
    },
    "tags": []
   },
   "source": [
    "**This notebook is an exercise in the [Pandas](https://www.kaggle.com/learn/pandas) course.  You can reference the tutorial at [this link](https://www.kaggle.com/residentmario/summary-functions-and-maps).**\n",
    "\n",
    "---\n"
   ]
  },
  {
   "cell_type": "markdown",
   "id": "bd27197b",
   "metadata": {
    "papermill": {
     "duration": 0.018352,
     "end_time": "2022-01-29T17:10:26.921637",
     "exception": false,
     "start_time": "2022-01-29T17:10:26.903285",
     "status": "completed"
    },
    "tags": []
   },
   "source": [
    "# Introduction\n",
    "\n",
    "Now you are ready to get a deeper understanding of your data.\n",
    "\n",
    "Run the following cell to load your data and some utility functions (including code to check your answers)."
   ]
  },
  {
   "cell_type": "code",
   "execution_count": 1,
   "id": "c1f90317",
   "metadata": {
    "execution": {
     "iopub.execute_input": "2022-01-29T17:10:26.970064Z",
     "iopub.status.busy": "2022-01-29T17:10:26.968267Z",
     "iopub.status.idle": "2022-01-29T17:10:34.577255Z",
     "shell.execute_reply": "2022-01-29T17:10:34.576389Z",
     "shell.execute_reply.started": "2022-01-29T17:08:44.996073Z"
    },
    "papermill": {
     "duration": 7.636431,
     "end_time": "2022-01-29T17:10:34.577447",
     "exception": false,
     "start_time": "2022-01-29T17:10:26.941016",
     "status": "completed"
    },
    "tags": []
   },
   "outputs": [
    {
     "name": "stdout",
     "output_type": "stream",
     "text": [
      "Setup complete.\n"
     ]
    },
    {
     "data": {
      "text/html": [
       "<div>\n",
       "<style scoped>\n",
       "    .dataframe tbody tr th:only-of-type {\n",
       "        vertical-align: middle;\n",
       "    }\n",
       "\n",
       "    .dataframe tbody tr th {\n",
       "        vertical-align: top;\n",
       "    }\n",
       "\n",
       "    .dataframe thead th {\n",
       "        text-align: right;\n",
       "    }\n",
       "</style>\n",
       "<table border=\"1\" class=\"dataframe\">\n",
       "  <thead>\n",
       "    <tr style=\"text-align: right;\">\n",
       "      <th></th>\n",
       "      <th>country</th>\n",
       "      <th>description</th>\n",
       "      <th>designation</th>\n",
       "      <th>points</th>\n",
       "      <th>price</th>\n",
       "      <th>province</th>\n",
       "      <th>region_1</th>\n",
       "      <th>region_2</th>\n",
       "      <th>taster_name</th>\n",
       "      <th>taster_twitter_handle</th>\n",
       "      <th>title</th>\n",
       "      <th>variety</th>\n",
       "      <th>winery</th>\n",
       "    </tr>\n",
       "  </thead>\n",
       "  <tbody>\n",
       "    <tr>\n",
       "      <th>0</th>\n",
       "      <td>Italy</td>\n",
       "      <td>Aromas include tropical fruit, broom, brimston...</td>\n",
       "      <td>Vulkà Bianco</td>\n",
       "      <td>87</td>\n",
       "      <td>NaN</td>\n",
       "      <td>Sicily &amp; Sardinia</td>\n",
       "      <td>Etna</td>\n",
       "      <td>NaN</td>\n",
       "      <td>Kerin O’Keefe</td>\n",
       "      <td>@kerinokeefe</td>\n",
       "      <td>Nicosia 2013 Vulkà Bianco  (Etna)</td>\n",
       "      <td>White Blend</td>\n",
       "      <td>Nicosia</td>\n",
       "    </tr>\n",
       "    <tr>\n",
       "      <th>1</th>\n",
       "      <td>Portugal</td>\n",
       "      <td>This is ripe and fruity, a wine that is smooth...</td>\n",
       "      <td>Avidagos</td>\n",
       "      <td>87</td>\n",
       "      <td>15.0</td>\n",
       "      <td>Douro</td>\n",
       "      <td>NaN</td>\n",
       "      <td>NaN</td>\n",
       "      <td>Roger Voss</td>\n",
       "      <td>@vossroger</td>\n",
       "      <td>Quinta dos Avidagos 2011 Avidagos Red (Douro)</td>\n",
       "      <td>Portuguese Red</td>\n",
       "      <td>Quinta dos Avidagos</td>\n",
       "    </tr>\n",
       "    <tr>\n",
       "      <th>2</th>\n",
       "      <td>US</td>\n",
       "      <td>Tart and snappy, the flavors of lime flesh and...</td>\n",
       "      <td>NaN</td>\n",
       "      <td>87</td>\n",
       "      <td>14.0</td>\n",
       "      <td>Oregon</td>\n",
       "      <td>Willamette Valley</td>\n",
       "      <td>Willamette Valley</td>\n",
       "      <td>Paul Gregutt</td>\n",
       "      <td>@paulgwine</td>\n",
       "      <td>Rainstorm 2013 Pinot Gris (Willamette Valley)</td>\n",
       "      <td>Pinot Gris</td>\n",
       "      <td>Rainstorm</td>\n",
       "    </tr>\n",
       "    <tr>\n",
       "      <th>3</th>\n",
       "      <td>US</td>\n",
       "      <td>Pineapple rind, lemon pith and orange blossom ...</td>\n",
       "      <td>Reserve Late Harvest</td>\n",
       "      <td>87</td>\n",
       "      <td>13.0</td>\n",
       "      <td>Michigan</td>\n",
       "      <td>Lake Michigan Shore</td>\n",
       "      <td>NaN</td>\n",
       "      <td>Alexander Peartree</td>\n",
       "      <td>NaN</td>\n",
       "      <td>St. Julian 2013 Reserve Late Harvest Riesling ...</td>\n",
       "      <td>Riesling</td>\n",
       "      <td>St. Julian</td>\n",
       "    </tr>\n",
       "    <tr>\n",
       "      <th>4</th>\n",
       "      <td>US</td>\n",
       "      <td>Much like the regular bottling from 2012, this...</td>\n",
       "      <td>Vintner's Reserve Wild Child Block</td>\n",
       "      <td>87</td>\n",
       "      <td>65.0</td>\n",
       "      <td>Oregon</td>\n",
       "      <td>Willamette Valley</td>\n",
       "      <td>Willamette Valley</td>\n",
       "      <td>Paul Gregutt</td>\n",
       "      <td>@paulgwine</td>\n",
       "      <td>Sweet Cheeks 2012 Vintner's Reserve Wild Child...</td>\n",
       "      <td>Pinot Noir</td>\n",
       "      <td>Sweet Cheeks</td>\n",
       "    </tr>\n",
       "  </tbody>\n",
       "</table>\n",
       "</div>"
      ],
      "text/plain": [
       "    country                                        description  \\\n",
       "0     Italy  Aromas include tropical fruit, broom, brimston...   \n",
       "1  Portugal  This is ripe and fruity, a wine that is smooth...   \n",
       "2        US  Tart and snappy, the flavors of lime flesh and...   \n",
       "3        US  Pineapple rind, lemon pith and orange blossom ...   \n",
       "4        US  Much like the regular bottling from 2012, this...   \n",
       "\n",
       "                          designation  points  price           province  \\\n",
       "0                        Vulkà Bianco      87    NaN  Sicily & Sardinia   \n",
       "1                            Avidagos      87   15.0              Douro   \n",
       "2                                 NaN      87   14.0             Oregon   \n",
       "3                Reserve Late Harvest      87   13.0           Michigan   \n",
       "4  Vintner's Reserve Wild Child Block      87   65.0             Oregon   \n",
       "\n",
       "              region_1           region_2         taster_name  \\\n",
       "0                 Etna                NaN       Kerin O’Keefe   \n",
       "1                  NaN                NaN          Roger Voss   \n",
       "2    Willamette Valley  Willamette Valley        Paul Gregutt   \n",
       "3  Lake Michigan Shore                NaN  Alexander Peartree   \n",
       "4    Willamette Valley  Willamette Valley        Paul Gregutt   \n",
       "\n",
       "  taster_twitter_handle                                              title  \\\n",
       "0          @kerinokeefe                  Nicosia 2013 Vulkà Bianco  (Etna)   \n",
       "1            @vossroger      Quinta dos Avidagos 2011 Avidagos Red (Douro)   \n",
       "2           @paulgwine       Rainstorm 2013 Pinot Gris (Willamette Valley)   \n",
       "3                   NaN  St. Julian 2013 Reserve Late Harvest Riesling ...   \n",
       "4           @paulgwine   Sweet Cheeks 2012 Vintner's Reserve Wild Child...   \n",
       "\n",
       "          variety               winery  \n",
       "0     White Blend              Nicosia  \n",
       "1  Portuguese Red  Quinta dos Avidagos  \n",
       "2      Pinot Gris            Rainstorm  \n",
       "3        Riesling           St. Julian  \n",
       "4      Pinot Noir         Sweet Cheeks  "
      ]
     },
     "execution_count": 1,
     "metadata": {},
     "output_type": "execute_result"
    }
   ],
   "source": [
    "import pandas as pd\n",
    "pd.set_option(\"display.max_rows\", 5)\n",
    "reviews = pd.read_csv(\"../input/wine-reviews/winemag-data-130k-v2.csv\", index_col=0)\n",
    "from learntools.core import binder; binder.bind(globals())\n",
    "from learntools.pandas.summary_functions_and_maps import *\n",
    "print(\"Setup complete.\")\n",
    "\n",
    "reviews.head()"
   ]
  },
  {
   "cell_type": "markdown",
   "id": "523085ad",
   "metadata": {
    "papermill": {
     "duration": 0.020432,
     "end_time": "2022-01-29T17:10:34.619027",
     "exception": false,
     "start_time": "2022-01-29T17:10:34.598595",
     "status": "completed"
    },
    "tags": []
   },
   "source": [
    "# Exercises"
   ]
  },
  {
   "cell_type": "markdown",
   "id": "638e67c2",
   "metadata": {
    "papermill": {
     "duration": 0.020324,
     "end_time": "2022-01-29T17:10:34.659359",
     "exception": false,
     "start_time": "2022-01-29T17:10:34.639035",
     "status": "completed"
    },
    "tags": []
   },
   "source": [
    "## 1.\n",
    "\n",
    "What is the median of the `points` column in the `reviews` DataFrame?"
   ]
  },
  {
   "cell_type": "code",
   "execution_count": 2,
   "id": "4e6aa20e",
   "metadata": {
    "execution": {
     "iopub.execute_input": "2022-01-29T17:10:34.705344Z",
     "iopub.status.busy": "2022-01-29T17:10:34.704751Z",
     "iopub.status.idle": "2022-01-29T17:10:34.709979Z",
     "shell.execute_reply": "2022-01-29T17:10:34.709376Z",
     "shell.execute_reply.started": "2022-01-29T17:09:09.412437Z"
    },
    "papermill": {
     "duration": 0.031214,
     "end_time": "2022-01-29T17:10:34.710099",
     "exception": false,
     "start_time": "2022-01-29T17:10:34.678885",
     "status": "completed"
    },
    "tags": []
   },
   "outputs": [
    {
     "data": {
      "application/javascript": [
       "parent.postMessage({\"jupyterEvent\": \"custom.exercise_interaction\", \"data\": {\"outcomeType\": 1, \"valueTowardsCompletion\": 0.14285714285714285, \"interactionType\": 1, \"questionType\": 1, \"questionId\": \"1_MedianPoints\", \"learnToolsVersion\": \"0.3.4\", \"failureMessage\": \"\", \"exceptionClass\": \"\", \"trace\": \"\"}}, \"*\")"
      ],
      "text/plain": [
       "<IPython.core.display.Javascript object>"
      ]
     },
     "metadata": {},
     "output_type": "display_data"
    },
    {
     "data": {
      "text/markdown": [
       "<span style=\"color:#33cc33\">Correct</span>"
      ],
      "text/plain": [
       "Correct"
      ]
     },
     "metadata": {},
     "output_type": "display_data"
    },
    {
     "name": "stdout",
     "output_type": "stream",
     "text": [
      "Median of reviews is  88.0\n"
     ]
    }
   ],
   "source": [
    "median_points = reviews.points.median()\n",
    "# Check your answer\n",
    "q1.check()\n",
    "print(\"Median of reviews is \",median_points)"
   ]
  },
  {
   "cell_type": "code",
   "execution_count": 3,
   "id": "e347b649",
   "metadata": {
    "execution": {
     "iopub.execute_input": "2022-01-29T17:10:34.754112Z",
     "iopub.status.busy": "2022-01-29T17:10:34.753588Z",
     "iopub.status.idle": "2022-01-29T17:10:34.756186Z",
     "shell.execute_reply": "2022-01-29T17:10:34.755701Z",
     "shell.execute_reply.started": "2022-01-15T07:56:19.68886Z"
    },
    "papermill": {
     "duration": 0.025366,
     "end_time": "2022-01-29T17:10:34.756300",
     "exception": false,
     "start_time": "2022-01-29T17:10:34.730934",
     "status": "completed"
    },
    "tags": []
   },
   "outputs": [],
   "source": [
    "#q1.hint()\n",
    "#q1.solution()"
   ]
  },
  {
   "cell_type": "markdown",
   "id": "ad789452",
   "metadata": {
    "papermill": {
     "duration": 0.020744,
     "end_time": "2022-01-29T17:10:34.797898",
     "exception": false,
     "start_time": "2022-01-29T17:10:34.777154",
     "status": "completed"
    },
    "tags": []
   },
   "source": [
    "## 2. \n",
    "What countries are represented in the dataset? (Your answer should not include any duplicates.)"
   ]
  },
  {
   "cell_type": "code",
   "execution_count": 4,
   "id": "dc3d66ab",
   "metadata": {
    "execution": {
     "iopub.execute_input": "2022-01-29T17:10:34.856156Z",
     "iopub.status.busy": "2022-01-29T17:10:34.855597Z",
     "iopub.status.idle": "2022-01-29T17:10:34.863528Z",
     "shell.execute_reply": "2022-01-29T17:10:34.862934Z",
     "shell.execute_reply.started": "2022-01-29T17:09:12.422771Z"
    },
    "papermill": {
     "duration": 0.044815,
     "end_time": "2022-01-29T17:10:34.863668",
     "exception": false,
     "start_time": "2022-01-29T17:10:34.818853",
     "status": "completed"
    },
    "tags": []
   },
   "outputs": [
    {
     "data": {
      "application/javascript": [
       "parent.postMessage({\"jupyterEvent\": \"custom.exercise_interaction\", \"data\": {\"outcomeType\": 1, \"valueTowardsCompletion\": 0.14285714285714285, \"interactionType\": 1, \"questionType\": 2, \"questionId\": \"2_UniqueCountries\", \"learnToolsVersion\": \"0.3.4\", \"failureMessage\": \"\", \"exceptionClass\": \"\", \"trace\": \"\"}}, \"*\")"
      ],
      "text/plain": [
       "<IPython.core.display.Javascript object>"
      ]
     },
     "metadata": {},
     "output_type": "display_data"
    },
    {
     "data": {
      "text/markdown": [
       "<span style=\"color:#33cc33\">Correct</span>"
      ],
      "text/plain": [
       "Correct"
      ]
     },
     "metadata": {},
     "output_type": "display_data"
    },
    {
     "data": {
      "text/plain": [
       "array(['Italy', 'Portugal', 'US', 'Spain', 'France', 'Germany',\n",
       "       'Argentina', 'Chile', 'Australia', 'Austria', 'South Africa',\n",
       "       'New Zealand', 'Israel', 'Hungary', 'Greece', 'Romania', 'Mexico',\n",
       "       'Canada', nan, 'Turkey', 'Czech Republic', 'Slovenia',\n",
       "       'Luxembourg', 'Croatia', 'Georgia', 'Uruguay', 'England',\n",
       "       'Lebanon', 'Serbia', 'Brazil', 'Moldova', 'Morocco', 'Peru',\n",
       "       'India', 'Bulgaria', 'Cyprus', 'Armenia', 'Switzerland',\n",
       "       'Bosnia and Herzegovina', 'Ukraine', 'Slovakia', 'Macedonia',\n",
       "       'China', 'Egypt'], dtype=object)"
      ]
     },
     "execution_count": 4,
     "metadata": {},
     "output_type": "execute_result"
    }
   ],
   "source": [
    "countries = reviews.country.unique()\n",
    "# Check your answer\n",
    "q2.check()\n",
    "countries"
   ]
  },
  {
   "cell_type": "code",
   "execution_count": 5,
   "id": "32e70bdd",
   "metadata": {
    "execution": {
     "iopub.execute_input": "2022-01-29T17:10:34.912244Z",
     "iopub.status.busy": "2022-01-29T17:10:34.911708Z",
     "iopub.status.idle": "2022-01-29T17:10:34.914181Z",
     "shell.execute_reply": "2022-01-29T17:10:34.914627Z",
     "shell.execute_reply.started": "2022-01-15T07:56:19.73137Z"
    },
    "papermill": {
     "duration": 0.028945,
     "end_time": "2022-01-29T17:10:34.914785",
     "exception": false,
     "start_time": "2022-01-29T17:10:34.885840",
     "status": "completed"
    },
    "tags": []
   },
   "outputs": [],
   "source": [
    "#q2.hint()\n",
    "# q2.solution()"
   ]
  },
  {
   "cell_type": "markdown",
   "id": "9e18c855",
   "metadata": {
    "papermill": {
     "duration": 0.023385,
     "end_time": "2022-01-29T17:10:34.959223",
     "exception": false,
     "start_time": "2022-01-29T17:10:34.935838",
     "status": "completed"
    },
    "tags": []
   },
   "source": [
    "## 3.\n",
    "How often does each country appear in the dataset? Create a Series `reviews_per_country` mapping countries to the count of reviews of wines from that country."
   ]
  },
  {
   "cell_type": "code",
   "execution_count": 6,
   "id": "fa289376",
   "metadata": {
    "execution": {
     "iopub.execute_input": "2022-01-29T17:10:35.026543Z",
     "iopub.status.busy": "2022-01-29T17:10:35.025900Z",
     "iopub.status.idle": "2022-01-29T17:10:35.034827Z",
     "shell.execute_reply": "2022-01-29T17:10:35.034272Z",
     "shell.execute_reply.started": "2022-01-29T17:09:14.871412Z"
    },
    "papermill": {
     "duration": 0.053664,
     "end_time": "2022-01-29T17:10:35.034954",
     "exception": false,
     "start_time": "2022-01-29T17:10:34.981290",
     "status": "completed"
    },
    "tags": []
   },
   "outputs": [
    {
     "data": {
      "application/javascript": [
       "parent.postMessage({\"jupyterEvent\": \"custom.exercise_interaction\", \"data\": {\"outcomeType\": 1, \"valueTowardsCompletion\": 0.14285714285714285, \"interactionType\": 1, \"questionType\": 1, \"questionId\": \"3_ReviewsPerCountry\", \"learnToolsVersion\": \"0.3.4\", \"failureMessage\": \"\", \"exceptionClass\": \"\", \"trace\": \"\"}}, \"*\")"
      ],
      "text/plain": [
       "<IPython.core.display.Javascript object>"
      ]
     },
     "metadata": {},
     "output_type": "display_data"
    },
    {
     "data": {
      "text/markdown": [
       "<span style=\"color:#33cc33\">Correct</span>"
      ],
      "text/plain": [
       "Correct"
      ]
     },
     "metadata": {},
     "output_type": "display_data"
    },
    {
     "data": {
      "text/plain": [
       "US        54504\n",
       "France    22093\n",
       "          ...  \n",
       "China         1\n",
       "Egypt         1\n",
       "Name: country, Length: 43, dtype: int64"
      ]
     },
     "execution_count": 6,
     "metadata": {},
     "output_type": "execute_result"
    }
   ],
   "source": [
    "reviews_per_country = reviews.country.value_counts()\n",
    "\n",
    "# Check your answer\n",
    "q3.check()\n",
    "reviews_per_country"
   ]
  },
  {
   "cell_type": "code",
   "execution_count": 7,
   "id": "5b17e207",
   "metadata": {
    "execution": {
     "iopub.execute_input": "2022-01-29T17:10:35.085642Z",
     "iopub.status.busy": "2022-01-29T17:10:35.085074Z",
     "iopub.status.idle": "2022-01-29T17:10:35.087782Z",
     "shell.execute_reply": "2022-01-29T17:10:35.087296Z",
     "shell.execute_reply.started": "2022-01-15T07:56:19.776655Z"
    },
    "papermill": {
     "duration": 0.029741,
     "end_time": "2022-01-29T17:10:35.087899",
     "exception": false,
     "start_time": "2022-01-29T17:10:35.058158",
     "status": "completed"
    },
    "tags": []
   },
   "outputs": [],
   "source": [
    "# q3.hint()\n",
    "# q3.solution()"
   ]
  },
  {
   "cell_type": "markdown",
   "id": "c148ee94",
   "metadata": {
    "papermill": {
     "duration": 0.022532,
     "end_time": "2022-01-29T17:10:35.133148",
     "exception": false,
     "start_time": "2022-01-29T17:10:35.110616",
     "status": "completed"
    },
    "tags": []
   },
   "source": [
    "## 4.\n",
    "Create variable `centered_price` containing a version of the `price` column with the mean price subtracted.\n",
    "\n",
    "(Note: this 'centering' transformation is a common preprocessing step before applying various machine learning algorithms.) "
   ]
  },
  {
   "cell_type": "code",
   "execution_count": 8,
   "id": "1af956c1",
   "metadata": {
    "execution": {
     "iopub.execute_input": "2022-01-29T17:10:35.186860Z",
     "iopub.status.busy": "2022-01-29T17:10:35.185325Z",
     "iopub.status.idle": "2022-01-29T17:10:35.194973Z",
     "shell.execute_reply": "2022-01-29T17:10:35.194269Z",
     "shell.execute_reply.started": "2022-01-29T17:09:16.990595Z"
    },
    "papermill": {
     "duration": 0.038235,
     "end_time": "2022-01-29T17:10:35.195119",
     "exception": false,
     "start_time": "2022-01-29T17:10:35.156884",
     "status": "completed"
    },
    "tags": []
   },
   "outputs": [
    {
     "data": {
      "application/javascript": [
       "parent.postMessage({\"jupyterEvent\": \"custom.exercise_interaction\", \"data\": {\"outcomeType\": 1, \"valueTowardsCompletion\": 0.14285714285714285, \"interactionType\": 1, \"questionType\": 1, \"questionId\": \"4_CenteredPrice\", \"learnToolsVersion\": \"0.3.4\", \"failureMessage\": \"\", \"exceptionClass\": \"\", \"trace\": \"\"}}, \"*\")"
      ],
      "text/plain": [
       "<IPython.core.display.Javascript object>"
      ]
     },
     "metadata": {},
     "output_type": "display_data"
    },
    {
     "data": {
      "text/markdown": [
       "<span style=\"color:#33cc33\">Correct</span>"
      ],
      "text/plain": [
       "Correct"
      ]
     },
     "metadata": {},
     "output_type": "display_data"
    },
    {
     "data": {
      "text/plain": [
       "0               NaN\n",
       "1        -20.363389\n",
       "            ...    \n",
       "129969    -3.363389\n",
       "129970   -14.363389\n",
       "Name: price, Length: 129971, dtype: float64"
      ]
     },
     "execution_count": 8,
     "metadata": {},
     "output_type": "execute_result"
    }
   ],
   "source": [
    "review_mean = reviews.price.mean()\n",
    "centered_price =  reviews.price - review_mean\n",
    "# Check your answer\n",
    "q4.check()\n",
    "centered_price"
   ]
  },
  {
   "cell_type": "code",
   "execution_count": 9,
   "id": "f039f8d9",
   "metadata": {
    "execution": {
     "iopub.execute_input": "2022-01-29T17:10:35.247333Z",
     "iopub.status.busy": "2022-01-29T17:10:35.246787Z",
     "iopub.status.idle": "2022-01-29T17:10:35.249102Z",
     "shell.execute_reply": "2022-01-29T17:10:35.248561Z",
     "shell.execute_reply.started": "2022-01-15T07:56:19.805108Z"
    },
    "papermill": {
     "duration": 0.029581,
     "end_time": "2022-01-29T17:10:35.249218",
     "exception": false,
     "start_time": "2022-01-29T17:10:35.219637",
     "status": "completed"
    },
    "tags": []
   },
   "outputs": [],
   "source": [
    "# q4.hint()\n",
    "# q4.solution()"
   ]
  },
  {
   "cell_type": "markdown",
   "id": "9efb7bff",
   "metadata": {
    "papermill": {
     "duration": 0.02467,
     "end_time": "2022-01-29T17:10:35.297929",
     "exception": false,
     "start_time": "2022-01-29T17:10:35.273259",
     "status": "completed"
    },
    "tags": []
   },
   "source": [
    "## 5.\n",
    "I'm an economical wine buyer. Which wine is the \"best bargain\"? Create a variable `bargain_wine` with the title of the wine with the highest points-to-price ratio in the dataset."
   ]
  },
  {
   "cell_type": "markdown",
   "id": "0667225e",
   "metadata": {
    "papermill": {
     "duration": 0.024852,
     "end_time": "2022-01-29T17:10:35.347927",
     "exception": false,
     "start_time": "2022-01-29T17:10:35.323075",
     "status": "completed"
    },
    "tags": []
   },
   "source": []
  },
  {
   "cell_type": "code",
   "execution_count": 10,
   "id": "0b3ccf59",
   "metadata": {
    "execution": {
     "iopub.execute_input": "2022-01-29T17:10:35.402166Z",
     "iopub.status.busy": "2022-01-29T17:10:35.401584Z",
     "iopub.status.idle": "2022-01-29T17:10:35.409905Z",
     "shell.execute_reply": "2022-01-29T17:10:35.409336Z",
     "shell.execute_reply.started": "2022-01-29T17:09:19.698262Z"
    },
    "papermill": {
     "duration": 0.038161,
     "end_time": "2022-01-29T17:10:35.410090",
     "exception": false,
     "start_time": "2022-01-29T17:10:35.371929",
     "status": "completed"
    },
    "tags": []
   },
   "outputs": [
    {
     "data": {
      "application/javascript": [
       "parent.postMessage({\"jupyterEvent\": \"custom.exercise_interaction\", \"data\": {\"outcomeType\": 1, \"valueTowardsCompletion\": 0.14285714285714285, \"interactionType\": 1, \"questionType\": 2, \"questionId\": \"5_BargainWine\", \"learnToolsVersion\": \"0.3.4\", \"failureMessage\": \"\", \"exceptionClass\": \"\", \"trace\": \"\"}}, \"*\")"
      ],
      "text/plain": [
       "<IPython.core.display.Javascript object>"
      ]
     },
     "metadata": {},
     "output_type": "display_data"
    },
    {
     "data": {
      "text/markdown": [
       "<span style=\"color:#33cc33\">Correct</span>"
      ],
      "text/plain": [
       "Correct"
      ]
     },
     "metadata": {},
     "output_type": "display_data"
    },
    {
     "data": {
      "text/plain": [
       "'Bandit NV Merlot (California)'"
      ]
     },
     "execution_count": 10,
     "metadata": {},
     "output_type": "execute_result"
    }
   ],
   "source": [
    "# Method 1 :\n",
    "x = reviews.price/reviews.points\n",
    "max_raio_id = x.idxmin()\n",
    "\n",
    "# max_raio_row = reviews.loc[max_raio_id]\n",
    "# bargain_wine = max_raio_row['title']\n",
    "bargain_wine = reviews.loc[max_raio_id,'title']\n",
    "# Method 2 :\n",
    "# bargain_idx = (reviews.points / reviews.price).idxmax()\n",
    "# bargain_wine = reviews.loc[bargain_idx, 'title']\n",
    "\n",
    "# Check your answer\n",
    "q5.check()\n",
    "bargain_wine"
   ]
  },
  {
   "cell_type": "code",
   "execution_count": 11,
   "id": "0e7b643d",
   "metadata": {
    "execution": {
     "iopub.execute_input": "2022-01-29T17:10:35.463413Z",
     "iopub.status.busy": "2022-01-29T17:10:35.462831Z",
     "iopub.status.idle": "2022-01-29T17:10:35.465622Z",
     "shell.execute_reply": "2022-01-29T17:10:35.466142Z",
     "shell.execute_reply.started": "2022-01-15T07:56:19.835238Z"
    },
    "papermill": {
     "duration": 0.03086,
     "end_time": "2022-01-29T17:10:35.466274",
     "exception": false,
     "start_time": "2022-01-29T17:10:35.435414",
     "status": "completed"
    },
    "tags": []
   },
   "outputs": [],
   "source": [
    "# q5.hint()\n",
    "# q5.solution()"
   ]
  },
  {
   "cell_type": "markdown",
   "id": "cbfd69f6",
   "metadata": {
    "papermill": {
     "duration": 0.02493,
     "end_time": "2022-01-29T17:10:35.516079",
     "exception": false,
     "start_time": "2022-01-29T17:10:35.491149",
     "status": "completed"
    },
    "tags": []
   },
   "source": [
    "## 6.\n",
    "There are only so many words you can use when describing a bottle of wine. Is a wine more likely to be \"tropical\" or \"fruity\"? Create a Series `descriptor_counts` counting how many times each of these two words appears in the `description` column in the dataset. (For simplicity, let's ignore the capitalized versions of these words.)"
   ]
  },
  {
   "cell_type": "markdown",
   "id": "b3d5ab45",
   "metadata": {
    "papermill": {
     "duration": 0.024912,
     "end_time": "2022-01-29T17:10:35.566178",
     "exception": false,
     "start_time": "2022-01-29T17:10:35.541266",
     "status": "completed"
    },
    "tags": []
   },
   "source": []
  },
  {
   "cell_type": "code",
   "execution_count": 12,
   "id": "39e25b00",
   "metadata": {
    "execution": {
     "iopub.execute_input": "2022-01-29T17:10:35.621061Z",
     "iopub.status.busy": "2022-01-29T17:10:35.620387Z",
     "iopub.status.idle": "2022-01-29T17:10:35.772758Z",
     "shell.execute_reply": "2022-01-29T17:10:35.773232Z",
     "shell.execute_reply.started": "2022-01-29T17:09:22.218457Z"
    },
    "papermill": {
     "duration": 0.18106,
     "end_time": "2022-01-29T17:10:35.773390",
     "exception": false,
     "start_time": "2022-01-29T17:10:35.592330",
     "status": "completed"
    },
    "tags": []
   },
   "outputs": [
    {
     "data": {
      "application/javascript": [
       "parent.postMessage({\"jupyterEvent\": \"custom.exercise_interaction\", \"data\": {\"outcomeType\": 1, \"valueTowardsCompletion\": 0.14285714285714285, \"interactionType\": 1, \"questionType\": 1, \"questionId\": \"6_DescriptorCounts\", \"learnToolsVersion\": \"0.3.4\", \"failureMessage\": \"\", \"exceptionClass\": \"\", \"trace\": \"\"}}, \"*\")"
      ],
      "text/plain": [
       "<IPython.core.display.Javascript object>"
      ]
     },
     "metadata": {},
     "output_type": "display_data"
    },
    {
     "data": {
      "text/markdown": [
       "<span style=\"color:#33cc33\">Correct</span>"
      ],
      "text/plain": [
       "Correct"
      ]
     },
     "metadata": {},
     "output_type": "display_data"
    },
    {
     "data": {
      "text/plain": [
       "tropical    3607\n",
       "fruity      9090\n",
       "dtype: int64"
      ]
     },
     "execution_count": 12,
     "metadata": {},
     "output_type": "execute_result"
    }
   ],
   "source": [
    "# HINT : Use a map .\n",
    "tropical = reviews.description.map(lambda desc: \"tropical\" in desc).sum()\n",
    "fruity = reviews.description.map(lambda desc: \"fruity\" in desc).sum()\n",
    "descriptor_counts = pd.Series([tropical, fruity], index=['tropical', 'fruity'])\n",
    "# Check your answer\n",
    "q6.check()\n",
    "descriptor_counts"
   ]
  },
  {
   "cell_type": "code",
   "execution_count": 13,
   "id": "ad15d752",
   "metadata": {
    "execution": {
     "iopub.execute_input": "2022-01-29T17:10:35.829020Z",
     "iopub.status.busy": "2022-01-29T17:10:35.828116Z",
     "iopub.status.idle": "2022-01-29T17:10:35.831045Z",
     "shell.execute_reply": "2022-01-29T17:10:35.831641Z"
    },
    "papermill": {
     "duration": 0.032389,
     "end_time": "2022-01-29T17:10:35.831783",
     "exception": false,
     "start_time": "2022-01-29T17:10:35.799394",
     "status": "completed"
    },
    "tags": []
   },
   "outputs": [],
   "source": [
    "# q6.hint()\n",
    "# q6.solution()"
   ]
  },
  {
   "cell_type": "markdown",
   "id": "621121f5",
   "metadata": {
    "papermill": {
     "duration": 0.026528,
     "end_time": "2022-01-29T17:10:35.885555",
     "exception": false,
     "start_time": "2022-01-29T17:10:35.859027",
     "status": "completed"
    },
    "tags": []
   },
   "source": [
    "## 7.\n",
    "We'd like to host these wine reviews on our website, but a rating system ranging from 80 to 100 points is too hard to understand - we'd like to translate them into simple star ratings. A score of 95 or higher counts as 3 stars, a score of at least 85 but less than 95 is 2 stars. Any other score is 1 star.\n",
    "\n",
    "Also, the Canadian Vintners Association bought a lot of ads on the site, so any wines from Canada should automatically get 3 stars, regardless of points.\n",
    "\n",
    "Create a series `star_ratings` with the number of stars corresponding to each review in the dataset."
   ]
  },
  {
   "cell_type": "code",
   "execution_count": 14,
   "id": "3ae2ba3d",
   "metadata": {
    "execution": {
     "iopub.execute_input": "2022-01-29T17:10:35.946548Z",
     "iopub.status.busy": "2022-01-29T17:10:35.945644Z",
     "iopub.status.idle": "2022-01-29T17:10:40.710876Z",
     "shell.execute_reply": "2022-01-29T17:10:40.711469Z",
     "shell.execute_reply.started": "2022-01-29T17:09:24.090423Z"
    },
    "papermill": {
     "duration": 4.799225,
     "end_time": "2022-01-29T17:10:40.711629",
     "exception": false,
     "start_time": "2022-01-29T17:10:35.912404",
     "status": "completed"
    },
    "tags": []
   },
   "outputs": [
    {
     "data": {
      "application/javascript": [
       "parent.postMessage({\"jupyterEvent\": \"custom.exercise_interaction\", \"data\": {\"outcomeType\": 1, \"valueTowardsCompletion\": 0.14285714285714285, \"interactionType\": 1, \"questionType\": 1, \"questionId\": \"7_StarRatings\", \"learnToolsVersion\": \"0.3.4\", \"failureMessage\": \"\", \"exceptionClass\": \"\", \"trace\": \"\"}}, \"*\")"
      ],
      "text/plain": [
       "<IPython.core.display.Javascript object>"
      ]
     },
     "metadata": {},
     "output_type": "display_data"
    },
    {
     "data": {
      "text/markdown": [
       "<span style=\"color:#33cc33\">Correct</span>"
      ],
      "text/plain": [
       "Correct"
      ]
     },
     "metadata": {},
     "output_type": "display_data"
    },
    {
     "data": {
      "text/plain": [
       "0         2\n",
       "1         2\n",
       "         ..\n",
       "129969    2\n",
       "129970    2\n",
       "Length: 129971, dtype: int64"
      ]
     },
     "execution_count": 14,
     "metadata": {},
     "output_type": "execute_result"
    }
   ],
   "source": [
    "def Stars_Checking(row):\n",
    "    if row.country == 'Canada':\n",
    "        return 3\n",
    "    elif row.points >= 95:\n",
    "        return 3\n",
    "    elif row.points >= 85:\n",
    "        return 2\n",
    "    else:\n",
    "        return 1\n",
    "\n",
    "star_ratings = reviews.apply(Stars_Checking, axis='columns')\n",
    "\n",
    "\n",
    "# Check your answer\n",
    "q7.check()\n",
    "star_ratings"
   ]
  },
  {
   "cell_type": "code",
   "execution_count": 15,
   "id": "d677f203",
   "metadata": {
    "execution": {
     "iopub.execute_input": "2022-01-29T17:10:40.774170Z",
     "iopub.status.busy": "2022-01-29T17:10:40.773249Z",
     "iopub.status.idle": "2022-01-29T17:10:40.776285Z",
     "shell.execute_reply": "2022-01-29T17:10:40.776837Z"
    },
    "papermill": {
     "duration": 0.03617,
     "end_time": "2022-01-29T17:10:40.776989",
     "exception": false,
     "start_time": "2022-01-29T17:10:40.740819",
     "status": "completed"
    },
    "tags": []
   },
   "outputs": [],
   "source": [
    "# q7.hint()\n",
    "# q7.solution()"
   ]
  },
  {
   "cell_type": "markdown",
   "id": "f0a89e8e",
   "metadata": {
    "execution": {
     "iopub.execute_input": "2022-01-15T08:01:24.928645Z",
     "iopub.status.busy": "2022-01-15T08:01:24.927741Z",
     "iopub.status.idle": "2022-01-15T08:01:24.932753Z",
     "shell.execute_reply": "2022-01-15T08:01:24.931951Z",
     "shell.execute_reply.started": "2022-01-15T08:01:24.9286Z"
    },
    "papermill": {
     "duration": 0.02915,
     "end_time": "2022-01-29T17:10:40.835458",
     "exception": false,
     "start_time": "2022-01-29T17:10:40.806308",
     "status": "completed"
    },
    "tags": []
   },
   "source": [
    "### Thank You!"
   ]
  },
  {
   "cell_type": "markdown",
   "id": "7c53c82c",
   "metadata": {
    "papermill": {
     "duration": 0.02965,
     "end_time": "2022-01-29T17:10:40.894367",
     "exception": false,
     "start_time": "2022-01-29T17:10:40.864717",
     "status": "completed"
    },
    "tags": []
   },
   "source": []
  },
  {
   "cell_type": "markdown",
   "id": "cd1dc0f3",
   "metadata": {
    "papermill": {
     "duration": 0.028227,
     "end_time": "2022-01-29T17:10:40.951936",
     "exception": false,
     "start_time": "2022-01-29T17:10:40.923709",
     "status": "completed"
    },
    "tags": []
   },
   "source": [
    "# Keep going\n",
    "Continue to **[grouping and sorting](https://www.kaggle.com/residentmario/grouping-and-sorting)**."
   ]
  },
  {
   "cell_type": "markdown",
   "id": "ff209a3b",
   "metadata": {
    "papermill": {
     "duration": 0.029608,
     "end_time": "2022-01-29T17:10:41.011418",
     "exception": false,
     "start_time": "2022-01-29T17:10:40.981810",
     "status": "completed"
    },
    "tags": []
   },
   "source": [
    "---\n",
    "\n",
    "\n",
    "\n",
    "\n",
    "*Have questions or comments? Visit the [course discussion forum](https://www.kaggle.com/learn/pandas/discussion) to chat with other learners.*"
   ]
  }
 ],
 "metadata": {
  "kernelspec": {
   "display_name": "Python 3",
   "language": "python",
   "name": "python3"
  },
  "language_info": {
   "codemirror_mode": {
    "name": "ipython",
    "version": 3
   },
   "file_extension": ".py",
   "mimetype": "text/x-python",
   "name": "python",
   "nbconvert_exporter": "python",
   "pygments_lexer": "ipython3",
   "version": "3.7.12"
  },
  "papermill": {
   "default_parameters": {},
   "duration": 23.851566,
   "end_time": "2022-01-29T17:10:41.650356",
   "environment_variables": {},
   "exception": null,
   "input_path": "__notebook__.ipynb",
   "output_path": "__notebook__.ipynb",
   "parameters": {},
   "start_time": "2022-01-29T17:10:17.798790",
   "version": "2.3.3"
  }
 },
 "nbformat": 4,
 "nbformat_minor": 5
}
