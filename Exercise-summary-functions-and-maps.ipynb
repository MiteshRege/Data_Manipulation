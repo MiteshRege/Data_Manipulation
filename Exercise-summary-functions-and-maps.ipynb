{
 "cells": [
  {
   "cell_type": "markdown",
   "id": "0b2e3a4c",
   "metadata": {
    "papermill": {
     "duration": 0.02088,
     "end_time": "2022-01-15T08:05:33.815038",
     "exception": false,
     "start_time": "2022-01-15T08:05:33.794158",
     "status": "completed"
    },
    "tags": []
   },
   "source": [
    "**This notebook is an exercise in the [Pandas](https://www.kaggle.com/learn/pandas) course.  You can reference the tutorial at [this link](https://www.kaggle.com/residentmario/summary-functions-and-maps).**\n",
    "\n",
    "---\n"
   ]
  },
  {
   "cell_type": "markdown",
   "id": "4cc652ad",
   "metadata": {
    "papermill": {
     "duration": 0.019401,
     "end_time": "2022-01-15T08:05:33.855022",
     "exception": false,
     "start_time": "2022-01-15T08:05:33.835621",
     "status": "completed"
    },
    "tags": []
   },
   "source": [
    "# Introduction\n",
    "\n",
    "Now you are ready to get a deeper understanding of your data.\n",
    "\n",
    "Run the following cell to load your data and some utility functions (including code to check your answers)."
   ]
  },
  {
   "cell_type": "code",
   "execution_count": 1,
   "id": "a5ccb6b7",
   "metadata": {
    "execution": {
     "iopub.execute_input": "2022-01-15T08:05:33.900080Z",
     "iopub.status.busy": "2022-01-15T08:05:33.898950Z",
     "iopub.status.idle": "2022-01-15T08:05:42.201045Z",
     "shell.execute_reply": "2022-01-15T08:05:42.201562Z",
     "shell.execute_reply.started": "2022-01-15T07:56:11.435426Z"
    },
    "papermill": {
     "duration": 8.327,
     "end_time": "2022-01-15T08:05:42.201848",
     "exception": false,
     "start_time": "2022-01-15T08:05:33.874848",
     "status": "completed"
    },
    "tags": []
   },
   "outputs": [
    {
     "name": "stdout",
     "output_type": "stream",
     "text": [
      "Setup complete.\n"
     ]
    },
    {
     "data": {
      "text/html": [
       "<div>\n",
       "<style scoped>\n",
       "    .dataframe tbody tr th:only-of-type {\n",
       "        vertical-align: middle;\n",
       "    }\n",
       "\n",
       "    .dataframe tbody tr th {\n",
       "        vertical-align: top;\n",
       "    }\n",
       "\n",
       "    .dataframe thead th {\n",
       "        text-align: right;\n",
       "    }\n",
       "</style>\n",
       "<table border=\"1\" class=\"dataframe\">\n",
       "  <thead>\n",
       "    <tr style=\"text-align: right;\">\n",
       "      <th></th>\n",
       "      <th>country</th>\n",
       "      <th>description</th>\n",
       "      <th>designation</th>\n",
       "      <th>points</th>\n",
       "      <th>price</th>\n",
       "      <th>province</th>\n",
       "      <th>region_1</th>\n",
       "      <th>region_2</th>\n",
       "      <th>taster_name</th>\n",
       "      <th>taster_twitter_handle</th>\n",
       "      <th>title</th>\n",
       "      <th>variety</th>\n",
       "      <th>winery</th>\n",
       "    </tr>\n",
       "  </thead>\n",
       "  <tbody>\n",
       "    <tr>\n",
       "      <th>0</th>\n",
       "      <td>Italy</td>\n",
       "      <td>Aromas include tropical fruit, broom, brimston...</td>\n",
       "      <td>Vulkà Bianco</td>\n",
       "      <td>87</td>\n",
       "      <td>NaN</td>\n",
       "      <td>Sicily &amp; Sardinia</td>\n",
       "      <td>Etna</td>\n",
       "      <td>NaN</td>\n",
       "      <td>Kerin O’Keefe</td>\n",
       "      <td>@kerinokeefe</td>\n",
       "      <td>Nicosia 2013 Vulkà Bianco  (Etna)</td>\n",
       "      <td>White Blend</td>\n",
       "      <td>Nicosia</td>\n",
       "    </tr>\n",
       "    <tr>\n",
       "      <th>1</th>\n",
       "      <td>Portugal</td>\n",
       "      <td>This is ripe and fruity, a wine that is smooth...</td>\n",
       "      <td>Avidagos</td>\n",
       "      <td>87</td>\n",
       "      <td>15.0</td>\n",
       "      <td>Douro</td>\n",
       "      <td>NaN</td>\n",
       "      <td>NaN</td>\n",
       "      <td>Roger Voss</td>\n",
       "      <td>@vossroger</td>\n",
       "      <td>Quinta dos Avidagos 2011 Avidagos Red (Douro)</td>\n",
       "      <td>Portuguese Red</td>\n",
       "      <td>Quinta dos Avidagos</td>\n",
       "    </tr>\n",
       "    <tr>\n",
       "      <th>2</th>\n",
       "      <td>US</td>\n",
       "      <td>Tart and snappy, the flavors of lime flesh and...</td>\n",
       "      <td>NaN</td>\n",
       "      <td>87</td>\n",
       "      <td>14.0</td>\n",
       "      <td>Oregon</td>\n",
       "      <td>Willamette Valley</td>\n",
       "      <td>Willamette Valley</td>\n",
       "      <td>Paul Gregutt</td>\n",
       "      <td>@paulgwine</td>\n",
       "      <td>Rainstorm 2013 Pinot Gris (Willamette Valley)</td>\n",
       "      <td>Pinot Gris</td>\n",
       "      <td>Rainstorm</td>\n",
       "    </tr>\n",
       "    <tr>\n",
       "      <th>3</th>\n",
       "      <td>US</td>\n",
       "      <td>Pineapple rind, lemon pith and orange blossom ...</td>\n",
       "      <td>Reserve Late Harvest</td>\n",
       "      <td>87</td>\n",
       "      <td>13.0</td>\n",
       "      <td>Michigan</td>\n",
       "      <td>Lake Michigan Shore</td>\n",
       "      <td>NaN</td>\n",
       "      <td>Alexander Peartree</td>\n",
       "      <td>NaN</td>\n",
       "      <td>St. Julian 2013 Reserve Late Harvest Riesling ...</td>\n",
       "      <td>Riesling</td>\n",
       "      <td>St. Julian</td>\n",
       "    </tr>\n",
       "    <tr>\n",
       "      <th>4</th>\n",
       "      <td>US</td>\n",
       "      <td>Much like the regular bottling from 2012, this...</td>\n",
       "      <td>Vintner's Reserve Wild Child Block</td>\n",
       "      <td>87</td>\n",
       "      <td>65.0</td>\n",
       "      <td>Oregon</td>\n",
       "      <td>Willamette Valley</td>\n",
       "      <td>Willamette Valley</td>\n",
       "      <td>Paul Gregutt</td>\n",
       "      <td>@paulgwine</td>\n",
       "      <td>Sweet Cheeks 2012 Vintner's Reserve Wild Child...</td>\n",
       "      <td>Pinot Noir</td>\n",
       "      <td>Sweet Cheeks</td>\n",
       "    </tr>\n",
       "  </tbody>\n",
       "</table>\n",
       "</div>"
      ],
      "text/plain": [
       "    country                                        description  \\\n",
       "0     Italy  Aromas include tropical fruit, broom, brimston...   \n",
       "1  Portugal  This is ripe and fruity, a wine that is smooth...   \n",
       "2        US  Tart and snappy, the flavors of lime flesh and...   \n",
       "3        US  Pineapple rind, lemon pith and orange blossom ...   \n",
       "4        US  Much like the regular bottling from 2012, this...   \n",
       "\n",
       "                          designation  points  price           province  \\\n",
       "0                        Vulkà Bianco      87    NaN  Sicily & Sardinia   \n",
       "1                            Avidagos      87   15.0              Douro   \n",
       "2                                 NaN      87   14.0             Oregon   \n",
       "3                Reserve Late Harvest      87   13.0           Michigan   \n",
       "4  Vintner's Reserve Wild Child Block      87   65.0             Oregon   \n",
       "\n",
       "              region_1           region_2         taster_name  \\\n",
       "0                 Etna                NaN       Kerin O’Keefe   \n",
       "1                  NaN                NaN          Roger Voss   \n",
       "2    Willamette Valley  Willamette Valley        Paul Gregutt   \n",
       "3  Lake Michigan Shore                NaN  Alexander Peartree   \n",
       "4    Willamette Valley  Willamette Valley        Paul Gregutt   \n",
       "\n",
       "  taster_twitter_handle                                              title  \\\n",
       "0          @kerinokeefe                  Nicosia 2013 Vulkà Bianco  (Etna)   \n",
       "1            @vossroger      Quinta dos Avidagos 2011 Avidagos Red (Douro)   \n",
       "2           @paulgwine       Rainstorm 2013 Pinot Gris (Willamette Valley)   \n",
       "3                   NaN  St. Julian 2013 Reserve Late Harvest Riesling ...   \n",
       "4           @paulgwine   Sweet Cheeks 2012 Vintner's Reserve Wild Child...   \n",
       "\n",
       "          variety               winery  \n",
       "0     White Blend              Nicosia  \n",
       "1  Portuguese Red  Quinta dos Avidagos  \n",
       "2      Pinot Gris            Rainstorm  \n",
       "3        Riesling           St. Julian  \n",
       "4      Pinot Noir         Sweet Cheeks  "
      ]
     },
     "execution_count": 1,
     "metadata": {},
     "output_type": "execute_result"
    }
   ],
   "source": [
    "import pandas as pd\n",
    "pd.set_option(\"display.max_rows\", 5)\n",
    "reviews = pd.read_csv(\"../input/wine-reviews/winemag-data-130k-v2.csv\", index_col=0)\n",
    "from learntools.core import binder; binder.bind(globals())\n",
    "from learntools.pandas.summary_functions_and_maps import *\n",
    "print(\"Setup complete.\")\n",
    "\n",
    "reviews.head()"
   ]
  },
  {
   "cell_type": "markdown",
   "id": "e7804fc0",
   "metadata": {
    "papermill": {
     "duration": 0.021843,
     "end_time": "2022-01-15T08:05:42.246183",
     "exception": false,
     "start_time": "2022-01-15T08:05:42.224340",
     "status": "completed"
    },
    "tags": []
   },
   "source": [
    "# Exercises"
   ]
  },
  {
   "cell_type": "markdown",
   "id": "22c74b67",
   "metadata": {
    "papermill": {
     "duration": 0.023731,
     "end_time": "2022-01-15T08:05:42.290822",
     "exception": false,
     "start_time": "2022-01-15T08:05:42.267091",
     "status": "completed"
    },
    "tags": []
   },
   "source": [
    "## 1.\n",
    "\n",
    "What is the median of the `points` column in the `reviews` DataFrame?"
   ]
  },
  {
   "cell_type": "code",
   "execution_count": 2,
   "id": "24a9bf12",
   "metadata": {
    "execution": {
     "iopub.execute_input": "2022-01-15T08:05:42.340583Z",
     "iopub.status.busy": "2022-01-15T08:05:42.339868Z",
     "iopub.status.idle": "2022-01-15T08:05:42.347243Z",
     "shell.execute_reply": "2022-01-15T08:05:42.348000Z",
     "shell.execute_reply.started": "2022-01-15T07:56:19.675728Z"
    },
    "papermill": {
     "duration": 0.035269,
     "end_time": "2022-01-15T08:05:42.348224",
     "exception": false,
     "start_time": "2022-01-15T08:05:42.312955",
     "status": "completed"
    },
    "tags": []
   },
   "outputs": [
    {
     "data": {
      "application/javascript": [
       "parent.postMessage({\"jupyterEvent\": \"custom.exercise_interaction\", \"data\": {\"outcomeType\": 1, \"valueTowardsCompletion\": 0.14285714285714285, \"interactionType\": 1, \"questionType\": 1, \"questionId\": \"1_MedianPoints\", \"learnToolsVersion\": \"0.3.4\", \"failureMessage\": \"\", \"exceptionClass\": \"\", \"trace\": \"\"}}, \"*\")"
      ],
      "text/plain": [
       "<IPython.core.display.Javascript object>"
      ]
     },
     "metadata": {},
     "output_type": "display_data"
    },
    {
     "data": {
      "text/markdown": [
       "<span style=\"color:#33cc33\">Correct</span>"
      ],
      "text/plain": [
       "Correct"
      ]
     },
     "metadata": {},
     "output_type": "display_data"
    },
    {
     "name": "stdout",
     "output_type": "stream",
     "text": [
      "Median of reviews is  88.0\n"
     ]
    }
   ],
   "source": [
    "median_points = reviews.points.median()\n",
    "# Check your answer\n",
    "q1.check()\n",
    "print(\"Median of reviews is \",median_points)"
   ]
  },
  {
   "cell_type": "code",
   "execution_count": 3,
   "id": "c9788f79",
   "metadata": {
    "execution": {
     "iopub.execute_input": "2022-01-15T08:05:42.399086Z",
     "iopub.status.busy": "2022-01-15T08:05:42.398402Z",
     "iopub.status.idle": "2022-01-15T08:05:42.401389Z",
     "shell.execute_reply": "2022-01-15T08:05:42.401960Z",
     "shell.execute_reply.started": "2022-01-15T07:56:19.688860Z"
    },
    "papermill": {
     "duration": 0.030906,
     "end_time": "2022-01-15T08:05:42.402135",
     "exception": false,
     "start_time": "2022-01-15T08:05:42.371229",
     "status": "completed"
    },
    "tags": []
   },
   "outputs": [],
   "source": [
    "#q1.hint()\n",
    "#q1.solution()"
   ]
  },
  {
   "cell_type": "markdown",
   "id": "8c8c6750",
   "metadata": {
    "papermill": {
     "duration": 0.024749,
     "end_time": "2022-01-15T08:05:42.449635",
     "exception": false,
     "start_time": "2022-01-15T08:05:42.424886",
     "status": "completed"
    },
    "tags": []
   },
   "source": [
    "## 2. \n",
    "What countries are represented in the dataset? (Your answer should not include any duplicates.)"
   ]
  },
  {
   "cell_type": "code",
   "execution_count": 4,
   "id": "3904ef4a",
   "metadata": {
    "execution": {
     "iopub.execute_input": "2022-01-15T08:05:42.499971Z",
     "iopub.status.busy": "2022-01-15T08:05:42.499242Z",
     "iopub.status.idle": "2022-01-15T08:05:42.520178Z",
     "shell.execute_reply": "2022-01-15T08:05:42.520706Z",
     "shell.execute_reply.started": "2022-01-15T07:56:19.696562Z"
    },
    "papermill": {
     "duration": 0.047413,
     "end_time": "2022-01-15T08:05:42.520881",
     "exception": false,
     "start_time": "2022-01-15T08:05:42.473468",
     "status": "completed"
    },
    "tags": []
   },
   "outputs": [
    {
     "data": {
      "application/javascript": [
       "parent.postMessage({\"jupyterEvent\": \"custom.exercise_interaction\", \"data\": {\"outcomeType\": 1, \"valueTowardsCompletion\": 0.14285714285714285, \"interactionType\": 1, \"questionType\": 2, \"questionId\": \"2_UniqueCountries\", \"learnToolsVersion\": \"0.3.4\", \"failureMessage\": \"\", \"exceptionClass\": \"\", \"trace\": \"\"}}, \"*\")"
      ],
      "text/plain": [
       "<IPython.core.display.Javascript object>"
      ]
     },
     "metadata": {},
     "output_type": "display_data"
    },
    {
     "data": {
      "text/markdown": [
       "<span style=\"color:#33cc33\">Correct</span>"
      ],
      "text/plain": [
       "Correct"
      ]
     },
     "metadata": {},
     "output_type": "display_data"
    },
    {
     "data": {
      "text/plain": [
       "array(['Italy', 'Portugal', 'US', 'Spain', 'France', 'Germany',\n",
       "       'Argentina', 'Chile', 'Australia', 'Austria', 'South Africa',\n",
       "       'New Zealand', 'Israel', 'Hungary', 'Greece', 'Romania', 'Mexico',\n",
       "       'Canada', nan, 'Turkey', 'Czech Republic', 'Slovenia',\n",
       "       'Luxembourg', 'Croatia', 'Georgia', 'Uruguay', 'England',\n",
       "       'Lebanon', 'Serbia', 'Brazil', 'Moldova', 'Morocco', 'Peru',\n",
       "       'India', 'Bulgaria', 'Cyprus', 'Armenia', 'Switzerland',\n",
       "       'Bosnia and Herzegovina', 'Ukraine', 'Slovakia', 'Macedonia',\n",
       "       'China', 'Egypt'], dtype=object)"
      ]
     },
     "execution_count": 4,
     "metadata": {},
     "output_type": "execute_result"
    }
   ],
   "source": [
    "countries = reviews.country.unique()\n",
    "# Check your answer\n",
    "q2.check()\n",
    "countries"
   ]
  },
  {
   "cell_type": "code",
   "execution_count": 5,
   "id": "b711e0fc",
   "metadata": {
    "execution": {
     "iopub.execute_input": "2022-01-15T08:05:42.576751Z",
     "iopub.status.busy": "2022-01-15T08:05:42.576017Z",
     "iopub.status.idle": "2022-01-15T08:05:42.579660Z",
     "shell.execute_reply": "2022-01-15T08:05:42.578633Z",
     "shell.execute_reply.started": "2022-01-15T07:56:19.731370Z"
    },
    "papermill": {
     "duration": 0.035181,
     "end_time": "2022-01-15T08:05:42.579889",
     "exception": false,
     "start_time": "2022-01-15T08:05:42.544708",
     "status": "completed"
    },
    "tags": []
   },
   "outputs": [],
   "source": [
    "#q2.hint()\n",
    "# q2.solution()"
   ]
  },
  {
   "cell_type": "markdown",
   "id": "b17f71c1",
   "metadata": {
    "papermill": {
     "duration": 0.026921,
     "end_time": "2022-01-15T08:05:42.632009",
     "exception": false,
     "start_time": "2022-01-15T08:05:42.605088",
     "status": "completed"
    },
    "tags": []
   },
   "source": [
    "## 3.\n",
    "How often does each country appear in the dataset? Create a Series `reviews_per_country` mapping countries to the count of reviews of wines from that country."
   ]
  },
  {
   "cell_type": "code",
   "execution_count": 6,
   "id": "754942a5",
   "metadata": {
    "execution": {
     "iopub.execute_input": "2022-01-15T08:05:42.687251Z",
     "iopub.status.busy": "2022-01-15T08:05:42.686614Z",
     "iopub.status.idle": "2022-01-15T08:05:42.715979Z",
     "shell.execute_reply": "2022-01-15T08:05:42.716478Z",
     "shell.execute_reply.started": "2022-01-15T07:56:19.738326Z"
    },
    "papermill": {
     "duration": 0.058087,
     "end_time": "2022-01-15T08:05:42.716662",
     "exception": false,
     "start_time": "2022-01-15T08:05:42.658575",
     "status": "completed"
    },
    "tags": []
   },
   "outputs": [
    {
     "data": {
      "application/javascript": [
       "parent.postMessage({\"jupyterEvent\": \"custom.exercise_interaction\", \"data\": {\"outcomeType\": 1, \"valueTowardsCompletion\": 0.14285714285714285, \"interactionType\": 1, \"questionType\": 1, \"questionId\": \"3_ReviewsPerCountry\", \"learnToolsVersion\": \"0.3.4\", \"failureMessage\": \"\", \"exceptionClass\": \"\", \"trace\": \"\"}}, \"*\")"
      ],
      "text/plain": [
       "<IPython.core.display.Javascript object>"
      ]
     },
     "metadata": {},
     "output_type": "display_data"
    },
    {
     "data": {
      "text/markdown": [
       "<span style=\"color:#33cc33\">Correct</span>"
      ],
      "text/plain": [
       "Correct"
      ]
     },
     "metadata": {},
     "output_type": "display_data"
    },
    {
     "data": {
      "text/plain": [
       "US        54504\n",
       "France    22093\n",
       "          ...  \n",
       "China         1\n",
       "Egypt         1\n",
       "Name: country, Length: 43, dtype: int64"
      ]
     },
     "execution_count": 6,
     "metadata": {},
     "output_type": "execute_result"
    }
   ],
   "source": [
    "reviews_per_country = reviews.country.value_counts()\n",
    "\n",
    "# Check your answer\n",
    "q3.check()\n",
    "reviews_per_country"
   ]
  },
  {
   "cell_type": "code",
   "execution_count": 7,
   "id": "55819fcb",
   "metadata": {
    "execution": {
     "iopub.execute_input": "2022-01-15T08:05:42.771320Z",
     "iopub.status.busy": "2022-01-15T08:05:42.770520Z",
     "iopub.status.idle": "2022-01-15T08:05:42.773154Z",
     "shell.execute_reply": "2022-01-15T08:05:42.773779Z",
     "shell.execute_reply.started": "2022-01-15T07:56:19.776655Z"
    },
    "papermill": {
     "duration": 0.032587,
     "end_time": "2022-01-15T08:05:42.773949",
     "exception": false,
     "start_time": "2022-01-15T08:05:42.741362",
     "status": "completed"
    },
    "tags": []
   },
   "outputs": [],
   "source": [
    "# q3.hint()\n",
    "# q3.solution()"
   ]
  },
  {
   "cell_type": "markdown",
   "id": "2c977217",
   "metadata": {
    "papermill": {
     "duration": 0.025316,
     "end_time": "2022-01-15T08:05:42.825096",
     "exception": false,
     "start_time": "2022-01-15T08:05:42.799780",
     "status": "completed"
    },
    "tags": []
   },
   "source": [
    "## 4.\n",
    "Create variable `centered_price` containing a version of the `price` column with the mean price subtracted.\n",
    "\n",
    "(Note: this 'centering' transformation is a common preprocessing step before applying various machine learning algorithms.) "
   ]
  },
  {
   "cell_type": "code",
   "execution_count": 8,
   "id": "b8e5b648",
   "metadata": {
    "execution": {
     "iopub.execute_input": "2022-01-15T08:05:42.879355Z",
     "iopub.status.busy": "2022-01-15T08:05:42.878373Z",
     "iopub.status.idle": "2022-01-15T08:05:42.891209Z",
     "shell.execute_reply": "2022-01-15T08:05:42.891812Z",
     "shell.execute_reply.started": "2022-01-15T07:56:19.783067Z"
    },
    "papermill": {
     "duration": 0.041457,
     "end_time": "2022-01-15T08:05:42.891995",
     "exception": false,
     "start_time": "2022-01-15T08:05:42.850538",
     "status": "completed"
    },
    "tags": []
   },
   "outputs": [
    {
     "data": {
      "application/javascript": [
       "parent.postMessage({\"jupyterEvent\": \"custom.exercise_interaction\", \"data\": {\"outcomeType\": 1, \"valueTowardsCompletion\": 0.14285714285714285, \"interactionType\": 1, \"questionType\": 1, \"questionId\": \"4_CenteredPrice\", \"learnToolsVersion\": \"0.3.4\", \"failureMessage\": \"\", \"exceptionClass\": \"\", \"trace\": \"\"}}, \"*\")"
      ],
      "text/plain": [
       "<IPython.core.display.Javascript object>"
      ]
     },
     "metadata": {},
     "output_type": "display_data"
    },
    {
     "data": {
      "text/markdown": [
       "<span style=\"color:#33cc33\">Correct</span>"
      ],
      "text/plain": [
       "Correct"
      ]
     },
     "metadata": {},
     "output_type": "display_data"
    },
    {
     "data": {
      "text/plain": [
       "0               NaN\n",
       "1        -20.363389\n",
       "            ...    \n",
       "129969    -3.363389\n",
       "129970   -14.363389\n",
       "Name: price, Length: 129971, dtype: float64"
      ]
     },
     "execution_count": 8,
     "metadata": {},
     "output_type": "execute_result"
    }
   ],
   "source": [
    "review_mean = reviews.price.mean()\n",
    "centered_price =  reviews.price - review_mean\n",
    "# Check your answer\n",
    "q4.check()\n",
    "centered_price"
   ]
  },
  {
   "cell_type": "code",
   "execution_count": 9,
   "id": "80103571",
   "metadata": {
    "execution": {
     "iopub.execute_input": "2022-01-15T08:05:42.949237Z",
     "iopub.status.busy": "2022-01-15T08:05:42.948301Z",
     "iopub.status.idle": "2022-01-15T08:05:42.951589Z",
     "shell.execute_reply": "2022-01-15T08:05:42.952088Z",
     "shell.execute_reply.started": "2022-01-15T07:56:19.805108Z"
    },
    "papermill": {
     "duration": 0.033134,
     "end_time": "2022-01-15T08:05:42.952259",
     "exception": false,
     "start_time": "2022-01-15T08:05:42.919125",
     "status": "completed"
    },
    "tags": []
   },
   "outputs": [],
   "source": [
    "# q4.hint()\n",
    "# q4.solution()"
   ]
  },
  {
   "cell_type": "markdown",
   "id": "5321b27c",
   "metadata": {
    "papermill": {
     "duration": 0.026079,
     "end_time": "2022-01-15T08:05:43.004206",
     "exception": false,
     "start_time": "2022-01-15T08:05:42.978127",
     "status": "completed"
    },
    "tags": []
   },
   "source": [
    "## 5.\n",
    "I'm an economical wine buyer. Which wine is the \"best bargain\"? Create a variable `bargain_wine` with the title of the wine with the highest points-to-price ratio in the dataset."
   ]
  },
  {
   "cell_type": "markdown",
   "id": "0789aa03",
   "metadata": {
    "papermill": {
     "duration": 0.02993,
     "end_time": "2022-01-15T08:05:43.060880",
     "exception": false,
     "start_time": "2022-01-15T08:05:43.030950",
     "status": "completed"
    },
    "tags": []
   },
   "source": []
  },
  {
   "cell_type": "code",
   "execution_count": 10,
   "id": "0cd74fd9",
   "metadata": {
    "execution": {
     "iopub.execute_input": "2022-01-15T08:05:43.120449Z",
     "iopub.status.busy": "2022-01-15T08:05:43.119467Z",
     "iopub.status.idle": "2022-01-15T08:05:43.136139Z",
     "shell.execute_reply": "2022-01-15T08:05:43.136621Z",
     "shell.execute_reply.started": "2022-01-15T07:56:19.812106Z"
    },
    "papermill": {
     "duration": 0.047317,
     "end_time": "2022-01-15T08:05:43.136799",
     "exception": false,
     "start_time": "2022-01-15T08:05:43.089482",
     "status": "completed"
    },
    "tags": []
   },
   "outputs": [
    {
     "data": {
      "application/javascript": [
       "parent.postMessage({\"jupyterEvent\": \"custom.exercise_interaction\", \"data\": {\"outcomeType\": 1, \"valueTowardsCompletion\": 0.14285714285714285, \"interactionType\": 1, \"questionType\": 2, \"questionId\": \"5_BargainWine\", \"learnToolsVersion\": \"0.3.4\", \"failureMessage\": \"\", \"exceptionClass\": \"\", \"trace\": \"\"}}, \"*\")"
      ],
      "text/plain": [
       "<IPython.core.display.Javascript object>"
      ]
     },
     "metadata": {},
     "output_type": "display_data"
    },
    {
     "data": {
      "text/markdown": [
       "<span style=\"color:#33cc33\">Correct</span>"
      ],
      "text/plain": [
       "Correct"
      ]
     },
     "metadata": {},
     "output_type": "display_data"
    },
    {
     "data": {
      "text/plain": [
       "'Bandit NV Merlot (California)'"
      ]
     },
     "execution_count": 10,
     "metadata": {},
     "output_type": "execute_result"
    }
   ],
   "source": [
    "# Method 1 :\n",
    "x = reviews.price/reviews.points\n",
    "max_raio_id = x.idxmin()\n",
    "max_raio_row = reviews.loc[max_raio_id]\n",
    "bargain_wine = max_raio_row['title']\n",
    "\n",
    "# Method 2 :\n",
    "# bargain_idx = (reviews.points / reviews.price).idxmax()\n",
    "# bargain_wine = reviews.loc[bargain_idx, 'title']\n",
    "\n",
    "# Check your answer\n",
    "q5.check()\n",
    "bargain_wine"
   ]
  },
  {
   "cell_type": "code",
   "execution_count": 11,
   "id": "1c65129e",
   "metadata": {
    "execution": {
     "iopub.execute_input": "2022-01-15T08:05:43.195806Z",
     "iopub.status.busy": "2022-01-15T08:05:43.194887Z",
     "iopub.status.idle": "2022-01-15T08:05:43.197998Z",
     "shell.execute_reply": "2022-01-15T08:05:43.198614Z",
     "shell.execute_reply.started": "2022-01-15T07:56:19.835238Z"
    },
    "papermill": {
     "duration": 0.034141,
     "end_time": "2022-01-15T08:05:43.198783",
     "exception": false,
     "start_time": "2022-01-15T08:05:43.164642",
     "status": "completed"
    },
    "tags": []
   },
   "outputs": [],
   "source": [
    "# q5.hint()\n",
    "# q5.solution()"
   ]
  },
  {
   "cell_type": "markdown",
   "id": "784741f0",
   "metadata": {
    "papermill": {
     "duration": 0.029651,
     "end_time": "2022-01-15T08:05:43.255556",
     "exception": false,
     "start_time": "2022-01-15T08:05:43.225905",
     "status": "completed"
    },
    "tags": []
   },
   "source": [
    "## 6.\n",
    "There are only so many words you can use when describing a bottle of wine. Is a wine more likely to be \"tropical\" or \"fruity\"? Create a Series `descriptor_counts` counting how many times each of these two words appears in the `description` column in the dataset. (For simplicity, let's ignore the capitalized versions of these words.)"
   ]
  },
  {
   "cell_type": "markdown",
   "id": "33a96aea",
   "metadata": {
    "papermill": {
     "duration": 0.02698,
     "end_time": "2022-01-15T08:05:43.312321",
     "exception": false,
     "start_time": "2022-01-15T08:05:43.285341",
     "status": "completed"
    },
    "tags": []
   },
   "source": []
  },
  {
   "cell_type": "code",
   "execution_count": 12,
   "id": "282ffa34",
   "metadata": {
    "execution": {
     "iopub.execute_input": "2022-01-15T08:05:43.372533Z",
     "iopub.status.busy": "2022-01-15T08:05:43.371542Z",
     "iopub.status.idle": "2022-01-15T08:05:43.525284Z",
     "shell.execute_reply": "2022-01-15T08:05:43.525747Z",
     "shell.execute_reply.started": "2022-01-15T07:59:23.951754Z"
    },
    "papermill": {
     "duration": 0.18602,
     "end_time": "2022-01-15T08:05:43.525919",
     "exception": false,
     "start_time": "2022-01-15T08:05:43.339899",
     "status": "completed"
    },
    "tags": []
   },
   "outputs": [
    {
     "data": {
      "text/plain": [
       "tropical    3607\n",
       "fruity      9090\n",
       "dtype: int64"
      ]
     },
     "execution_count": 12,
     "metadata": {},
     "output_type": "execute_result"
    }
   ],
   "source": [
    "# HINT : Use a map .\n",
    "tropical = reviews.description.map(lambda desc: \"tropical\" in desc).sum()\n",
    "fruity = reviews.description.map(lambda desc: \"fruity\" in desc).sum()\n",
    "descriptor_counts = pd.Series([tropical, fruity], index=['tropical', 'fruity'])\n",
    "# Check your answer\n",
    "# q6.check()\n",
    "descriptor_counts"
   ]
  },
  {
   "cell_type": "code",
   "execution_count": 13,
   "id": "12a99a83",
   "metadata": {
    "execution": {
     "iopub.execute_input": "2022-01-15T08:05:43.585763Z",
     "iopub.status.busy": "2022-01-15T08:05:43.584956Z",
     "iopub.status.idle": "2022-01-15T08:05:43.587826Z",
     "shell.execute_reply": "2022-01-15T08:05:43.588363Z"
    },
    "papermill": {
     "duration": 0.035056,
     "end_time": "2022-01-15T08:05:43.588543",
     "exception": false,
     "start_time": "2022-01-15T08:05:43.553487",
     "status": "completed"
    },
    "tags": []
   },
   "outputs": [],
   "source": [
    "# q6.hint()\n",
    "# q6.solution()"
   ]
  },
  {
   "cell_type": "markdown",
   "id": "477af106",
   "metadata": {
    "papermill": {
     "duration": 0.027379,
     "end_time": "2022-01-15T08:05:43.643371",
     "exception": false,
     "start_time": "2022-01-15T08:05:43.615992",
     "status": "completed"
    },
    "tags": []
   },
   "source": [
    "## 7.\n",
    "We'd like to host these wine reviews on our website, but a rating system ranging from 80 to 100 points is too hard to understand - we'd like to translate them into simple star ratings. A score of 95 or higher counts as 3 stars, a score of at least 85 but less than 95 is 2 stars. Any other score is 1 star.\n",
    "\n",
    "Also, the Canadian Vintners Association bought a lot of ads on the site, so any wines from Canada should automatically get 3 stars, regardless of points.\n",
    "\n",
    "Create a series `star_ratings` with the number of stars corresponding to each review in the dataset."
   ]
  },
  {
   "cell_type": "code",
   "execution_count": 14,
   "id": "b33a20ba",
   "metadata": {
    "execution": {
     "iopub.execute_input": "2022-01-15T08:05:43.704229Z",
     "iopub.status.busy": "2022-01-15T08:05:43.703283Z",
     "iopub.status.idle": "2022-01-15T08:05:48.698918Z",
     "shell.execute_reply": "2022-01-15T08:05:48.698027Z",
     "shell.execute_reply.started": "2022-01-15T08:00:47.696685Z"
    },
    "papermill": {
     "duration": 5.026873,
     "end_time": "2022-01-15T08:05:48.699113",
     "exception": false,
     "start_time": "2022-01-15T08:05:43.672240",
     "status": "completed"
    },
    "tags": []
   },
   "outputs": [
    {
     "data": {
      "application/javascript": [
       "parent.postMessage({\"jupyterEvent\": \"custom.exercise_interaction\", \"data\": {\"outcomeType\": 1, \"valueTowardsCompletion\": 0.14285714285714285, \"interactionType\": 1, \"questionType\": 1, \"questionId\": \"7_StarRatings\", \"learnToolsVersion\": \"0.3.4\", \"failureMessage\": \"\", \"exceptionClass\": \"\", \"trace\": \"\"}}, \"*\")"
      ],
      "text/plain": [
       "<IPython.core.display.Javascript object>"
      ]
     },
     "metadata": {},
     "output_type": "display_data"
    },
    {
     "data": {
      "text/markdown": [
       "<span style=\"color:#33cc33\">Correct</span>"
      ],
      "text/plain": [
       "Correct"
      ]
     },
     "metadata": {},
     "output_type": "display_data"
    },
    {
     "data": {
      "text/plain": [
       "0         2\n",
       "1         2\n",
       "         ..\n",
       "129969    2\n",
       "129970    2\n",
       "Length: 129971, dtype: int64"
      ]
     },
     "execution_count": 14,
     "metadata": {},
     "output_type": "execute_result"
    }
   ],
   "source": [
    "def Checking_stars(row):\n",
    "    if row.country == 'Canada':\n",
    "        return 3\n",
    "    elif row.points >= 95:\n",
    "        return 3\n",
    "    elif row.points >= 85:\n",
    "        return 2\n",
    "    else:\n",
    "        return 1\n",
    "\n",
    "star_ratings = reviews.apply(Checking_stars, axis='columns')\n",
    "\n",
    "\n",
    "# Check your answer\n",
    "q7.check()\n",
    "star_ratings"
   ]
  },
  {
   "cell_type": "code",
   "execution_count": 15,
   "id": "2b8d55af",
   "metadata": {
    "execution": {
     "iopub.execute_input": "2022-01-15T08:05:48.767768Z",
     "iopub.status.busy": "2022-01-15T08:05:48.767097Z",
     "iopub.status.idle": "2022-01-15T08:05:48.770104Z",
     "shell.execute_reply": "2022-01-15T08:05:48.770626Z"
    },
    "papermill": {
     "duration": 0.035902,
     "end_time": "2022-01-15T08:05:48.770798",
     "exception": false,
     "start_time": "2022-01-15T08:05:48.734896",
     "status": "completed"
    },
    "tags": []
   },
   "outputs": [],
   "source": [
    "# q7.hint()\n",
    "# q7.solution()"
   ]
  },
  {
   "cell_type": "markdown",
   "id": "f38d18fe",
   "metadata": {
    "execution": {
     "iopub.execute_input": "2022-01-15T08:01:24.928645Z",
     "iopub.status.busy": "2022-01-15T08:01:24.927741Z",
     "iopub.status.idle": "2022-01-15T08:01:24.932753Z",
     "shell.execute_reply": "2022-01-15T08:01:24.931951Z",
     "shell.execute_reply.started": "2022-01-15T08:01:24.928600Z"
    },
    "papermill": {
     "duration": 0.029261,
     "end_time": "2022-01-15T08:05:48.831950",
     "exception": false,
     "start_time": "2022-01-15T08:05:48.802689",
     "status": "completed"
    },
    "tags": []
   },
   "source": [
    "### Thank You!"
   ]
  },
  {
   "cell_type": "markdown",
   "id": "c1ca5ec8",
   "metadata": {
    "papermill": {
     "duration": 0.029914,
     "end_time": "2022-01-15T08:05:48.891067",
     "exception": false,
     "start_time": "2022-01-15T08:05:48.861153",
     "status": "completed"
    },
    "tags": []
   },
   "source": []
  },
  {
   "cell_type": "markdown",
   "id": "906038c2",
   "metadata": {
    "papermill": {
     "duration": 0.030616,
     "end_time": "2022-01-15T08:05:48.951520",
     "exception": false,
     "start_time": "2022-01-15T08:05:48.920904",
     "status": "completed"
    },
    "tags": []
   },
   "source": [
    "# Keep going\n",
    "Continue to **[grouping and sorting](https://www.kaggle.com/residentmario/grouping-and-sorting)**."
   ]
  },
  {
   "cell_type": "markdown",
   "id": "454fdf4c",
   "metadata": {
    "papermill": {
     "duration": 0.02881,
     "end_time": "2022-01-15T08:05:49.010176",
     "exception": false,
     "start_time": "2022-01-15T08:05:48.981366",
     "status": "completed"
    },
    "tags": []
   },
   "source": [
    "---\n",
    "\n",
    "\n",
    "\n",
    "\n",
    "*Have questions or comments? Visit the [course discussion forum](https://www.kaggle.com/learn/pandas/discussion) to chat with other learners.*"
   ]
  }
 ],
 "metadata": {
  "kernelspec": {
   "display_name": "Python 3",
   "language": "python",
   "name": "python3"
  },
  "language_info": {
   "codemirror_mode": {
    "name": "ipython",
    "version": 3
   },
   "file_extension": ".py",
   "mimetype": "text/x-python",
   "name": "python",
   "nbconvert_exporter": "python",
   "pygments_lexer": "ipython3",
   "version": "3.7.12"
  },
  "papermill": {
   "default_parameters": {},
   "duration": 26.317493,
   "end_time": "2022-01-15T08:05:49.750480",
   "environment_variables": {},
   "exception": null,
   "input_path": "__notebook__.ipynb",
   "output_path": "__notebook__.ipynb",
   "parameters": {},
   "start_time": "2022-01-15T08:05:23.432987",
   "version": "2.3.3"
  }
 },
 "nbformat": 4,
 "nbformat_minor": 5
}
