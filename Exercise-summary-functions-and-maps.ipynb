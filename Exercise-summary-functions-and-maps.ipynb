{
 "cells": [
  {
   "cell_type": "markdown",
   "id": "d7d6ed0a",
   "metadata": {
    "papermill": {
     "duration": 0.030747,
     "end_time": "2022-02-09T18:19:45.574801",
     "exception": false,
     "start_time": "2022-02-09T18:19:45.544054",
     "status": "completed"
    },
    "tags": []
   },
   "source": [
    "**This notebook is an exercise in the [Pandas](https://www.kaggle.com/learn/pandas) course.  You can reference the tutorial at [this link](https://www.kaggle.com/residentmario/summary-functions-and-maps).**\n",
    "\n",
    "---\n"
   ]
  },
  {
   "cell_type": "markdown",
   "id": "ac5f13f6",
   "metadata": {
    "papermill": {
     "duration": 0.019684,
     "end_time": "2022-02-09T18:19:45.617193",
     "exception": false,
     "start_time": "2022-02-09T18:19:45.597509",
     "status": "completed"
    },
    "tags": []
   },
   "source": [
    "# Introduction\n",
    "\n",
    "Now you are ready to get a deeper understanding of your data.\n",
    "\n",
    "Run the following cell to load your data and some utility functions (including code to check your answers)."
   ]
  },
  {
   "cell_type": "code",
   "execution_count": 1,
   "id": "e9edd69c",
   "metadata": {
    "execution": {
     "iopub.execute_input": "2022-02-09T18:19:45.667097Z",
     "iopub.status.busy": "2022-02-09T18:19:45.665234Z",
     "iopub.status.idle": "2022-02-09T18:19:53.948595Z",
     "shell.execute_reply": "2022-02-09T18:19:53.949351Z",
     "shell.execute_reply.started": "2022-01-29T17:08:44.996073Z"
    },
    "papermill": {
     "duration": 8.311413,
     "end_time": "2022-02-09T18:19:53.949778",
     "exception": false,
     "start_time": "2022-02-09T18:19:45.638365",
     "status": "completed"
    },
    "tags": []
   },
   "outputs": [
    {
     "name": "stdout",
     "output_type": "stream",
     "text": [
      "Setup complete.\n"
     ]
    },
    {
     "data": {
      "text/html": [
       "<div>\n",
       "<style scoped>\n",
       "    .dataframe tbody tr th:only-of-type {\n",
       "        vertical-align: middle;\n",
       "    }\n",
       "\n",
       "    .dataframe tbody tr th {\n",
       "        vertical-align: top;\n",
       "    }\n",
       "\n",
       "    .dataframe thead th {\n",
       "        text-align: right;\n",
       "    }\n",
       "</style>\n",
       "<table border=\"1\" class=\"dataframe\">\n",
       "  <thead>\n",
       "    <tr style=\"text-align: right;\">\n",
       "      <th></th>\n",
       "      <th>country</th>\n",
       "      <th>description</th>\n",
       "      <th>designation</th>\n",
       "      <th>points</th>\n",
       "      <th>price</th>\n",
       "      <th>province</th>\n",
       "      <th>region_1</th>\n",
       "      <th>region_2</th>\n",
       "      <th>taster_name</th>\n",
       "      <th>taster_twitter_handle</th>\n",
       "      <th>title</th>\n",
       "      <th>variety</th>\n",
       "      <th>winery</th>\n",
       "    </tr>\n",
       "  </thead>\n",
       "  <tbody>\n",
       "    <tr>\n",
       "      <th>0</th>\n",
       "      <td>Italy</td>\n",
       "      <td>Aromas include tropical fruit, broom, brimston...</td>\n",
       "      <td>Vulkà Bianco</td>\n",
       "      <td>87</td>\n",
       "      <td>NaN</td>\n",
       "      <td>Sicily &amp; Sardinia</td>\n",
       "      <td>Etna</td>\n",
       "      <td>NaN</td>\n",
       "      <td>Kerin O’Keefe</td>\n",
       "      <td>@kerinokeefe</td>\n",
       "      <td>Nicosia 2013 Vulkà Bianco  (Etna)</td>\n",
       "      <td>White Blend</td>\n",
       "      <td>Nicosia</td>\n",
       "    </tr>\n",
       "    <tr>\n",
       "      <th>1</th>\n",
       "      <td>Portugal</td>\n",
       "      <td>This is ripe and fruity, a wine that is smooth...</td>\n",
       "      <td>Avidagos</td>\n",
       "      <td>87</td>\n",
       "      <td>15.0</td>\n",
       "      <td>Douro</td>\n",
       "      <td>NaN</td>\n",
       "      <td>NaN</td>\n",
       "      <td>Roger Voss</td>\n",
       "      <td>@vossroger</td>\n",
       "      <td>Quinta dos Avidagos 2011 Avidagos Red (Douro)</td>\n",
       "      <td>Portuguese Red</td>\n",
       "      <td>Quinta dos Avidagos</td>\n",
       "    </tr>\n",
       "    <tr>\n",
       "      <th>2</th>\n",
       "      <td>US</td>\n",
       "      <td>Tart and snappy, the flavors of lime flesh and...</td>\n",
       "      <td>NaN</td>\n",
       "      <td>87</td>\n",
       "      <td>14.0</td>\n",
       "      <td>Oregon</td>\n",
       "      <td>Willamette Valley</td>\n",
       "      <td>Willamette Valley</td>\n",
       "      <td>Paul Gregutt</td>\n",
       "      <td>@paulgwine</td>\n",
       "      <td>Rainstorm 2013 Pinot Gris (Willamette Valley)</td>\n",
       "      <td>Pinot Gris</td>\n",
       "      <td>Rainstorm</td>\n",
       "    </tr>\n",
       "    <tr>\n",
       "      <th>3</th>\n",
       "      <td>US</td>\n",
       "      <td>Pineapple rind, lemon pith and orange blossom ...</td>\n",
       "      <td>Reserve Late Harvest</td>\n",
       "      <td>87</td>\n",
       "      <td>13.0</td>\n",
       "      <td>Michigan</td>\n",
       "      <td>Lake Michigan Shore</td>\n",
       "      <td>NaN</td>\n",
       "      <td>Alexander Peartree</td>\n",
       "      <td>NaN</td>\n",
       "      <td>St. Julian 2013 Reserve Late Harvest Riesling ...</td>\n",
       "      <td>Riesling</td>\n",
       "      <td>St. Julian</td>\n",
       "    </tr>\n",
       "    <tr>\n",
       "      <th>4</th>\n",
       "      <td>US</td>\n",
       "      <td>Much like the regular bottling from 2012, this...</td>\n",
       "      <td>Vintner's Reserve Wild Child Block</td>\n",
       "      <td>87</td>\n",
       "      <td>65.0</td>\n",
       "      <td>Oregon</td>\n",
       "      <td>Willamette Valley</td>\n",
       "      <td>Willamette Valley</td>\n",
       "      <td>Paul Gregutt</td>\n",
       "      <td>@paulgwine</td>\n",
       "      <td>Sweet Cheeks 2012 Vintner's Reserve Wild Child...</td>\n",
       "      <td>Pinot Noir</td>\n",
       "      <td>Sweet Cheeks</td>\n",
       "    </tr>\n",
       "  </tbody>\n",
       "</table>\n",
       "</div>"
      ],
      "text/plain": [
       "    country                                        description  \\\n",
       "0     Italy  Aromas include tropical fruit, broom, brimston...   \n",
       "1  Portugal  This is ripe and fruity, a wine that is smooth...   \n",
       "2        US  Tart and snappy, the flavors of lime flesh and...   \n",
       "3        US  Pineapple rind, lemon pith and orange blossom ...   \n",
       "4        US  Much like the regular bottling from 2012, this...   \n",
       "\n",
       "                          designation  points  price           province  \\\n",
       "0                        Vulkà Bianco      87    NaN  Sicily & Sardinia   \n",
       "1                            Avidagos      87   15.0              Douro   \n",
       "2                                 NaN      87   14.0             Oregon   \n",
       "3                Reserve Late Harvest      87   13.0           Michigan   \n",
       "4  Vintner's Reserve Wild Child Block      87   65.0             Oregon   \n",
       "\n",
       "              region_1           region_2         taster_name  \\\n",
       "0                 Etna                NaN       Kerin O’Keefe   \n",
       "1                  NaN                NaN          Roger Voss   \n",
       "2    Willamette Valley  Willamette Valley        Paul Gregutt   \n",
       "3  Lake Michigan Shore                NaN  Alexander Peartree   \n",
       "4    Willamette Valley  Willamette Valley        Paul Gregutt   \n",
       "\n",
       "  taster_twitter_handle                                              title  \\\n",
       "0          @kerinokeefe                  Nicosia 2013 Vulkà Bianco  (Etna)   \n",
       "1            @vossroger      Quinta dos Avidagos 2011 Avidagos Red (Douro)   \n",
       "2           @paulgwine       Rainstorm 2013 Pinot Gris (Willamette Valley)   \n",
       "3                   NaN  St. Julian 2013 Reserve Late Harvest Riesling ...   \n",
       "4           @paulgwine   Sweet Cheeks 2012 Vintner's Reserve Wild Child...   \n",
       "\n",
       "          variety               winery  \n",
       "0     White Blend              Nicosia  \n",
       "1  Portuguese Red  Quinta dos Avidagos  \n",
       "2      Pinot Gris            Rainstorm  \n",
       "3        Riesling           St. Julian  \n",
       "4      Pinot Noir         Sweet Cheeks  "
      ]
     },
     "execution_count": 1,
     "metadata": {},
     "output_type": "execute_result"
    }
   ],
   "source": [
    "import pandas as pd\n",
    "pd.set_option(\"display.max_rows\", 5)\n",
    "reviews = pd.read_csv(\"../input/wine-reviews/winemag-data-130k-v2.csv\", index_col=0)\n",
    "from learntools.core import binder; binder.bind(globals())\n",
    "from learntools.pandas.summary_functions_and_maps import *\n",
    "print(\"Setup complete.\")\n",
    "\n",
    "reviews.head()"
   ]
  },
  {
   "cell_type": "markdown",
   "id": "82be33e0",
   "metadata": {
    "papermill": {
     "duration": 0.021175,
     "end_time": "2022-02-09T18:19:53.994221",
     "exception": false,
     "start_time": "2022-02-09T18:19:53.973046",
     "status": "completed"
    },
    "tags": []
   },
   "source": [
    "# Exercises"
   ]
  },
  {
   "cell_type": "markdown",
   "id": "87a0d565",
   "metadata": {
    "papermill": {
     "duration": 0.021167,
     "end_time": "2022-02-09T18:19:54.037328",
     "exception": false,
     "start_time": "2022-02-09T18:19:54.016161",
     "status": "completed"
    },
    "tags": []
   },
   "source": [
    "## 1.\n",
    "\n",
    "What is the median of the `points` column in the `reviews` DataFrame?"
   ]
  },
  {
   "cell_type": "code",
   "execution_count": 2,
   "id": "57ab7a3c",
   "metadata": {
    "execution": {
     "iopub.execute_input": "2022-02-09T18:19:54.096993Z",
     "iopub.status.busy": "2022-02-09T18:19:54.095863Z",
     "iopub.status.idle": "2022-02-09T18:19:54.105859Z",
     "shell.execute_reply": "2022-02-09T18:19:54.105000Z",
     "shell.execute_reply.started": "2022-01-29T17:09:09.412437Z"
    },
    "papermill": {
     "duration": 0.046648,
     "end_time": "2022-02-09T18:19:54.106105",
     "exception": false,
     "start_time": "2022-02-09T18:19:54.059457",
     "status": "completed"
    },
    "tags": []
   },
   "outputs": [
    {
     "data": {
      "application/javascript": [
       "parent.postMessage({\"jupyterEvent\": \"custom.exercise_interaction\", \"data\": {\"outcomeType\": 1, \"valueTowardsCompletion\": 0.14285714285714285, \"interactionType\": 1, \"questionType\": 1, \"questionId\": \"1_MedianPoints\", \"learnToolsVersion\": \"0.3.4\", \"failureMessage\": \"\", \"exceptionClass\": \"\", \"trace\": \"\"}}, \"*\")"
      ],
      "text/plain": [
       "<IPython.core.display.Javascript object>"
      ]
     },
     "metadata": {},
     "output_type": "display_data"
    },
    {
     "data": {
      "text/markdown": [
       "<span style=\"color:#33cc33\">Correct</span>"
      ],
      "text/plain": [
       "Correct"
      ]
     },
     "metadata": {},
     "output_type": "display_data"
    },
    {
     "name": "stdout",
     "output_type": "stream",
     "text": [
      "Median of reviews is  88.0\n"
     ]
    }
   ],
   "source": [
    "median_points = reviews.points.median()\n",
    "# Check your answer\n",
    "q1.check()\n",
    "print(\"Median of reviews is \",median_points)"
   ]
  },
  {
   "cell_type": "code",
   "execution_count": 3,
   "id": "7ded9bd9",
   "metadata": {
    "execution": {
     "iopub.execute_input": "2022-02-09T18:19:54.170586Z",
     "iopub.status.busy": "2022-02-09T18:19:54.169537Z",
     "iopub.status.idle": "2022-02-09T18:19:54.172115Z",
     "shell.execute_reply": "2022-02-09T18:19:54.172646Z",
     "shell.execute_reply.started": "2022-01-15T07:56:19.68886Z"
    },
    "papermill": {
     "duration": 0.037122,
     "end_time": "2022-02-09T18:19:54.172841",
     "exception": false,
     "start_time": "2022-02-09T18:19:54.135719",
     "status": "completed"
    },
    "tags": []
   },
   "outputs": [],
   "source": [
    "#q1.hint()\n",
    "#q1.solution()"
   ]
  },
  {
   "cell_type": "markdown",
   "id": "c3f7b210",
   "metadata": {
    "papermill": {
     "duration": 0.02331,
     "end_time": "2022-02-09T18:19:54.225153",
     "exception": false,
     "start_time": "2022-02-09T18:19:54.201843",
     "status": "completed"
    },
    "tags": []
   },
   "source": [
    "## 2. \n",
    "What countries are represented in the dataset? (Your answer should not include any duplicates.)"
   ]
  },
  {
   "cell_type": "code",
   "execution_count": 4,
   "id": "eed485b2",
   "metadata": {
    "execution": {
     "iopub.execute_input": "2022-02-09T18:19:54.277119Z",
     "iopub.status.busy": "2022-02-09T18:19:54.276080Z",
     "iopub.status.idle": "2022-02-09T18:19:54.299970Z",
     "shell.execute_reply": "2022-02-09T18:19:54.300619Z",
     "shell.execute_reply.started": "2022-01-29T17:09:12.422771Z"
    },
    "papermill": {
     "duration": 0.051675,
     "end_time": "2022-02-09T18:19:54.300801",
     "exception": false,
     "start_time": "2022-02-09T18:19:54.249126",
     "status": "completed"
    },
    "tags": []
   },
   "outputs": [
    {
     "data": {
      "application/javascript": [
       "parent.postMessage({\"jupyterEvent\": \"custom.exercise_interaction\", \"data\": {\"outcomeType\": 1, \"valueTowardsCompletion\": 0.14285714285714285, \"interactionType\": 1, \"questionType\": 2, \"questionId\": \"2_UniqueCountries\", \"learnToolsVersion\": \"0.3.4\", \"failureMessage\": \"\", \"exceptionClass\": \"\", \"trace\": \"\"}}, \"*\")"
      ],
      "text/plain": [
       "<IPython.core.display.Javascript object>"
      ]
     },
     "metadata": {},
     "output_type": "display_data"
    },
    {
     "data": {
      "text/markdown": [
       "<span style=\"color:#33cc33\">Correct</span>"
      ],
      "text/plain": [
       "Correct"
      ]
     },
     "metadata": {},
     "output_type": "display_data"
    },
    {
     "data": {
      "text/plain": [
       "array(['Italy', 'Portugal', 'US', 'Spain', 'France', 'Germany',\n",
       "       'Argentina', 'Chile', 'Australia', 'Austria', 'South Africa',\n",
       "       'New Zealand', 'Israel', 'Hungary', 'Greece', 'Romania', 'Mexico',\n",
       "       'Canada', nan, 'Turkey', 'Czech Republic', 'Slovenia',\n",
       "       'Luxembourg', 'Croatia', 'Georgia', 'Uruguay', 'England',\n",
       "       'Lebanon', 'Serbia', 'Brazil', 'Moldova', 'Morocco', 'Peru',\n",
       "       'India', 'Bulgaria', 'Cyprus', 'Armenia', 'Switzerland',\n",
       "       'Bosnia and Herzegovina', 'Ukraine', 'Slovakia', 'Macedonia',\n",
       "       'China', 'Egypt'], dtype=object)"
      ]
     },
     "execution_count": 4,
     "metadata": {},
     "output_type": "execute_result"
    }
   ],
   "source": [
    "countries = reviews.country.unique()\n",
    "# Check your answer\n",
    "q2.check()\n",
    "countries"
   ]
  },
  {
   "cell_type": "code",
   "execution_count": 5,
   "id": "61b93f26",
   "metadata": {
    "execution": {
     "iopub.execute_input": "2022-02-09T18:19:54.352930Z",
     "iopub.status.busy": "2022-02-09T18:19:54.351783Z",
     "iopub.status.idle": "2022-02-09T18:19:54.355343Z",
     "shell.execute_reply": "2022-02-09T18:19:54.355937Z",
     "shell.execute_reply.started": "2022-01-15T07:56:19.73137Z"
    },
    "papermill": {
     "duration": 0.031417,
     "end_time": "2022-02-09T18:19:54.356116",
     "exception": false,
     "start_time": "2022-02-09T18:19:54.324699",
     "status": "completed"
    },
    "tags": []
   },
   "outputs": [],
   "source": [
    "#q2.hint()\n",
    "# q2.solution()"
   ]
  },
  {
   "cell_type": "markdown",
   "id": "a2de5570",
   "metadata": {
    "papermill": {
     "duration": 0.024915,
     "end_time": "2022-02-09T18:19:54.406866",
     "exception": false,
     "start_time": "2022-02-09T18:19:54.381951",
     "status": "completed"
    },
    "tags": []
   },
   "source": [
    "## 3.\n",
    "How often does each country appear in the dataset? Create a Series `reviews_per_country` mapping countries to the count of reviews of wines from that country."
   ]
  },
  {
   "cell_type": "code",
   "execution_count": 6,
   "id": "3dac6640",
   "metadata": {
    "execution": {
     "iopub.execute_input": "2022-02-09T18:19:54.460359Z",
     "iopub.status.busy": "2022-02-09T18:19:54.459211Z",
     "iopub.status.idle": "2022-02-09T18:19:54.490239Z",
     "shell.execute_reply": "2022-02-09T18:19:54.489544Z",
     "shell.execute_reply.started": "2022-01-29T17:09:14.871412Z"
    },
    "papermill": {
     "duration": 0.058721,
     "end_time": "2022-02-09T18:19:54.490411",
     "exception": false,
     "start_time": "2022-02-09T18:19:54.431690",
     "status": "completed"
    },
    "tags": []
   },
   "outputs": [
    {
     "data": {
      "application/javascript": [
       "parent.postMessage({\"jupyterEvent\": \"custom.exercise_interaction\", \"data\": {\"outcomeType\": 1, \"valueTowardsCompletion\": 0.14285714285714285, \"interactionType\": 1, \"questionType\": 1, \"questionId\": \"3_ReviewsPerCountry\", \"learnToolsVersion\": \"0.3.4\", \"failureMessage\": \"\", \"exceptionClass\": \"\", \"trace\": \"\"}}, \"*\")"
      ],
      "text/plain": [
       "<IPython.core.display.Javascript object>"
      ]
     },
     "metadata": {},
     "output_type": "display_data"
    },
    {
     "data": {
      "text/markdown": [
       "<span style=\"color:#33cc33\">Correct</span>"
      ],
      "text/plain": [
       "Correct"
      ]
     },
     "metadata": {},
     "output_type": "display_data"
    },
    {
     "data": {
      "text/plain": [
       "US        54504\n",
       "France    22093\n",
       "          ...  \n",
       "China         1\n",
       "Egypt         1\n",
       "Name: country, Length: 43, dtype: int64"
      ]
     },
     "execution_count": 6,
     "metadata": {},
     "output_type": "execute_result"
    }
   ],
   "source": [
    "reviews_per_country = reviews.country.value_counts()\n",
    "\n",
    "# Check your answer\n",
    "q3.check()\n",
    "reviews_per_country"
   ]
  },
  {
   "cell_type": "code",
   "execution_count": 7,
   "id": "7948d563",
   "metadata": {
    "execution": {
     "iopub.execute_input": "2022-02-09T18:19:54.548429Z",
     "iopub.status.busy": "2022-02-09T18:19:54.547692Z",
     "iopub.status.idle": "2022-02-09T18:19:54.549750Z",
     "shell.execute_reply": "2022-02-09T18:19:54.550293Z",
     "shell.execute_reply.started": "2022-01-15T07:56:19.776655Z"
    },
    "papermill": {
     "duration": 0.034127,
     "end_time": "2022-02-09T18:19:54.550502",
     "exception": false,
     "start_time": "2022-02-09T18:19:54.516375",
     "status": "completed"
    },
    "tags": []
   },
   "outputs": [],
   "source": [
    "# q3.hint()\n",
    "# q3.solution()"
   ]
  },
  {
   "cell_type": "markdown",
   "id": "6b9e2887",
   "metadata": {
    "papermill": {
     "duration": 0.025057,
     "end_time": "2022-02-09T18:19:54.600512",
     "exception": false,
     "start_time": "2022-02-09T18:19:54.575455",
     "status": "completed"
    },
    "tags": []
   },
   "source": [
    "## 4.\n",
    "Create variable `centered_price` containing a version of the `price` column with the mean price subtracted.\n",
    "\n",
    "(Note: this 'centering' transformation is a common preprocessing step before applying various machine learning algorithms.) "
   ]
  },
  {
   "cell_type": "code",
   "execution_count": 8,
   "id": "274ceae0",
   "metadata": {
    "execution": {
     "iopub.execute_input": "2022-02-09T18:19:54.657587Z",
     "iopub.status.busy": "2022-02-09T18:19:54.656854Z",
     "iopub.status.idle": "2022-02-09T18:19:54.669089Z",
     "shell.execute_reply": "2022-02-09T18:19:54.669672Z",
     "shell.execute_reply.started": "2022-01-29T17:09:16.990595Z"
    },
    "papermill": {
     "duration": 0.042635,
     "end_time": "2022-02-09T18:19:54.669857",
     "exception": false,
     "start_time": "2022-02-09T18:19:54.627222",
     "status": "completed"
    },
    "tags": []
   },
   "outputs": [
    {
     "data": {
      "application/javascript": [
       "parent.postMessage({\"jupyterEvent\": \"custom.exercise_interaction\", \"data\": {\"outcomeType\": 1, \"valueTowardsCompletion\": 0.14285714285714285, \"interactionType\": 1, \"questionType\": 1, \"questionId\": \"4_CenteredPrice\", \"learnToolsVersion\": \"0.3.4\", \"failureMessage\": \"\", \"exceptionClass\": \"\", \"trace\": \"\"}}, \"*\")"
      ],
      "text/plain": [
       "<IPython.core.display.Javascript object>"
      ]
     },
     "metadata": {},
     "output_type": "display_data"
    },
    {
     "data": {
      "text/markdown": [
       "<span style=\"color:#33cc33\">Correct</span>"
      ],
      "text/plain": [
       "Correct"
      ]
     },
     "metadata": {},
     "output_type": "display_data"
    },
    {
     "data": {
      "text/plain": [
       "0               NaN\n",
       "1        -20.363389\n",
       "            ...    \n",
       "129969    -3.363389\n",
       "129970   -14.363389\n",
       "Name: price, Length: 129971, dtype: float64"
      ]
     },
     "execution_count": 8,
     "metadata": {},
     "output_type": "execute_result"
    }
   ],
   "source": [
    "review_mean = reviews.price.mean()\n",
    "centered_price =  reviews.price - review_mean\n",
    "# Check your answer\n",
    "q4.check()\n",
    "centered_price"
   ]
  },
  {
   "cell_type": "code",
   "execution_count": 9,
   "id": "3361ff43",
   "metadata": {
    "execution": {
     "iopub.execute_input": "2022-02-09T18:19:54.729125Z",
     "iopub.status.busy": "2022-02-09T18:19:54.728353Z",
     "iopub.status.idle": "2022-02-09T18:19:54.731269Z",
     "shell.execute_reply": "2022-02-09T18:19:54.731871Z",
     "shell.execute_reply.started": "2022-01-15T07:56:19.805108Z"
    },
    "papermill": {
     "duration": 0.034458,
     "end_time": "2022-02-09T18:19:54.732053",
     "exception": false,
     "start_time": "2022-02-09T18:19:54.697595",
     "status": "completed"
    },
    "tags": []
   },
   "outputs": [],
   "source": [
    "# q4.hint()\n",
    "# q4.solution()"
   ]
  },
  {
   "cell_type": "markdown",
   "id": "c19e94a9",
   "metadata": {
    "papermill": {
     "duration": 0.028336,
     "end_time": "2022-02-09T18:19:54.787360",
     "exception": false,
     "start_time": "2022-02-09T18:19:54.759024",
     "status": "completed"
    },
    "tags": []
   },
   "source": [
    "## 5.\n",
    "I'm an economical wine buyer. Which wine is the \"best bargain\"? Create a variable `bargain_wine` with the title of the wine with the highest points-to-price ratio in the dataset."
   ]
  },
  {
   "cell_type": "markdown",
   "id": "1122335f",
   "metadata": {
    "papermill": {
     "duration": 0.027012,
     "end_time": "2022-02-09T18:19:54.842384",
     "exception": false,
     "start_time": "2022-02-09T18:19:54.815372",
     "status": "completed"
    },
    "tags": []
   },
   "source": []
  },
  {
   "cell_type": "code",
   "execution_count": 10,
   "id": "a81ee7b5",
   "metadata": {
    "execution": {
     "iopub.execute_input": "2022-02-09T18:19:54.899936Z",
     "iopub.status.busy": "2022-02-09T18:19:54.899233Z",
     "iopub.status.idle": "2022-02-09T18:19:54.913030Z",
     "shell.execute_reply": "2022-02-09T18:19:54.913569Z",
     "shell.execute_reply.started": "2022-01-29T17:09:19.698262Z"
    },
    "papermill": {
     "duration": 0.04466,
     "end_time": "2022-02-09T18:19:54.913767",
     "exception": false,
     "start_time": "2022-02-09T18:19:54.869107",
     "status": "completed"
    },
    "tags": []
   },
   "outputs": [
    {
     "data": {
      "application/javascript": [
       "parent.postMessage({\"jupyterEvent\": \"custom.exercise_interaction\", \"data\": {\"outcomeType\": 1, \"valueTowardsCompletion\": 0.14285714285714285, \"interactionType\": 1, \"questionType\": 2, \"questionId\": \"5_BargainWine\", \"learnToolsVersion\": \"0.3.4\", \"failureMessage\": \"\", \"exceptionClass\": \"\", \"trace\": \"\"}}, \"*\")"
      ],
      "text/plain": [
       "<IPython.core.display.Javascript object>"
      ]
     },
     "metadata": {},
     "output_type": "display_data"
    },
    {
     "data": {
      "text/markdown": [
       "<span style=\"color:#33cc33\">Correct</span>"
      ],
      "text/plain": [
       "Correct"
      ]
     },
     "metadata": {},
     "output_type": "display_data"
    },
    {
     "data": {
      "text/plain": [
       "'Bandit NV Merlot (California)'"
      ]
     },
     "execution_count": 10,
     "metadata": {},
     "output_type": "execute_result"
    }
   ],
   "source": [
    "# Method 1 :\n",
    "x = reviews.price/reviews.points\n",
    "max_raio_id = x.idxmin()\n",
    "\n",
    "# max_raio_row = reviews.loc[max_raio_id]\n",
    "# bargain_wine = max_raio_row['title']\n",
    "bargain_wine = reviews.loc[max_raio_id,'title']\n",
    "# Method 2 :\n",
    "# bargain_idx = (reviews.points / reviews.price).idxmax()\n",
    "# bargain_wine = reviews.loc[bargain_idx, 'title']\n",
    "\n",
    "# Check your answer\n",
    "q5.check()\n",
    "bargain_wine"
   ]
  },
  {
   "cell_type": "code",
   "execution_count": 11,
   "id": "28640043",
   "metadata": {
    "execution": {
     "iopub.execute_input": "2022-02-09T18:19:54.976187Z",
     "iopub.status.busy": "2022-02-09T18:19:54.975472Z",
     "iopub.status.idle": "2022-02-09T18:19:54.978417Z",
     "shell.execute_reply": "2022-02-09T18:19:54.978989Z",
     "shell.execute_reply.started": "2022-01-15T07:56:19.835238Z"
    },
    "papermill": {
     "duration": 0.034081,
     "end_time": "2022-02-09T18:19:54.979189",
     "exception": false,
     "start_time": "2022-02-09T18:19:54.945108",
     "status": "completed"
    },
    "tags": []
   },
   "outputs": [],
   "source": [
    "# q5.hint()\n",
    "# q5.solution()"
   ]
  },
  {
   "cell_type": "markdown",
   "id": "0a7b1c86",
   "metadata": {
    "papermill": {
     "duration": 0.028456,
     "end_time": "2022-02-09T18:19:55.038231",
     "exception": false,
     "start_time": "2022-02-09T18:19:55.009775",
     "status": "completed"
    },
    "tags": []
   },
   "source": [
    "## 6.\n",
    "There are only so many words you can use when describing a bottle of wine. Is a wine more likely to be \"tropical\" or \"fruity\"? Create a Series `descriptor_counts` counting how many times each of these two words appears in the `description` column in the dataset. (For simplicity, let's ignore the capitalized versions of these words.)"
   ]
  },
  {
   "cell_type": "markdown",
   "id": "c9d1990f",
   "metadata": {
    "papermill": {
     "duration": 0.029007,
     "end_time": "2022-02-09T18:19:55.096049",
     "exception": false,
     "start_time": "2022-02-09T18:19:55.067042",
     "status": "completed"
    },
    "tags": []
   },
   "source": []
  },
  {
   "cell_type": "code",
   "execution_count": 12,
   "id": "ad002dab",
   "metadata": {
    "execution": {
     "iopub.execute_input": "2022-02-09T18:19:55.157531Z",
     "iopub.status.busy": "2022-02-09T18:19:55.156792Z",
     "iopub.status.idle": "2022-02-09T18:19:55.317121Z",
     "shell.execute_reply": "2022-02-09T18:19:55.316434Z",
     "shell.execute_reply.started": "2022-01-29T17:09:22.218457Z"
    },
    "papermill": {
     "duration": 0.191946,
     "end_time": "2022-02-09T18:19:55.317282",
     "exception": false,
     "start_time": "2022-02-09T18:19:55.125336",
     "status": "completed"
    },
    "tags": []
   },
   "outputs": [
    {
     "data": {
      "application/javascript": [
       "parent.postMessage({\"jupyterEvent\": \"custom.exercise_interaction\", \"data\": {\"outcomeType\": 1, \"valueTowardsCompletion\": 0.14285714285714285, \"interactionType\": 1, \"questionType\": 1, \"questionId\": \"6_DescriptorCounts\", \"learnToolsVersion\": \"0.3.4\", \"failureMessage\": \"\", \"exceptionClass\": \"\", \"trace\": \"\"}}, \"*\")"
      ],
      "text/plain": [
       "<IPython.core.display.Javascript object>"
      ]
     },
     "metadata": {},
     "output_type": "display_data"
    },
    {
     "data": {
      "text/markdown": [
       "<span style=\"color:#33cc33\">Correct</span>"
      ],
      "text/plain": [
       "Correct"
      ]
     },
     "metadata": {},
     "output_type": "display_data"
    },
    {
     "data": {
      "text/plain": [
       "tropical    3607\n",
       "fruity      9090\n",
       "dtype: int64"
      ]
     },
     "execution_count": 12,
     "metadata": {},
     "output_type": "execute_result"
    }
   ],
   "source": [
    "# HINT : Use a map .\n",
    "tropical = reviews.description.map(lambda desc: \"tropical\" in desc).sum()\n",
    "fruity = reviews.description.map(lambda desc: \"fruity\" in desc).sum()\n",
    "descriptor_counts = pd.Series([tropical, fruity], index=['tropical', 'fruity'])\n",
    "# Check your answer\n",
    "q6.check()\n",
    "descriptor_counts"
   ]
  },
  {
   "cell_type": "code",
   "execution_count": 13,
   "id": "9e3cbb6b",
   "metadata": {
    "execution": {
     "iopub.execute_input": "2022-02-09T18:19:55.378945Z",
     "iopub.status.busy": "2022-02-09T18:19:55.378289Z",
     "iopub.status.idle": "2022-02-09T18:19:55.381191Z",
     "shell.execute_reply": "2022-02-09T18:19:55.381745Z"
    },
    "papermill": {
     "duration": 0.035064,
     "end_time": "2022-02-09T18:19:55.381938",
     "exception": false,
     "start_time": "2022-02-09T18:19:55.346874",
     "status": "completed"
    },
    "tags": []
   },
   "outputs": [],
   "source": [
    "# q6.hint()\n",
    "# q6.solution()"
   ]
  },
  {
   "cell_type": "markdown",
   "id": "2c1f27a2",
   "metadata": {
    "papermill": {
     "duration": 0.029895,
     "end_time": "2022-02-09T18:19:55.441655",
     "exception": false,
     "start_time": "2022-02-09T18:19:55.411760",
     "status": "completed"
    },
    "tags": []
   },
   "source": [
    "## 7.\n",
    "We'd like to host these wine reviews on our website, but a rating system ranging from 80 to 100 points is too hard to understand - we'd like to translate them into simple star ratings. A score of 95 or higher counts as 3 stars, a score of at least 85 but less than 95 is 2 stars. Any other score is 1 star.\n",
    "\n",
    "Also, the Canadian Vintners Association bought a lot of ads on the site, so any wines from Canada should automatically get 3 stars, regardless of points.\n",
    "\n",
    "Create a series `star_ratings` with the number of stars corresponding to each review in the dataset."
   ]
  },
  {
   "cell_type": "code",
   "execution_count": 14,
   "id": "15ae767a",
   "metadata": {
    "execution": {
     "iopub.execute_input": "2022-02-09T18:19:55.505603Z",
     "iopub.status.busy": "2022-02-09T18:19:55.504861Z",
     "iopub.status.idle": "2022-02-09T18:20:00.613175Z",
     "shell.execute_reply": "2022-02-09T18:20:00.612588Z",
     "shell.execute_reply.started": "2022-01-29T17:09:24.090423Z"
    },
    "papermill": {
     "duration": 5.142162,
     "end_time": "2022-02-09T18:20:00.613319",
     "exception": false,
     "start_time": "2022-02-09T18:19:55.471157",
     "status": "completed"
    },
    "tags": []
   },
   "outputs": [
    {
     "data": {
      "application/javascript": [
       "parent.postMessage({\"jupyterEvent\": \"custom.exercise_interaction\", \"data\": {\"outcomeType\": 1, \"valueTowardsCompletion\": 0.14285714285714285, \"interactionType\": 1, \"questionType\": 1, \"questionId\": \"7_StarRatings\", \"learnToolsVersion\": \"0.3.4\", \"failureMessage\": \"\", \"exceptionClass\": \"\", \"trace\": \"\"}}, \"*\")"
      ],
      "text/plain": [
       "<IPython.core.display.Javascript object>"
      ]
     },
     "metadata": {},
     "output_type": "display_data"
    },
    {
     "data": {
      "text/markdown": [
       "<span style=\"color:#33cc33\">Correct</span>"
      ],
      "text/plain": [
       "Correct"
      ]
     },
     "metadata": {},
     "output_type": "display_data"
    },
    {
     "data": {
      "text/plain": [
       "0         2\n",
       "1         2\n",
       "         ..\n",
       "129969    2\n",
       "129970    2\n",
       "Length: 129971, dtype: int64"
      ]
     },
     "execution_count": 14,
     "metadata": {},
     "output_type": "execute_result"
    }
   ],
   "source": [
    "def Stars_Checking(row):\n",
    "    if row.country == 'Canada':\n",
    "        return 3\n",
    "    elif row.points >= 95:\n",
    "        return 3\n",
    "    elif row.points >= 85:\n",
    "        return 2\n",
    "    else:\n",
    "        return 1\n",
    "\n",
    "star_ratings = reviews.apply(Stars_Checking, axis='columns')\n",
    "\n",
    "\n",
    "# Check your answer\n",
    "q7.check()\n",
    "star_ratings"
   ]
  },
  {
   "cell_type": "code",
   "execution_count": 15,
   "id": "5dd992e8",
   "metadata": {
    "execution": {
     "iopub.execute_input": "2022-02-09T18:20:00.685355Z",
     "iopub.status.busy": "2022-02-09T18:20:00.684682Z",
     "iopub.status.idle": "2022-02-09T18:20:00.686088Z",
     "shell.execute_reply": "2022-02-09T18:20:00.686710Z"
    },
    "papermill": {
     "duration": 0.039849,
     "end_time": "2022-02-09T18:20:00.686886",
     "exception": false,
     "start_time": "2022-02-09T18:20:00.647037",
     "status": "completed"
    },
    "tags": []
   },
   "outputs": [],
   "source": [
    "# q7.hint()\n",
    "# q7.solution()"
   ]
  },
  {
   "cell_type": "markdown",
   "id": "bed0259f",
   "metadata": {
    "execution": {
     "iopub.execute_input": "2022-01-15T08:01:24.928645Z",
     "iopub.status.busy": "2022-01-15T08:01:24.927741Z",
     "iopub.status.idle": "2022-01-15T08:01:24.932753Z",
     "shell.execute_reply": "2022-01-15T08:01:24.931951Z",
     "shell.execute_reply.started": "2022-01-15T08:01:24.9286Z"
    },
    "papermill": {
     "duration": 0.033797,
     "end_time": "2022-02-09T18:20:00.753585",
     "exception": false,
     "start_time": "2022-02-09T18:20:00.719788",
     "status": "completed"
    },
    "tags": []
   },
   "source": [
    "### Thank You!"
   ]
  },
  {
   "cell_type": "markdown",
   "id": "1fa932c0",
   "metadata": {
    "papermill": {
     "duration": 0.033184,
     "end_time": "2022-02-09T18:20:00.818839",
     "exception": false,
     "start_time": "2022-02-09T18:20:00.785655",
     "status": "completed"
    },
    "tags": []
   },
   "source": []
  },
  {
   "cell_type": "markdown",
   "id": "a62dbcd1",
   "metadata": {
    "papermill": {
     "duration": 0.032231,
     "end_time": "2022-02-09T18:20:00.885649",
     "exception": false,
     "start_time": "2022-02-09T18:20:00.853418",
     "status": "completed"
    },
    "tags": []
   },
   "source": [
    "# Keep going\n",
    "Continue to **[grouping and sorting](https://www.kaggle.com/residentmario/grouping-and-sorting)**."
   ]
  },
  {
   "cell_type": "markdown",
   "id": "9acd780f",
   "metadata": {
    "papermill": {
     "duration": 0.033009,
     "end_time": "2022-02-09T18:20:00.951721",
     "exception": false,
     "start_time": "2022-02-09T18:20:00.918712",
     "status": "completed"
    },
    "tags": []
   },
   "source": [
    "---\n",
    "\n",
    "\n",
    "\n",
    "\n",
    "*Have questions or comments? Visit the [course discussion forum](https://www.kaggle.com/learn/pandas/discussion) to chat with other learners.*"
   ]
  }
 ],
 "metadata": {
  "kernelspec": {
   "display_name": "Python 3",
   "language": "python",
   "name": "python3"
  },
  "language_info": {
   "codemirror_mode": {
    "name": "ipython",
    "version": 3
   },
   "file_extension": ".py",
   "mimetype": "text/x-python",
   "name": "python",
   "nbconvert_exporter": "python",
   "pygments_lexer": "ipython3",
   "version": "3.7.12"
  },
  "papermill": {
   "default_parameters": {},
   "duration": 28.525719,
   "end_time": "2022-02-09T18:20:01.794507",
   "environment_variables": {},
   "exception": null,
   "input_path": "__notebook__.ipynb",
   "output_path": "__notebook__.ipynb",
   "parameters": {},
   "start_time": "2022-02-09T18:19:33.268788",
   "version": "2.3.3"
  }
 },
 "nbformat": 4,
 "nbformat_minor": 5
}
